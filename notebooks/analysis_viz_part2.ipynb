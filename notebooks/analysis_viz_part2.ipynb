{
 "cells": [
  {
   "cell_type": "markdown",
   "metadata": {},
   "source": [
    "# Project Psyched: A Closer Look Into Reproducibility In Psychological Research\n",
    "\n",
    "## Data Analysis & Visualization Script: Part 2 - Test Statistics & Recalcuating P-Values\n",
    "This script for data analysis and visualization after data has been scraped from TDM Studio. This part of the project utilizes the full corpus of both #1 and #2.\n",
    "\n",
    "Author: Yuyang Zhong (2020). This work is licensed under a [Creative Commons BY-NC-SA 4.0 International\n",
    "License][cc-by].\n",
    "\n",
    "![CC BY-NC-SA 4.0][cc-by-shield]\n",
    "\n",
    "[cc-by]: http://creativecommons.org/licenses/by/4.0/\n",
    "[cc-by-shield]: https://img.shields.io/badge/license-CC--BY--NC--SA%204.0-blue"
   ]
  },
  {
   "cell_type": "markdown",
   "metadata": {},
   "source": [
    "#### Setup & Imports"
   ]
  },
  {
   "cell_type": "code",
   "execution_count": 1,
   "metadata": {},
   "outputs": [],
   "source": [
    "import json\n",
    "import itertools\n",
    "import numpy as np\n",
    "import pandas as pd\n",
    "import matplotlib.pyplot as plt\n",
    "import seaborn as sns\n",
    "import re\n",
    "import ast\n",
    "\n",
    "from scipy import stats"
   ]
  },
  {
   "cell_type": "code",
   "execution_count": 2,
   "metadata": {},
   "outputs": [],
   "source": [
    "in_path = \"../data/\"\n",
    "in_name = \"stats_all.csv\""
   ]
  },
  {
   "cell_type": "code",
   "execution_count": 3,
   "metadata": {
    "scrolled": false
   },
   "outputs": [
    {
     "data": {
      "text/html": [
       "<div>\n",
       "<style scoped>\n",
       "    .dataframe tbody tr th:only-of-type {\n",
       "        vertical-align: middle;\n",
       "    }\n",
       "\n",
       "    .dataframe tbody tr th {\n",
       "        vertical-align: top;\n",
       "    }\n",
       "\n",
       "    .dataframe thead th {\n",
       "        text-align: right;\n",
       "    }\n",
       "</style>\n",
       "<table border=\"1\" class=\"dataframe\">\n",
       "  <thead>\n",
       "    <tr style=\"text-align: right;\">\n",
       "      <th></th>\n",
       "      <th>Original</th>\n",
       "      <th>Type</th>\n",
       "      <th>Sign</th>\n",
       "      <th>Reported p-value</th>\n",
       "      <th>Recalculated p-value</th>\n",
       "    </tr>\n",
       "    <tr>\n",
       "      <th>File</th>\n",
       "      <th></th>\n",
       "      <th></th>\n",
       "      <th></th>\n",
       "      <th></th>\n",
       "      <th></th>\n",
       "    </tr>\n",
       "  </thead>\n",
       "  <tbody>\n",
       "    <tr>\n",
       "      <th>614337945.xml</th>\n",
       "      <td>t   (41)   = 4.10,    p   &lt; .01</td>\n",
       "      <td>t</td>\n",
       "      <td>&lt;</td>\n",
       "      <td>0.01</td>\n",
       "      <td>9.531027e-05</td>\n",
       "    </tr>\n",
       "    <tr>\n",
       "      <th>614337945.xml</th>\n",
       "      <td>t   (41)   = −3.56,    p   &lt; .01</td>\n",
       "      <td>t</td>\n",
       "      <td>&lt;</td>\n",
       "      <td>0.01</td>\n",
       "      <td>9.995224e-01</td>\n",
       "    </tr>\n",
       "    <tr>\n",
       "      <th>614337945.xml</th>\n",
       "      <td>t   (41)   = 8.21,    p   &lt; .01</td>\n",
       "      <td>t</td>\n",
       "      <td>&lt;</td>\n",
       "      <td>0.01</td>\n",
       "      <td>1.708961e-10</td>\n",
       "    </tr>\n",
       "    <tr>\n",
       "      <th>614337945.xml</th>\n",
       "      <td>t   (41)   = 4.82,    p   &lt; .01</td>\n",
       "      <td>t</td>\n",
       "      <td>&lt;</td>\n",
       "      <td>0.01</td>\n",
       "      <td>9.987600e-06</td>\n",
       "    </tr>\n",
       "    <tr>\n",
       "      <th>614337945.xml</th>\n",
       "      <td>t   (41)   = −2.57,    p   &lt; .01</td>\n",
       "      <td>t</td>\n",
       "      <td>&lt;</td>\n",
       "      <td>0.01</td>\n",
       "      <td>9.930493e-01</td>\n",
       "    </tr>\n",
       "  </tbody>\n",
       "</table>\n",
       "</div>"
      ],
      "text/plain": [
       "                                       Original Type Sign  Reported p-value  \\\n",
       "File                                                                          \n",
       "614337945.xml   t   (41)   = 4.10,    p   < .01    t    <              0.01   \n",
       "614337945.xml  t   (41)   = −3.56,    p   < .01    t    <              0.01   \n",
       "614337945.xml   t   (41)   = 8.21,    p   < .01    t    <              0.01   \n",
       "614337945.xml   t   (41)   = 4.82,    p   < .01    t    <              0.01   \n",
       "614337945.xml  t   (41)   = −2.57,    p   < .01    t    <              0.01   \n",
       "\n",
       "               Recalculated p-value  \n",
       "File                                 \n",
       "614337945.xml          9.531027e-05  \n",
       "614337945.xml          9.995224e-01  \n",
       "614337945.xml          1.708961e-10  \n",
       "614337945.xml          9.987600e-06  \n",
       "614337945.xml          9.930493e-01  "
      ]
     },
     "execution_count": 3,
     "metadata": {},
     "output_type": "execute_result"
    }
   ],
   "source": [
    "df = pd.read_csv(in_path + in_name, index_col=1).drop('Unnamed: 0', axis=1)\n",
    "df.head()"
   ]
  },
  {
   "cell_type": "code",
   "execution_count": 17,
   "metadata": {},
   "outputs": [
    {
     "data": {
      "text/plain": [
       "1640024140.xml    404\n",
       "2316529621.xml    320\n",
       "2259585220.xml    224\n",
       "1824548299.xml    170\n",
       "614498611.xml     168\n",
       "                 ... \n",
       "614344891.xml       1\n",
       "614329345.xml       1\n",
       "1314700380.xml      1\n",
       "2084021455.xml      1\n",
       "614332887.xml       1\n",
       "Name: File, Length: 13220, dtype: int64"
      ]
     },
     "execution_count": 17,
     "metadata": {},
     "output_type": "execute_result"
    }
   ],
   "source": [
    "df.index.value_counts()"
   ]
  },
  {
   "cell_type": "markdown",
   "metadata": {},
   "source": [
    "#### Import Metadata"
   ]
  },
  {
   "cell_type": "code",
   "execution_count": 4,
   "metadata": {},
   "outputs": [
    {
     "data": {
      "text/html": [
       "<div>\n",
       "<style scoped>\n",
       "    .dataframe tbody tr th:only-of-type {\n",
       "        vertical-align: middle;\n",
       "    }\n",
       "\n",
       "    .dataframe tbody tr th {\n",
       "        vertical-align: top;\n",
       "    }\n",
       "\n",
       "    .dataframe thead th {\n",
       "        text-align: right;\n",
       "    }\n",
       "</style>\n",
       "<table border=\"1\" class=\"dataframe\">\n",
       "  <thead>\n",
       "    <tr style=\"text-align: right;\">\n",
       "      <th></th>\n",
       "      <th>Journal</th>\n",
       "      <th>Date Published</th>\n",
       "    </tr>\n",
       "  </thead>\n",
       "  <tbody>\n",
       "    <tr>\n",
       "      <th>614337945.xml</th>\n",
       "      <td>Journal of Personality and Social Psychology</td>\n",
       "      <td>1987-03-01</td>\n",
       "    </tr>\n",
       "    <tr>\n",
       "      <th>1647028895.xml</th>\n",
       "      <td>Journal of Personality and Social Psychology</td>\n",
       "      <td>2015-01-01</td>\n",
       "    </tr>\n",
       "    <tr>\n",
       "      <th>614404963.xml</th>\n",
       "      <td>Journal of Personality and Social Psychology</td>\n",
       "      <td>2002-07-01</td>\n",
       "    </tr>\n",
       "    <tr>\n",
       "      <th>614332724.xml</th>\n",
       "      <td>Journal of Personality and Social Psychology</td>\n",
       "      <td>1997-11-01</td>\n",
       "    </tr>\n",
       "    <tr>\n",
       "      <th>614304222.xml</th>\n",
       "      <td>Journal of Personality and Social Psychology</td>\n",
       "      <td>1990-11-01</td>\n",
       "    </tr>\n",
       "  </tbody>\n",
       "</table>\n",
       "</div>"
      ],
      "text/plain": [
       "                                                     Journal Date Published\n",
       "614337945.xml   Journal of Personality and Social Psychology     1987-03-01\n",
       "1647028895.xml  Journal of Personality and Social Psychology     2015-01-01\n",
       "614404963.xml   Journal of Personality and Social Psychology     2002-07-01\n",
       "614332724.xml   Journal of Personality and Social Psychology     1997-11-01\n",
       "614304222.xml   Journal of Personality and Social Psychology     1990-11-01"
      ]
     },
     "execution_count": 4,
     "metadata": {},
     "output_type": "execute_result"
    }
   ],
   "source": [
    "meta = pd.read_csv(in_path + \"metadata_all.csv\", index_col=0)\n",
    "meta = meta[['Journal', 'Date Published']]\n",
    "meta.head()"
   ]
  },
  {
   "cell_type": "markdown",
   "metadata": {},
   "source": [
    "#### Standardize Journal of Abnormal Psychology"
   ]
  },
  {
   "cell_type": "code",
   "execution_count": 5,
   "metadata": {},
   "outputs": [
    {
     "data": {
      "text/plain": [
       "American Psychologist                                                  7935\n",
       "Journal of Applied Psychology                                          6421\n",
       "Journal of Personality and Social Psychology                           6048\n",
       "Developmental Psychology                                               2074\n",
       "Journal of Abnormal Psychology                                         1758\n",
       "The Journal of Abnormal Psychology                                      610\n",
       "Journal of Experimental Psychology: Learning, Memory, and Cognition     169\n",
       "Journal of Experimental Social Psychology                                 1\n",
       "Name: Journal, dtype: int64"
      ]
     },
     "execution_count": 5,
     "metadata": {},
     "output_type": "execute_result"
    }
   ],
   "source": [
    "meta['Journal'].value_counts()"
   ]
  },
  {
   "cell_type": "code",
   "execution_count": 6,
   "metadata": {},
   "outputs": [
    {
     "data": {
      "text/plain": [
       "American Psychologist                                                  7935\n",
       "Journal of Applied Psychology                                          6421\n",
       "Journal of Personality and Social Psychology                           6048\n",
       "Journal of Abnormal Psychology                                         2368\n",
       "Developmental Psychology                                               2074\n",
       "Journal of Experimental Psychology: Learning, Memory, and Cognition     169\n",
       "Journal of Experimental Social Psychology                                 1\n",
       "Name: Journal, dtype: int64"
      ]
     },
     "execution_count": 6,
     "metadata": {},
     "output_type": "execute_result"
    }
   ],
   "source": [
    "meta['Journal'] = meta['Journal'].replace('The Journal of Abnormal Psychology', 'Journal of Abnormal Psychology')\n",
    "meta['Journal'].value_counts()"
   ]
  },
  {
   "cell_type": "markdown",
   "metadata": {},
   "source": [
    "#### Merge metadata with statistics data frame"
   ]
  },
  {
   "cell_type": "code",
   "execution_count": 34,
   "metadata": {},
   "outputs": [
    {
     "data": {
      "text/html": [
       "<div>\n",
       "<style scoped>\n",
       "    .dataframe tbody tr th:only-of-type {\n",
       "        vertical-align: middle;\n",
       "    }\n",
       "\n",
       "    .dataframe tbody tr th {\n",
       "        vertical-align: top;\n",
       "    }\n",
       "\n",
       "    .dataframe thead th {\n",
       "        text-align: right;\n",
       "    }\n",
       "</style>\n",
       "<table border=\"1\" class=\"dataframe\">\n",
       "  <thead>\n",
       "    <tr style=\"text-align: right;\">\n",
       "      <th></th>\n",
       "      <th>Original</th>\n",
       "      <th>Type</th>\n",
       "      <th>Sign</th>\n",
       "      <th>Reported p-value</th>\n",
       "      <th>Recalculated p-value</th>\n",
       "      <th>Journal</th>\n",
       "      <th>Date Published</th>\n",
       "    </tr>\n",
       "  </thead>\n",
       "  <tbody>\n",
       "    <tr>\n",
       "      <th>1011297993.xml</th>\n",
       "      <td>F(1, 137) = 0.01, p = .906</td>\n",
       "      <td>f</td>\n",
       "      <td>=</td>\n",
       "      <td>0.9060</td>\n",
       "      <td>9.204905e-01</td>\n",
       "      <td>NaN</td>\n",
       "      <td>NaN</td>\n",
       "    </tr>\n",
       "    <tr>\n",
       "      <th>1011297993.xml</th>\n",
       "      <td>F(1, 139) = 2.46, p = .119</td>\n",
       "      <td>f</td>\n",
       "      <td>=</td>\n",
       "      <td>0.1190</td>\n",
       "      <td>1.190525e-01</td>\n",
       "      <td>NaN</td>\n",
       "      <td>NaN</td>\n",
       "    </tr>\n",
       "    <tr>\n",
       "      <th>1011297999.xml</th>\n",
       "      <td>F(1, 40) = 7.90, p &lt; .01</td>\n",
       "      <td>f</td>\n",
       "      <td>&lt;</td>\n",
       "      <td>0.0100</td>\n",
       "      <td>7.617572e-03</td>\n",
       "      <td>Journal of Personality and Social Psychology</td>\n",
       "      <td>2012-07-01</td>\n",
       "    </tr>\n",
       "    <tr>\n",
       "      <th>1011297999.xml</th>\n",
       "      <td>F(1, 40) = 8.85, p &lt; .01</td>\n",
       "      <td>f</td>\n",
       "      <td>&lt;</td>\n",
       "      <td>0.0100</td>\n",
       "      <td>4.950714e-03</td>\n",
       "      <td>Journal of Personality and Social Psychology</td>\n",
       "      <td>2012-07-01</td>\n",
       "    </tr>\n",
       "    <tr>\n",
       "      <th>1011297999.xml</th>\n",
       "      <td>F(1, 113) = 66.53, p &lt; .0001</td>\n",
       "      <td>f</td>\n",
       "      <td>&lt;</td>\n",
       "      <td>0.0001</td>\n",
       "      <td>5.296874e-13</td>\n",
       "      <td>Journal of Personality and Social Psychology</td>\n",
       "      <td>2012-07-01</td>\n",
       "    </tr>\n",
       "  </tbody>\n",
       "</table>\n",
       "</div>"
      ],
      "text/plain": [
       "                                    Original Type Sign  Reported p-value  \\\n",
       "1011297993.xml    F(1, 137) = 0.01, p = .906    f    =            0.9060   \n",
       "1011297993.xml    F(1, 139) = 2.46, p = .119    f    =            0.1190   \n",
       "1011297999.xml      F(1, 40) = 7.90, p < .01    f    <            0.0100   \n",
       "1011297999.xml      F(1, 40) = 8.85, p < .01    f    <            0.0100   \n",
       "1011297999.xml  F(1, 113) = 66.53, p < .0001    f    <            0.0001   \n",
       "\n",
       "                Recalculated p-value  \\\n",
       "1011297993.xml          9.204905e-01   \n",
       "1011297993.xml          1.190525e-01   \n",
       "1011297999.xml          7.617572e-03   \n",
       "1011297999.xml          4.950714e-03   \n",
       "1011297999.xml          5.296874e-13   \n",
       "\n",
       "                                                     Journal Date Published  \n",
       "1011297993.xml                                           NaN            NaN  \n",
       "1011297993.xml                                           NaN            NaN  \n",
       "1011297999.xml  Journal of Personality and Social Psychology     2012-07-01  \n",
       "1011297999.xml  Journal of Personality and Social Psychology     2012-07-01  \n",
       "1011297999.xml  Journal of Personality and Social Psychology     2012-07-01  "
      ]
     },
     "execution_count": 34,
     "metadata": {},
     "output_type": "execute_result"
    }
   ],
   "source": [
    "df_merged = df.merge(meta, how='outer', left_index=True, right_index=True)\n",
    "df_merged.head()"
   ]
  },
  {
   "cell_type": "code",
   "execution_count": 35,
   "metadata": {},
   "outputs": [
    {
     "data": {
      "text/plain": [
       "Journal of Personality and Social Psychology                           100341\n",
       "American Psychologist                                                    7935\n",
       "Journal of Applied Psychology                                            6421\n",
       "Journal of Abnormal Psychology                                           2368\n",
       "Developmental Psychology                                                 2074\n",
       "Journal of Experimental Psychology: Learning, Memory, and Cognition       169\n",
       "Journal of Experimental Social Psychology                                   1\n",
       "Name: Journal, dtype: int64"
      ]
     },
     "execution_count": 35,
     "metadata": {},
     "output_type": "execute_result"
    }
   ],
   "source": [
    "df_merged['Journal'].value_counts()"
   ]
  },
  {
   "cell_type": "code",
   "execution_count": 36,
   "metadata": {},
   "outputs": [
    {
     "data": {
      "text/plain": [
       "Index(['1011297993.xml', '1011298051.xml', '1011856265.xml', '1011856272.xml',\n",
       "       '1011856414.xml', '1011857743.xml', '1011857817.xml', '1011857821.xml',\n",
       "       '1011858438.xml', '1011860155.xml',\n",
       "       ...\n",
       "       '953199137.xml', '953199778.xml', '964198061.xml', '964198107.xml',\n",
       "       '964198125.xml', '964198148.xml', '964198559.xml', '964198585.xml',\n",
       "       '964198590.xml', '993315768.xml'],\n",
       "      dtype='object', length=8625)"
      ]
     },
     "execution_count": 36,
     "metadata": {},
     "output_type": "execute_result"
    }
   ],
   "source": [
    "df_merged[df_merged['Journal'].isna()].index.unique()"
   ]
  },
  {
   "cell_type": "code",
   "execution_count": null,
   "metadata": {},
   "outputs": [],
   "source": [
    "df_stats[df_stats['Recalculated p-value'] > 1].head()"
   ]
  },
  {
   "cell_type": "code",
   "execution_count": null,
   "metadata": {
    "scrolled": true
   },
   "outputs": [],
   "source": [
    "df_stats[df_stats['Reported p-value'] > 1].head()"
   ]
  },
  {
   "cell_type": "code",
   "execution_count": null,
   "metadata": {},
   "outputs": [],
   "source": [
    "plt.figure(figsize=(10, 8))\n",
    "sns.scatterplot(x='Reported p-value', y='Recalculated p-value', \n",
    "                data=df_stats[(df_stats['Reported p-value'] < 1) & (df_stats['Recalculated p-value'] < 1)], \n",
    "                alpha=0.1, hue='Type')\n",
    "sns.lineplot(np.linspace(0, 1, 100), np.linspace(0, 1, 100), color='green', linewidth=3, alpha=0.3);"
   ]
  },
  {
   "cell_type": "markdown",
   "metadata": {},
   "source": [
    "#### Naive correction for one- and two-tail t-test p-values"
   ]
  },
  {
   "cell_type": "code",
   "execution_count": null,
   "metadata": {},
   "outputs": [],
   "source": [
    "df_stats_corrected = pd.DataFrame(columns=df_stats.columns)\n",
    "\n",
    "for index, row in df_stats.iterrows():\n",
    "    if row['Type'] == 't':\n",
    "        if row['Recalculated p-value'] > 0.05:\n",
    "            row['Recalculated p-value'] = 1 - row['Recalculated p-value']\n",
    "        row['Recalculated p-value'] = row['Recalculated p-value'] * 2\n",
    "    df_stats_corrected = df_stats_corrected.append(row)"
   ]
  },
  {
   "cell_type": "code",
   "execution_count": null,
   "metadata": {},
   "outputs": [],
   "source": [
    "plt.figure(figsize=(10, 8))\n",
    "sns.scatterplot(x='Reported p-value', y='Recalculated p-value', \n",
    "                data=df_stats_corrected[(df_stats['Reported p-value'] < 1) & (df_stats_corrected['Recalculated p-value'] < 1)], \n",
    "                alpha=0.1, hue='Type')\n",
    "sns.lineplot(np.linspace(0, 1, 100), np.linspace(0, 1, 100), color='green', linewidth=3, alpha=0.3);"
   ]
  },
  {
   "cell_type": "markdown",
   "metadata": {},
   "source": [
    "#### More Plots"
   ]
  },
  {
   "cell_type": "code",
   "execution_count": null,
   "metadata": {},
   "outputs": [],
   "source": [
    "plt.figure(figsize=(10, 8))\n",
    "sns.scatterplot(x='Reported p-value', y='Recalculated p-value', \n",
    "                data=df_stats_corrected[(df_stats_corrected['Reported p-value'] <= 0.05) \n",
    "                                        & (df_stats_corrected['Recalculated p-value'] < 1)], \n",
    "                alpha=0.1, hue='Type')\n",
    "sns.lineplot(np.linspace(0, 0.05, 100), np.linspace(0, 0.05, 100), color='red', linewidth=3, alpha=1);"
   ]
  },
  {
   "cell_type": "code",
   "execution_count": null,
   "metadata": {},
   "outputs": [],
   "source": [
    "plt.figure(figsize=(10, 8))\n",
    "sns.scatterplot(x='Reported p-value', y='Recalculated p-value', \n",
    "                data=df_stats_corrected[(df_stats_corrected['Reported p-value'] <= 0.05) \n",
    "                                        & (df_stats_corrected['Recalculated p-value'] < 0.05)], \n",
    "                alpha=0.1, hue='Type')\n",
    "sns.lineplot(np.linspace(0, 0.05, 100), np.linspace(0, 0.05, 100), color='red', linewidth=3, alpha=1);"
   ]
  },
  {
   "cell_type": "code",
   "execution_count": null,
   "metadata": {},
   "outputs": [],
   "source": [
    "plt.figure(figsize=(10, 8))\n",
    "sns.histplot(df_stats_corrected[(df_stats_corrected['Reported p-value'] == 0.05) \n",
    "                      & (df_stats_corrected['Recalculated p-value'] < 1) \n",
    "                                & (df_stats_corrected['Recalculated p-value'] > 0.05)]['Recalculated p-value'])"
   ]
  },
  {
   "cell_type": "code",
   "execution_count": null,
   "metadata": {},
   "outputs": [],
   "source": []
  }
 ],
 "metadata": {
  "kernelspec": {
   "display_name": "Python 3",
   "language": "python",
   "name": "python3"
  },
  "language_info": {
   "codemirror_mode": {
    "name": "ipython",
    "version": 3
   },
   "file_extension": ".py",
   "mimetype": "text/x-python",
   "name": "python",
   "nbconvert_exporter": "python",
   "pygments_lexer": "ipython3",
   "version": "3.9.0"
  }
 },
 "nbformat": 4,
 "nbformat_minor": 2
}
