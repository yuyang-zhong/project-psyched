{
 "cells": [
  {
   "cell_type": "markdown",
   "metadata": {},
   "source": [
    "# Project Psyched: A Closer Look Into Reproducibility In Psychological Research\n",
    "\n",
    "## Data Cleaning and Transformation Script\n",
    "This script for data cleaning and transformation after data has been scraped from TDM Studio.\n",
    "\n",
    "Author: Yuyang Zhong (2020). This work is licensed under a [Creative Commons BY-NC-SA 4.0 International\n",
    "License][cc-by].\n",
    "\n",
    "![CC BY-NC-SA 4.0][cc-by-shield]\n",
    "\n",
    "[cc-by]: http://creativecommons.org/licenses/by/4.0/\n",
    "[cc-by-shield]: https://img.shields.io/badge/license-CC--BY--NC--SA%204.0-blue"
   ]
  },
  {
   "cell_type": "markdown",
   "metadata": {},
   "source": [
    "#### Setup & Imports"
   ]
  },
  {
   "cell_type": "code",
   "execution_count": 1,
   "metadata": {},
   "outputs": [],
   "source": [
    "import itertools\n",
    "import numpy as np\n",
    "import pandas as pd\n",
    "import re\n",
    "import ast\n",
    "\n",
    "from scipy import stats"
   ]
  },
  {
   "cell_type": "markdown",
   "metadata": {},
   "source": [
    "### Part 1 Data Transformations"
   ]
  },
  {
   "cell_type": "code",
   "execution_count": 2,
   "metadata": {},
   "outputs": [],
   "source": [
    "in_path = \"../data/raw/\"\n",
    "out_path = \"../data/\"\n",
    "corpus1_path_meta_p = 'corpus1_metadata_pval.csv'"
   ]
  },
  {
   "cell_type": "code",
   "execution_count": 3,
   "metadata": {},
   "outputs": [
    {
     "data": {
      "text/html": [
       "<div>\n",
       "<style scoped>\n",
       "    .dataframe tbody tr th:only-of-type {\n",
       "        vertical-align: middle;\n",
       "    }\n",
       "\n",
       "    .dataframe tbody tr th {\n",
       "        vertical-align: top;\n",
       "    }\n",
       "\n",
       "    .dataframe thead th {\n",
       "        text-align: right;\n",
       "    }\n",
       "</style>\n",
       "<table border=\"1\" class=\"dataframe\">\n",
       "  <thead>\n",
       "    <tr style=\"text-align: right;\">\n",
       "      <th></th>\n",
       "      <th>Title</th>\n",
       "      <th>Date Published</th>\n",
       "      <th>Peer Review</th>\n",
       "      <th>DOI</th>\n",
       "      <th>Author</th>\n",
       "      <th>Keywords</th>\n",
       "      <th>Methodology</th>\n",
       "      <th>References</th>\n",
       "      <th>Journal</th>\n",
       "      <th>Volume</th>\n",
       "      <th>Issue</th>\n",
       "      <th>Pages</th>\n",
       "      <th>P-Values</th>\n",
       "      <th>P-Values-SN</th>\n",
       "    </tr>\n",
       "  </thead>\n",
       "  <tbody>\n",
       "    <tr>\n",
       "      <th>614337945.xml</th>\n",
       "      <td>Induced mood and preschoolers' behavior: Isola...</td>\n",
       "      <td>1987-03-01</td>\n",
       "      <td>True</td>\n",
       "      <td>10.1037/0022-3514.52.3.620</td>\n",
       "      <td>['Ridgeway, Doreen', 'Waters, Everett']</td>\n",
       "      <td>['hedonic tone of induced mood &amp; level of arou...</td>\n",
       "      <td>['Empirical Study']</td>\n",
       "      <td>27.0</td>\n",
       "      <td>Journal of Personality and Social Psychology</td>\n",
       "      <td>52.0</td>\n",
       "      <td>3.0</td>\n",
       "      <td>620-625</td>\n",
       "      <td>['&lt; .01', '&lt; .01', '&lt; .01', '&lt; .01', '&lt; .01', ...</td>\n",
       "      <td>[]</td>\n",
       "    </tr>\n",
       "    <tr>\n",
       "      <th>1647028895.xml</th>\n",
       "      <td>The equilibrium model of relationship maintena...</td>\n",
       "      <td>2015-01-01</td>\n",
       "      <td>True</td>\n",
       "      <td>10.1037/pspi0000004</td>\n",
       "      <td>['Murray, Sandra L.', 'Holmes, John G.', 'Grif...</td>\n",
       "      <td>['relationships', 'risk', 'threat-mitigation',...</td>\n",
       "      <td>['Empirical Study', 'Longitudinal Study', 'Qua...</td>\n",
       "      <td>90.0</td>\n",
       "      <td>Journal of Personality and Social Psychology</td>\n",
       "      <td>108.0</td>\n",
       "      <td>1.0</td>\n",
       "      <td>93-113</td>\n",
       "      <td>['&lt; .00001', '= .27', '= .63', '= .13', '= .00...</td>\n",
       "      <td>[]</td>\n",
       "    </tr>\n",
       "    <tr>\n",
       "      <th>614404963.xml</th>\n",
       "      <td>The statistical analysis of data from small gr...</td>\n",
       "      <td>2002-07-01</td>\n",
       "      <td>True</td>\n",
       "      <td>10.1037/0022-3514.83.1.126</td>\n",
       "      <td>['Kenny, David A.', 'Mannetti, Lucia', 'Pierro...</td>\n",
       "      <td>['statistical analysis', 'small group data', \"...</td>\n",
       "      <td>[]</td>\n",
       "      <td>38.0</td>\n",
       "      <td>Journal of Personality and Social Psychology</td>\n",
       "      <td>83.0</td>\n",
       "      <td>1.0</td>\n",
       "      <td>126-137</td>\n",
       "      <td>['= .0048', '= .382', '&lt; .001', '&lt; .001', '= ....</td>\n",
       "      <td>[]</td>\n",
       "    </tr>\n",
       "    <tr>\n",
       "      <th>614332724.xml</th>\n",
       "      <td>Personality differences predict health-risk be...</td>\n",
       "      <td>1997-11-01</td>\n",
       "      <td>True</td>\n",
       "      <td>10.1037/0022-3514.73.5.1052</td>\n",
       "      <td>['Caspi, Avshalom', 'Begg, Dot', 'Dickson, Nig...</td>\n",
       "      <td>['personality traits, health risk behaviors, 2...</td>\n",
       "      <td>['Empirical Study', 'Longitudinal Study']</td>\n",
       "      <td>72.0</td>\n",
       "      <td>Journal of Personality and Social Psychology</td>\n",
       "      <td>73.0</td>\n",
       "      <td>5.0</td>\n",
       "      <td>1052-1063</td>\n",
       "      <td>['= .05', '&lt; .001', '&lt; .001', '= .02', '&lt; .001...</td>\n",
       "      <td>[]</td>\n",
       "    </tr>\n",
       "    <tr>\n",
       "      <th>614304222.xml</th>\n",
       "      <td>Victim and perpetrator accounts of interperson...</td>\n",
       "      <td>1990-11-01</td>\n",
       "      <td>True</td>\n",
       "      <td>10.1037/0022-3514.59.5.994</td>\n",
       "      <td>['Baumeister, Roy F.', 'Stillwell, Arlene', 'W...</td>\n",
       "      <td>['autobiographical accounts of anger, college ...</td>\n",
       "      <td>['Empirical Study']</td>\n",
       "      <td>42.0</td>\n",
       "      <td>Journal of Personality and Social Psychology</td>\n",
       "      <td>59.0</td>\n",
       "      <td>5.0</td>\n",
       "      <td>994-1005</td>\n",
       "      <td>['= .051', '&lt; .02', '&lt; .001', '&lt; .01', '&lt; .02'...</td>\n",
       "      <td>[]</td>\n",
       "    </tr>\n",
       "  </tbody>\n",
       "</table>\n",
       "</div>"
      ],
      "text/plain": [
       "                                                            Title  \\\n",
       "614337945.xml   Induced mood and preschoolers' behavior: Isola...   \n",
       "1647028895.xml  The equilibrium model of relationship maintena...   \n",
       "614404963.xml   The statistical analysis of data from small gr...   \n",
       "614332724.xml   Personality differences predict health-risk be...   \n",
       "614304222.xml   Victim and perpetrator accounts of interperson...   \n",
       "\n",
       "               Date Published  Peer Review                          DOI  \\\n",
       "614337945.xml      1987-03-01         True   10.1037/0022-3514.52.3.620   \n",
       "1647028895.xml     2015-01-01         True          10.1037/pspi0000004   \n",
       "614404963.xml      2002-07-01         True   10.1037/0022-3514.83.1.126   \n",
       "614332724.xml      1997-11-01         True  10.1037/0022-3514.73.5.1052   \n",
       "614304222.xml      1990-11-01         True   10.1037/0022-3514.59.5.994   \n",
       "\n",
       "                                                           Author  \\\n",
       "614337945.xml             ['Ridgeway, Doreen', 'Waters, Everett']   \n",
       "1647028895.xml  ['Murray, Sandra L.', 'Holmes, John G.', 'Grif...   \n",
       "614404963.xml   ['Kenny, David A.', 'Mannetti, Lucia', 'Pierro...   \n",
       "614332724.xml   ['Caspi, Avshalom', 'Begg, Dot', 'Dickson, Nig...   \n",
       "614304222.xml   ['Baumeister, Roy F.', 'Stillwell, Arlene', 'W...   \n",
       "\n",
       "                                                         Keywords  \\\n",
       "614337945.xml   ['hedonic tone of induced mood & level of arou...   \n",
       "1647028895.xml  ['relationships', 'risk', 'threat-mitigation',...   \n",
       "614404963.xml   ['statistical analysis', 'small group data', \"...   \n",
       "614332724.xml   ['personality traits, health risk behaviors, 2...   \n",
       "614304222.xml   ['autobiographical accounts of anger, college ...   \n",
       "\n",
       "                                                      Methodology  References  \\\n",
       "614337945.xml                                 ['Empirical Study']        27.0   \n",
       "1647028895.xml  ['Empirical Study', 'Longitudinal Study', 'Qua...        90.0   \n",
       "614404963.xml                                                  []        38.0   \n",
       "614332724.xml           ['Empirical Study', 'Longitudinal Study']        72.0   \n",
       "614304222.xml                                 ['Empirical Study']        42.0   \n",
       "\n",
       "                                                     Journal  Volume  Issue  \\\n",
       "614337945.xml   Journal of Personality and Social Psychology    52.0    3.0   \n",
       "1647028895.xml  Journal of Personality and Social Psychology   108.0    1.0   \n",
       "614404963.xml   Journal of Personality and Social Psychology    83.0    1.0   \n",
       "614332724.xml   Journal of Personality and Social Psychology    73.0    5.0   \n",
       "614304222.xml   Journal of Personality and Social Psychology    59.0    5.0   \n",
       "\n",
       "                    Pages                                           P-Values  \\\n",
       "614337945.xml     620-625  ['< .01', '< .01', '< .01', '< .01', '< .01', ...   \n",
       "1647028895.xml     93-113  ['< .00001', '= .27', '= .63', '= .13', '= .00...   \n",
       "614404963.xml     126-137  ['= .0048', '= .382', '< .001', '< .001', '= ....   \n",
       "614332724.xml   1052-1063  ['= .05', '< .001', '< .001', '= .02', '< .001...   \n",
       "614304222.xml    994-1005  ['= .051', '< .02', '< .001', '< .01', '< .02'...   \n",
       "\n",
       "               P-Values-SN  \n",
       "614337945.xml           []  \n",
       "1647028895.xml          []  \n",
       "614404963.xml           []  \n",
       "614332724.xml           []  \n",
       "614304222.xml           []  "
      ]
     },
     "execution_count": 3,
     "metadata": {},
     "output_type": "execute_result"
    }
   ],
   "source": [
    "corpus1_pt1 = pd.read_csv(in_path + corpus1_path_meta_p, index_col=0)\n",
    "corpus1_pt1.head()"
   ]
  },
  {
   "cell_type": "markdown",
   "metadata": {},
   "source": [
    "#### Metadata only"
   ]
  },
  {
   "cell_type": "code",
   "execution_count": 4,
   "metadata": {},
   "outputs": [],
   "source": [
    "corpus1_meta_only = corpus1_pt1.drop(['P-Values', 'P-Values-SN'], axis=1)"
   ]
  },
  {
   "cell_type": "markdown",
   "metadata": {},
   "source": [
    "#### Exploding p-values"
   ]
  },
  {
   "cell_type": "code",
   "execution_count": 5,
   "metadata": {},
   "outputs": [
    {
     "data": {
      "text/plain": [
       "[]    6049\n",
       "Name: P-Values-SN, dtype: int64"
      ]
     },
     "execution_count": 5,
     "metadata": {},
     "output_type": "execute_result"
    }
   ],
   "source": [
    "# Excluded all scientific notation based p-values\n",
    "corpus1_pt1['P-Values-SN'].value_counts()"
   ]
  },
  {
   "cell_type": "code",
   "execution_count": 6,
   "metadata": {},
   "outputs": [
    {
     "name": "stderr",
     "output_type": "stream",
     "text": [
      "/usr/local/lib/python3.7/site-packages/ipykernel_launcher.py:4: SettingWithCopyWarning: \n",
      "A value is trying to be set on a copy of a slice from a DataFrame.\n",
      "Try using .loc[row_indexer,col_indexer] = value instead\n",
      "\n",
      "See the caveats in the documentation: https://pandas.pydata.org/pandas-docs/stable/user_guide/indexing.html#returning-a-view-versus-a-copy\n",
      "  after removing the cwd from sys.path.\n"
     ]
    }
   ],
   "source": [
    "corpus1 = corpus1_pt1[['Date Published', 'P-Values']]\n",
    "\n",
    "## evaluate as list from string\n",
    "corpus1['P-Values'] = corpus1['P-Values'].apply(eval)\n",
    "\n",
    "## exploding P-values\n",
    "corpus1 = corpus1.explode('P-Values')"
   ]
  },
  {
   "cell_type": "markdown",
   "metadata": {},
   "source": [
    "#### Date"
   ]
  },
  {
   "cell_type": "code",
   "execution_count": 7,
   "metadata": {},
   "outputs": [
    {
     "data": {
      "text/html": [
       "<div>\n",
       "<style scoped>\n",
       "    .dataframe tbody tr th:only-of-type {\n",
       "        vertical-align: middle;\n",
       "    }\n",
       "\n",
       "    .dataframe tbody tr th {\n",
       "        vertical-align: top;\n",
       "    }\n",
       "\n",
       "    .dataframe thead th {\n",
       "        text-align: right;\n",
       "    }\n",
       "</style>\n",
       "<table border=\"1\" class=\"dataframe\">\n",
       "  <thead>\n",
       "    <tr style=\"text-align: right;\">\n",
       "      <th></th>\n",
       "      <th>P-Values</th>\n",
       "      <th>Year</th>\n",
       "    </tr>\n",
       "  </thead>\n",
       "  <tbody>\n",
       "    <tr>\n",
       "      <th>614337945.xml</th>\n",
       "      <td>&lt; .01</td>\n",
       "      <td>1987</td>\n",
       "    </tr>\n",
       "    <tr>\n",
       "      <th>614337945.xml</th>\n",
       "      <td>&lt; .01</td>\n",
       "      <td>1987</td>\n",
       "    </tr>\n",
       "    <tr>\n",
       "      <th>614337945.xml</th>\n",
       "      <td>&lt; .01</td>\n",
       "      <td>1987</td>\n",
       "    </tr>\n",
       "    <tr>\n",
       "      <th>614337945.xml</th>\n",
       "      <td>&lt; .01</td>\n",
       "      <td>1987</td>\n",
       "    </tr>\n",
       "    <tr>\n",
       "      <th>614337945.xml</th>\n",
       "      <td>&lt; .01</td>\n",
       "      <td>1987</td>\n",
       "    </tr>\n",
       "  </tbody>\n",
       "</table>\n",
       "</div>"
      ],
      "text/plain": [
       "              P-Values  Year\n",
       "614337945.xml    < .01  1987\n",
       "614337945.xml    < .01  1987\n",
       "614337945.xml    < .01  1987\n",
       "614337945.xml    < .01  1987\n",
       "614337945.xml    < .01  1987"
      ]
     },
     "execution_count": 7,
     "metadata": {},
     "output_type": "execute_result"
    }
   ],
   "source": [
    "corpus1['Year'] = pd.to_datetime(corpus1['Date Published']).dt.year\n",
    "\n",
    "## Dropping full date published\n",
    "corpus1 = corpus1.drop('Date Published', axis=1)\n",
    "corpus1.head()"
   ]
  },
  {
   "cell_type": "code",
   "execution_count": 8,
   "metadata": {},
   "outputs": [
    {
     "data": {
      "text/plain": [
       "(193318, 2)"
      ]
     },
     "execution_count": 8,
     "metadata": {},
     "output_type": "execute_result"
    }
   ],
   "source": [
    "corpus1.shape"
   ]
  },
  {
   "cell_type": "markdown",
   "metadata": {},
   "source": [
    "#### Export as stand alone file"
   ]
  },
  {
   "cell_type": "code",
   "execution_count": 9,
   "metadata": {},
   "outputs": [],
   "source": [
    "corpus1.to_csv(out_path + 'pvals_corpus1.csv')"
   ]
  },
  {
   "cell_type": "markdown",
   "metadata": {},
   "source": [
    "### Meta Data Concatenating"
   ]
  },
  {
   "cell_type": "code",
   "execution_count": 7,
   "metadata": {},
   "outputs": [
    {
     "data": {
      "text/html": [
       "<div>\n",
       "<style scoped>\n",
       "    .dataframe tbody tr th:only-of-type {\n",
       "        vertical-align: middle;\n",
       "    }\n",
       "\n",
       "    .dataframe tbody tr th {\n",
       "        vertical-align: top;\n",
       "    }\n",
       "\n",
       "    .dataframe thead th {\n",
       "        text-align: right;\n",
       "    }\n",
       "</style>\n",
       "<table border=\"1\" class=\"dataframe\">\n",
       "  <thead>\n",
       "    <tr style=\"text-align: right;\">\n",
       "      <th></th>\n",
       "      <th>Title</th>\n",
       "      <th>Date Published</th>\n",
       "      <th>Peer Review</th>\n",
       "      <th>DOI</th>\n",
       "      <th>Author</th>\n",
       "      <th>Keywords</th>\n",
       "      <th>Methodology</th>\n",
       "      <th>References</th>\n",
       "      <th>Journal</th>\n",
       "      <th>Volume</th>\n",
       "      <th>Issue</th>\n",
       "      <th>Pages</th>\n",
       "    </tr>\n",
       "  </thead>\n",
       "  <tbody>\n",
       "    <tr>\n",
       "      <th>2388986342.xml</th>\n",
       "      <td>The trainer matters: Cross-classified models o...</td>\n",
       "      <td>2020-04-13</td>\n",
       "      <td>True</td>\n",
       "      <td>10.1037/apl0000503</td>\n",
       "      <td>['Glerum, David R.', 'Joseph, Dana L.', 'McKen...</td>\n",
       "      <td>['training evaluation', 'training effectivenes...</td>\n",
       "      <td>['Empirical Study', 'Quantitative Study']</td>\n",
       "      <td>126.0</td>\n",
       "      <td>Journal of Applied Psychology</td>\n",
       "      <td>NaN</td>\n",
       "      <td>NaN</td>\n",
       "      <td>NaN</td>\n",
       "    </tr>\n",
       "    <tr>\n",
       "      <th>1266149906.xml</th>\n",
       "      <td>Psychology is still a problematic science and ...</td>\n",
       "      <td>2012-12-01</td>\n",
       "      <td>True</td>\n",
       "      <td>10.1037/a0030084</td>\n",
       "      <td>['Teo, Thomas']</td>\n",
       "      <td>['bias', 'misconceptions', 'psychology', 'psyc...</td>\n",
       "      <td>[]</td>\n",
       "      <td>9.0</td>\n",
       "      <td>American Psychologist</td>\n",
       "      <td>67.0</td>\n",
       "      <td>9</td>\n",
       "      <td>807-808</td>\n",
       "    </tr>\n",
       "    <tr>\n",
       "      <th>614504953.xml</th>\n",
       "      <td>Achieving a new dimension: Children integrate ...</td>\n",
       "      <td>2009-05-01</td>\n",
       "      <td>True</td>\n",
       "      <td>10.1037/a0014616</td>\n",
       "      <td>['Ebersbach, Mirjam']</td>\n",
       "      <td>['information integration', 'volume', 'intuiti...</td>\n",
       "      <td>['Empirical Study', 'Quantitative Study']</td>\n",
       "      <td>37.0</td>\n",
       "      <td>Developmental Psychology</td>\n",
       "      <td>45.0</td>\n",
       "      <td>3</td>\n",
       "      <td>877-883</td>\n",
       "    </tr>\n",
       "    <tr>\n",
       "      <th>1620027748.xml</th>\n",
       "      <td>The impact of time at work and time off from w...</td>\n",
       "      <td>2015-05-01</td>\n",
       "      <td>True</td>\n",
       "      <td>10.1037/a0038067</td>\n",
       "      <td>['Dai, Hengchen', 'Milkman, Katherine L.', 'Ho...</td>\n",
       "      <td>['fatigue', 'workplace compliance', 'job deman...</td>\n",
       "      <td>['Empirical Study', 'Longitudinal Study', 'Qua...</td>\n",
       "      <td>77.0</td>\n",
       "      <td>Journal of Applied Psychology</td>\n",
       "      <td>100.0</td>\n",
       "      <td>3</td>\n",
       "      <td>846-862</td>\n",
       "    </tr>\n",
       "    <tr>\n",
       "      <th>614340287.xml</th>\n",
       "      <td>Some aspects of the executive personality\\n</td>\n",
       "      <td>1955-10-01</td>\n",
       "      <td>True</td>\n",
       "      <td>10.1037/h0045488</td>\n",
       "      <td>['Miner, John B.', 'Culver, John E.']</td>\n",
       "      <td>['executive personality']</td>\n",
       "      <td>['Empirical Study', 'Quantitative Study']</td>\n",
       "      <td>8.0</td>\n",
       "      <td>Journal of Applied Psychology</td>\n",
       "      <td>39.0</td>\n",
       "      <td>5</td>\n",
       "      <td>348-353</td>\n",
       "    </tr>\n",
       "  </tbody>\n",
       "</table>\n",
       "</div>"
      ],
      "text/plain": [
       "                                                            Title  \\\n",
       "2388986342.xml  The trainer matters: Cross-classified models o...   \n",
       "1266149906.xml  Psychology is still a problematic science and ...   \n",
       "614504953.xml   Achieving a new dimension: Children integrate ...   \n",
       "1620027748.xml  The impact of time at work and time off from w...   \n",
       "614340287.xml         Some aspects of the executive personality\\n   \n",
       "\n",
       "               Date Published  Peer Review                 DOI  \\\n",
       "2388986342.xml     2020-04-13         True  10.1037/apl0000503   \n",
       "1266149906.xml     2012-12-01         True    10.1037/a0030084   \n",
       "614504953.xml      2009-05-01         True    10.1037/a0014616   \n",
       "1620027748.xml     2015-05-01         True    10.1037/a0038067   \n",
       "614340287.xml      1955-10-01         True    10.1037/h0045488   \n",
       "\n",
       "                                                           Author  \\\n",
       "2388986342.xml  ['Glerum, David R.', 'Joseph, Dana L.', 'McKen...   \n",
       "1266149906.xml                                    ['Teo, Thomas']   \n",
       "614504953.xml                               ['Ebersbach, Mirjam']   \n",
       "1620027748.xml  ['Dai, Hengchen', 'Milkman, Katherine L.', 'Ho...   \n",
       "614340287.xml               ['Miner, John B.', 'Culver, John E.']   \n",
       "\n",
       "                                                         Keywords  \\\n",
       "2388986342.xml  ['training evaluation', 'training effectivenes...   \n",
       "1266149906.xml  ['bias', 'misconceptions', 'psychology', 'psyc...   \n",
       "614504953.xml   ['information integration', 'volume', 'intuiti...   \n",
       "1620027748.xml  ['fatigue', 'workplace compliance', 'job deman...   \n",
       "614340287.xml                           ['executive personality']   \n",
       "\n",
       "                                                      Methodology  References  \\\n",
       "2388986342.xml          ['Empirical Study', 'Quantitative Study']       126.0   \n",
       "1266149906.xml                                                 []         9.0   \n",
       "614504953.xml           ['Empirical Study', 'Quantitative Study']        37.0   \n",
       "1620027748.xml  ['Empirical Study', 'Longitudinal Study', 'Qua...        77.0   \n",
       "614340287.xml           ['Empirical Study', 'Quantitative Study']         8.0   \n",
       "\n",
       "                                      Journal  Volume Issue    Pages  \n",
       "2388986342.xml  Journal of Applied Psychology     NaN   NaN      NaN  \n",
       "1266149906.xml          American Psychologist    67.0     9  807-808  \n",
       "614504953.xml        Developmental Psychology    45.0     3  877-883  \n",
       "1620027748.xml  Journal of Applied Psychology   100.0     3  846-862  \n",
       "614340287.xml   Journal of Applied Psychology    39.0     5  348-353  "
      ]
     },
     "execution_count": 7,
     "metadata": {},
     "output_type": "execute_result"
    }
   ],
   "source": [
    "corpus2_path_meta = 'corpus2_metadata.csv'\n",
    "\n",
    "corpus2_meta_only = pd.read_csv(in_path + corpus2_path_meta, index_col=0)\n",
    "corpus2_meta_only = corpus2_meta_only.drop('Full Text', axis=1)\n",
    "corpus2_meta_only.head()"
   ]
  },
  {
   "cell_type": "markdown",
   "metadata": {},
   "source": [
    "#### Appending metadata from corpus 1 & 2"
   ]
  },
  {
   "cell_type": "code",
   "execution_count": 8,
   "metadata": {},
   "outputs": [
    {
     "data": {
      "text/html": [
       "<div>\n",
       "<style scoped>\n",
       "    .dataframe tbody tr th:only-of-type {\n",
       "        vertical-align: middle;\n",
       "    }\n",
       "\n",
       "    .dataframe tbody tr th {\n",
       "        vertical-align: top;\n",
       "    }\n",
       "\n",
       "    .dataframe thead th {\n",
       "        text-align: right;\n",
       "    }\n",
       "</style>\n",
       "<table border=\"1\" class=\"dataframe\">\n",
       "  <thead>\n",
       "    <tr style=\"text-align: right;\">\n",
       "      <th></th>\n",
       "      <th>Title</th>\n",
       "      <th>Date Published</th>\n",
       "      <th>Peer Review</th>\n",
       "      <th>DOI</th>\n",
       "      <th>Author</th>\n",
       "      <th>Keywords</th>\n",
       "      <th>Methodology</th>\n",
       "      <th>References</th>\n",
       "      <th>Journal</th>\n",
       "      <th>Volume</th>\n",
       "      <th>Issue</th>\n",
       "      <th>Pages</th>\n",
       "    </tr>\n",
       "  </thead>\n",
       "  <tbody>\n",
       "    <tr>\n",
       "      <th>614337945.xml</th>\n",
       "      <td>Induced mood and preschoolers' behavior: Isola...</td>\n",
       "      <td>1987-03-01</td>\n",
       "      <td>True</td>\n",
       "      <td>10.1037/0022-3514.52.3.620</td>\n",
       "      <td>['Ridgeway, Doreen', 'Waters, Everett']</td>\n",
       "      <td>['hedonic tone of induced mood &amp; level of arou...</td>\n",
       "      <td>['Empirical Study']</td>\n",
       "      <td>27.0</td>\n",
       "      <td>Journal of Personality and Social Psychology</td>\n",
       "      <td>52.0</td>\n",
       "      <td>3</td>\n",
       "      <td>620-625</td>\n",
       "    </tr>\n",
       "    <tr>\n",
       "      <th>1647028895.xml</th>\n",
       "      <td>The equilibrium model of relationship maintena...</td>\n",
       "      <td>2015-01-01</td>\n",
       "      <td>True</td>\n",
       "      <td>10.1037/pspi0000004</td>\n",
       "      <td>['Murray, Sandra L.', 'Holmes, John G.', 'Grif...</td>\n",
       "      <td>['relationships', 'risk', 'threat-mitigation',...</td>\n",
       "      <td>['Empirical Study', 'Longitudinal Study', 'Qua...</td>\n",
       "      <td>90.0</td>\n",
       "      <td>Journal of Personality and Social Psychology</td>\n",
       "      <td>108.0</td>\n",
       "      <td>1</td>\n",
       "      <td>93-113</td>\n",
       "    </tr>\n",
       "    <tr>\n",
       "      <th>614404963.xml</th>\n",
       "      <td>The statistical analysis of data from small gr...</td>\n",
       "      <td>2002-07-01</td>\n",
       "      <td>True</td>\n",
       "      <td>10.1037/0022-3514.83.1.126</td>\n",
       "      <td>['Kenny, David A.', 'Mannetti, Lucia', 'Pierro...</td>\n",
       "      <td>['statistical analysis', 'small group data', \"...</td>\n",
       "      <td>[]</td>\n",
       "      <td>38.0</td>\n",
       "      <td>Journal of Personality and Social Psychology</td>\n",
       "      <td>83.0</td>\n",
       "      <td>1</td>\n",
       "      <td>126-137</td>\n",
       "    </tr>\n",
       "    <tr>\n",
       "      <th>614332724.xml</th>\n",
       "      <td>Personality differences predict health-risk be...</td>\n",
       "      <td>1997-11-01</td>\n",
       "      <td>True</td>\n",
       "      <td>10.1037/0022-3514.73.5.1052</td>\n",
       "      <td>['Caspi, Avshalom', 'Begg, Dot', 'Dickson, Nig...</td>\n",
       "      <td>['personality traits, health risk behaviors, 2...</td>\n",
       "      <td>['Empirical Study', 'Longitudinal Study']</td>\n",
       "      <td>72.0</td>\n",
       "      <td>Journal of Personality and Social Psychology</td>\n",
       "      <td>73.0</td>\n",
       "      <td>5</td>\n",
       "      <td>1052-1063</td>\n",
       "    </tr>\n",
       "    <tr>\n",
       "      <th>614304222.xml</th>\n",
       "      <td>Victim and perpetrator accounts of interperson...</td>\n",
       "      <td>1990-11-01</td>\n",
       "      <td>True</td>\n",
       "      <td>10.1037/0022-3514.59.5.994</td>\n",
       "      <td>['Baumeister, Roy F.', 'Stillwell, Arlene', 'W...</td>\n",
       "      <td>['autobiographical accounts of anger, college ...</td>\n",
       "      <td>['Empirical Study']</td>\n",
       "      <td>42.0</td>\n",
       "      <td>Journal of Personality and Social Psychology</td>\n",
       "      <td>59.0</td>\n",
       "      <td>5</td>\n",
       "      <td>994-1005</td>\n",
       "    </tr>\n",
       "  </tbody>\n",
       "</table>\n",
       "</div>"
      ],
      "text/plain": [
       "                                                            Title  \\\n",
       "614337945.xml   Induced mood and preschoolers' behavior: Isola...   \n",
       "1647028895.xml  The equilibrium model of relationship maintena...   \n",
       "614404963.xml   The statistical analysis of data from small gr...   \n",
       "614332724.xml   Personality differences predict health-risk be...   \n",
       "614304222.xml   Victim and perpetrator accounts of interperson...   \n",
       "\n",
       "               Date Published  Peer Review                          DOI  \\\n",
       "614337945.xml      1987-03-01         True   10.1037/0022-3514.52.3.620   \n",
       "1647028895.xml     2015-01-01         True          10.1037/pspi0000004   \n",
       "614404963.xml      2002-07-01         True   10.1037/0022-3514.83.1.126   \n",
       "614332724.xml      1997-11-01         True  10.1037/0022-3514.73.5.1052   \n",
       "614304222.xml      1990-11-01         True   10.1037/0022-3514.59.5.994   \n",
       "\n",
       "                                                           Author  \\\n",
       "614337945.xml             ['Ridgeway, Doreen', 'Waters, Everett']   \n",
       "1647028895.xml  ['Murray, Sandra L.', 'Holmes, John G.', 'Grif...   \n",
       "614404963.xml   ['Kenny, David A.', 'Mannetti, Lucia', 'Pierro...   \n",
       "614332724.xml   ['Caspi, Avshalom', 'Begg, Dot', 'Dickson, Nig...   \n",
       "614304222.xml   ['Baumeister, Roy F.', 'Stillwell, Arlene', 'W...   \n",
       "\n",
       "                                                         Keywords  \\\n",
       "614337945.xml   ['hedonic tone of induced mood & level of arou...   \n",
       "1647028895.xml  ['relationships', 'risk', 'threat-mitigation',...   \n",
       "614404963.xml   ['statistical analysis', 'small group data', \"...   \n",
       "614332724.xml   ['personality traits, health risk behaviors, 2...   \n",
       "614304222.xml   ['autobiographical accounts of anger, college ...   \n",
       "\n",
       "                                                      Methodology  References  \\\n",
       "614337945.xml                                 ['Empirical Study']        27.0   \n",
       "1647028895.xml  ['Empirical Study', 'Longitudinal Study', 'Qua...        90.0   \n",
       "614404963.xml                                                  []        38.0   \n",
       "614332724.xml           ['Empirical Study', 'Longitudinal Study']        72.0   \n",
       "614304222.xml                                 ['Empirical Study']        42.0   \n",
       "\n",
       "                                                     Journal  Volume Issue  \\\n",
       "614337945.xml   Journal of Personality and Social Psychology    52.0     3   \n",
       "1647028895.xml  Journal of Personality and Social Psychology   108.0     1   \n",
       "614404963.xml   Journal of Personality and Social Psychology    83.0     1   \n",
       "614332724.xml   Journal of Personality and Social Psychology    73.0     5   \n",
       "614304222.xml   Journal of Personality and Social Psychology    59.0     5   \n",
       "\n",
       "                    Pages  \n",
       "614337945.xml     620-625  \n",
       "1647028895.xml     93-113  \n",
       "614404963.xml     126-137  \n",
       "614332724.xml   1052-1063  \n",
       "614304222.xml    994-1005  "
      ]
     },
     "execution_count": 8,
     "metadata": {},
     "output_type": "execute_result"
    }
   ],
   "source": [
    "all_metadata = corpus1_meta_only.append(corpus2_meta_only)\n",
    "all_metadata.head()"
   ]
  },
  {
   "cell_type": "markdown",
   "metadata": {},
   "source": [
    "#### Exporting metadata file"
   ]
  },
  {
   "cell_type": "code",
   "execution_count": 9,
   "metadata": {},
   "outputs": [],
   "source": [
    "corpus1_meta_only.to_csv(out_path + 'metadata_corpus1.csv')\n",
    "all_metadata.to_csv(out_path + 'metadata_all.csv')"
   ]
  },
  {
   "cell_type": "markdown",
   "metadata": {},
   "source": [
    "### Part 2 Data Transformation"
   ]
  },
  {
   "cell_type": "code",
   "execution_count": 13,
   "metadata": {},
   "outputs": [],
   "source": [
    "corpus1_stat_path = 'corpus1_stat_full.csv'\n",
    "corpus2_stat_path = 'corpus2_stat_full.csv'\n",
    "\n",
    "corpus1_stat = pd.read_csv(in_path + corpus1_stat_path, index_col = 0)\n",
    "corpus2_stat = pd.read_csv(in_path + corpus2_stat_path, index_col = 0)"
   ]
  },
  {
   "cell_type": "code",
   "execution_count": 14,
   "metadata": {},
   "outputs": [
    {
     "data": {
      "text/html": [
       "<div>\n",
       "<style scoped>\n",
       "    .dataframe tbody tr th:only-of-type {\n",
       "        vertical-align: middle;\n",
       "    }\n",
       "\n",
       "    .dataframe tbody tr th {\n",
       "        vertical-align: top;\n",
       "    }\n",
       "\n",
       "    .dataframe thead th {\n",
       "        text-align: right;\n",
       "    }\n",
       "</style>\n",
       "<table border=\"1\" class=\"dataframe\">\n",
       "  <thead>\n",
       "    <tr style=\"text-align: right;\">\n",
       "      <th></th>\n",
       "      <th>F_stats</th>\n",
       "      <th>F_stats_SN</th>\n",
       "      <th>F_stats_ns</th>\n",
       "      <th>t_scores</th>\n",
       "      <th>t_scores_SN</th>\n",
       "      <th>t_scores_ns</th>\n",
       "    </tr>\n",
       "  </thead>\n",
       "  <tbody>\n",
       "    <tr>\n",
       "      <th>614337945.xml</th>\n",
       "      <td>[]</td>\n",
       "      <td>[]</td>\n",
       "      <td>[]</td>\n",
       "      <td>['t   (41)   = 4.10,    p   &lt; .01', 't   (41) ...</td>\n",
       "      <td>[]</td>\n",
       "      <td>[]</td>\n",
       "    </tr>\n",
       "    <tr>\n",
       "      <th>1647028895.xml</th>\n",
       "      <td>[]</td>\n",
       "      <td>[]</td>\n",
       "      <td>[]</td>\n",
       "      <td>[]</td>\n",
       "      <td>[]</td>\n",
       "      <td>[]</td>\n",
       "    </tr>\n",
       "    <tr>\n",
       "      <th>614404963.xml</th>\n",
       "      <td>['F(1, 6) = 0.89, p = .382', 'F(1, 63) = 17.02...</td>\n",
       "      <td>[]</td>\n",
       "      <td>[]</td>\n",
       "      <td>[]</td>\n",
       "      <td>[]</td>\n",
       "      <td>[]</td>\n",
       "    </tr>\n",
       "    <tr>\n",
       "      <th>614332724.xml</th>\n",
       "      <td>['F(10, 776) = 6.84, p   &lt; .001', 'F(10, 722) ...</td>\n",
       "      <td>[]</td>\n",
       "      <td>[]</td>\n",
       "      <td>[]</td>\n",
       "      <td>[]</td>\n",
       "      <td>[]</td>\n",
       "    </tr>\n",
       "    <tr>\n",
       "      <th>614304222.xml</th>\n",
       "      <td>[]</td>\n",
       "      <td>[]</td>\n",
       "      <td>[]</td>\n",
       "      <td>[]</td>\n",
       "      <td>[]</td>\n",
       "      <td>[]</td>\n",
       "    </tr>\n",
       "  </tbody>\n",
       "</table>\n",
       "</div>"
      ],
      "text/plain": [
       "                                                          F_stats F_stats_SN  \\\n",
       "614337945.xml                                                  []         []   \n",
       "1647028895.xml                                                 []         []   \n",
       "614404963.xml   ['F(1, 6) = 0.89, p = .382', 'F(1, 63) = 17.02...         []   \n",
       "614332724.xml   ['F(10, 776) = 6.84, p   < .001', 'F(10, 722) ...         []   \n",
       "614304222.xml                                                  []         []   \n",
       "\n",
       "               F_stats_ns                                           t_scores  \\\n",
       "614337945.xml          []  ['t   (41)   = 4.10,    p   < .01', 't   (41) ...   \n",
       "1647028895.xml         []                                                 []   \n",
       "614404963.xml          []                                                 []   \n",
       "614332724.xml          []                                                 []   \n",
       "614304222.xml          []                                                 []   \n",
       "\n",
       "               t_scores_SN t_scores_ns  \n",
       "614337945.xml           []          []  \n",
       "1647028895.xml          []          []  \n",
       "614404963.xml           []          []  \n",
       "614332724.xml           []          []  \n",
       "614304222.xml           []          []  "
      ]
     },
     "execution_count": 14,
     "metadata": {},
     "output_type": "execute_result"
    }
   ],
   "source": [
    "corpus1_stat.head()"
   ]
  },
  {
   "cell_type": "code",
   "execution_count": 15,
   "metadata": {},
   "outputs": [
    {
     "data": {
      "text/plain": [
       "[]    6048\n",
       "Name: F_stats_SN, dtype: int64"
      ]
     },
     "execution_count": 15,
     "metadata": {},
     "output_type": "execute_result"
    }
   ],
   "source": [
    "corpus1_stat['F_stats_SN'].value_counts()"
   ]
  },
  {
   "cell_type": "code",
   "execution_count": 16,
   "metadata": {},
   "outputs": [
    {
     "data": {
      "text/plain": [
       "[]    6048\n",
       "Name: t_scores_SN, dtype: int64"
      ]
     },
     "execution_count": 16,
     "metadata": {},
     "output_type": "execute_result"
    }
   ],
   "source": [
    "corpus1_stat['t_scores_SN'].value_counts()"
   ]
  },
  {
   "cell_type": "code",
   "execution_count": 17,
   "metadata": {},
   "outputs": [
    {
     "data": {
      "text/html": [
       "<div>\n",
       "<style scoped>\n",
       "    .dataframe tbody tr th:only-of-type {\n",
       "        vertical-align: middle;\n",
       "    }\n",
       "\n",
       "    .dataframe tbody tr th {\n",
       "        vertical-align: top;\n",
       "    }\n",
       "\n",
       "    .dataframe thead th {\n",
       "        text-align: right;\n",
       "    }\n",
       "</style>\n",
       "<table border=\"1\" class=\"dataframe\">\n",
       "  <thead>\n",
       "    <tr style=\"text-align: right;\">\n",
       "      <th></th>\n",
       "      <th>F_stats</th>\n",
       "      <th>F_stats_SN</th>\n",
       "      <th>F_stats_ns</th>\n",
       "      <th>t_scores</th>\n",
       "      <th>t_scores_SN</th>\n",
       "      <th>t_scores_ns</th>\n",
       "    </tr>\n",
       "  </thead>\n",
       "  <tbody>\n",
       "    <tr>\n",
       "      <th>2388986342.xml</th>\n",
       "      <td>[]</td>\n",
       "      <td>[]</td>\n",
       "      <td>[]</td>\n",
       "      <td>[]</td>\n",
       "      <td>[]</td>\n",
       "      <td>[]</td>\n",
       "    </tr>\n",
       "    <tr>\n",
       "      <th>1266149906.xml</th>\n",
       "      <td>[]</td>\n",
       "      <td>[]</td>\n",
       "      <td>[]</td>\n",
       "      <td>[]</td>\n",
       "      <td>[]</td>\n",
       "      <td>[]</td>\n",
       "    </tr>\n",
       "    <tr>\n",
       "      <th>614504953.xml</th>\n",
       "      <td>[]</td>\n",
       "      <td>[]</td>\n",
       "      <td>[]</td>\n",
       "      <td>[]</td>\n",
       "      <td>[]</td>\n",
       "      <td>[]</td>\n",
       "    </tr>\n",
       "    <tr>\n",
       "      <th>1620027748.xml</th>\n",
       "      <td>[]</td>\n",
       "      <td>[]</td>\n",
       "      <td>[]</td>\n",
       "      <td>[]</td>\n",
       "      <td>[]</td>\n",
       "      <td>[]</td>\n",
       "    </tr>\n",
       "    <tr>\n",
       "      <th>614323566.xml</th>\n",
       "      <td>[]</td>\n",
       "      <td>[]</td>\n",
       "      <td>[]</td>\n",
       "      <td>[]</td>\n",
       "      <td>[]</td>\n",
       "      <td>[]</td>\n",
       "    </tr>\n",
       "  </tbody>\n",
       "</table>\n",
       "</div>"
      ],
      "text/plain": [
       "               F_stats F_stats_SN F_stats_ns t_scores t_scores_SN t_scores_ns\n",
       "2388986342.xml      []         []         []       []          []          []\n",
       "1266149906.xml      []         []         []       []          []          []\n",
       "614504953.xml       []         []         []       []          []          []\n",
       "1620027748.xml      []         []         []       []          []          []\n",
       "614323566.xml       []         []         []       []          []          []"
      ]
     },
     "execution_count": 17,
     "metadata": {},
     "output_type": "execute_result"
    }
   ],
   "source": [
    "corpus2_stat.head()"
   ]
  },
  {
   "cell_type": "code",
   "execution_count": 18,
   "metadata": {},
   "outputs": [
    {
     "data": {
      "text/plain": [
       "[]                                                                                                                                              21040\n",
       "['= 1.09e−03', '= 3.12e−05', '= 3.41e−03', '= 9.05e−15', '= 1.02e−06', '= 5.88e−03', '= 1.25e−02', '= 3.64e−02', '= 2.90e−03', '= 1.69e−03']        1\n",
       "Name: F_stats_SN, dtype: int64"
      ]
     },
     "execution_count": 18,
     "metadata": {},
     "output_type": "execute_result"
    }
   ],
   "source": [
    "corpus2_stat['F_stats_SN'].value_counts()"
   ]
  },
  {
   "cell_type": "code",
   "execution_count": 19,
   "metadata": {},
   "outputs": [
    {
     "data": {
      "text/plain": [
       "[]                                          21039\n",
       "['= 1.05e−03', '= 3.2e−03', '= 3.4e−03']        1\n",
       "['= 2.2e-16', '= 2.2e-16']                      1\n",
       "Name: t_scores_SN, dtype: int64"
      ]
     },
     "execution_count": 19,
     "metadata": {},
     "output_type": "execute_result"
    }
   ],
   "source": [
    "corpus2_stat['t_scores_SN'].value_counts()"
   ]
  },
  {
   "cell_type": "markdown",
   "metadata": {},
   "source": [
    "#### Given the small amount of p-values represented in scientific notations, they will be excluded from analysis."
   ]
  },
  {
   "cell_type": "code",
   "execution_count": 20,
   "metadata": {},
   "outputs": [],
   "source": [
    "corpus1_stat = corpus1_stat.drop(['F_stats_SN', 't_scores_SN'], axis=1)\n",
    "corpus2_stat = corpus2_stat.drop(['F_stats_SN', 't_scores_SN'], axis=1)"
   ]
  },
  {
   "cell_type": "markdown",
   "metadata": {},
   "source": [
    "#### Append all test statistics"
   ]
  },
  {
   "cell_type": "code",
   "execution_count": 21,
   "metadata": {},
   "outputs": [
    {
     "data": {
      "text/html": [
       "<div>\n",
       "<style scoped>\n",
       "    .dataframe tbody tr th:only-of-type {\n",
       "        vertical-align: middle;\n",
       "    }\n",
       "\n",
       "    .dataframe tbody tr th {\n",
       "        vertical-align: top;\n",
       "    }\n",
       "\n",
       "    .dataframe thead th {\n",
       "        text-align: right;\n",
       "    }\n",
       "</style>\n",
       "<table border=\"1\" class=\"dataframe\">\n",
       "  <thead>\n",
       "    <tr style=\"text-align: right;\">\n",
       "      <th></th>\n",
       "      <th>F_stats</th>\n",
       "      <th>F_stats_ns</th>\n",
       "      <th>t_scores</th>\n",
       "      <th>t_scores_ns</th>\n",
       "    </tr>\n",
       "  </thead>\n",
       "  <tbody>\n",
       "    <tr>\n",
       "      <th>614337945.xml</th>\n",
       "      <td>[]</td>\n",
       "      <td>[]</td>\n",
       "      <td>['t   (41)   = 4.10,    p   &lt; .01', 't   (41) ...</td>\n",
       "      <td>[]</td>\n",
       "    </tr>\n",
       "    <tr>\n",
       "      <th>1647028895.xml</th>\n",
       "      <td>[]</td>\n",
       "      <td>[]</td>\n",
       "      <td>[]</td>\n",
       "      <td>[]</td>\n",
       "    </tr>\n",
       "    <tr>\n",
       "      <th>614404963.xml</th>\n",
       "      <td>['F(1, 6) = 0.89, p = .382', 'F(1, 63) = 17.02...</td>\n",
       "      <td>[]</td>\n",
       "      <td>[]</td>\n",
       "      <td>[]</td>\n",
       "    </tr>\n",
       "    <tr>\n",
       "      <th>614332724.xml</th>\n",
       "      <td>['F(10, 776) = 6.84, p   &lt; .001', 'F(10, 722) ...</td>\n",
       "      <td>[]</td>\n",
       "      <td>[]</td>\n",
       "      <td>[]</td>\n",
       "    </tr>\n",
       "    <tr>\n",
       "      <th>614304222.xml</th>\n",
       "      <td>[]</td>\n",
       "      <td>[]</td>\n",
       "      <td>[]</td>\n",
       "      <td>[]</td>\n",
       "    </tr>\n",
       "  </tbody>\n",
       "</table>\n",
       "</div>"
      ],
      "text/plain": [
       "                                                          F_stats F_stats_ns  \\\n",
       "614337945.xml                                                  []         []   \n",
       "1647028895.xml                                                 []         []   \n",
       "614404963.xml   ['F(1, 6) = 0.89, p = .382', 'F(1, 63) = 17.02...         []   \n",
       "614332724.xml   ['F(10, 776) = 6.84, p   < .001', 'F(10, 722) ...         []   \n",
       "614304222.xml                                                  []         []   \n",
       "\n",
       "                                                         t_scores t_scores_ns  \n",
       "614337945.xml   ['t   (41)   = 4.10,    p   < .01', 't   (41) ...          []  \n",
       "1647028895.xml                                                 []          []  \n",
       "614404963.xml                                                  []          []  \n",
       "614332724.xml                                                  []          []  \n",
       "614304222.xml                                                  []          []  "
      ]
     },
     "execution_count": 21,
     "metadata": {},
     "output_type": "execute_result"
    }
   ],
   "source": [
    "stats_all = corpus1_stat.append(corpus2_stat)\n",
    "stats_all.head()"
   ]
  },
  {
   "cell_type": "markdown",
   "metadata": {},
   "source": [
    "#### Transforming & capturing parameters and statistics"
   ]
  },
  {
   "cell_type": "code",
   "execution_count": 22,
   "metadata": {},
   "outputs": [],
   "source": [
    "df_stats = pd.DataFrame(columns=['File', 'Original', 'Type', 'Sign', 'Reported p-value', 'Recalculated p-value'])"
   ]
  },
  {
   "cell_type": "markdown",
   "metadata": {},
   "source": [
    "#### Helper functions"
   ]
  },
  {
   "cell_type": "code",
   "execution_count": 23,
   "metadata": {},
   "outputs": [],
   "source": [
    "def extract_f(s):\n",
    "    \"\"\"\n",
    "    Takes in a string of reported F statistics with p-value and extract the numeric parameters.\n",
    "    \n",
    "    Returns: df1, df2, x, p\n",
    "    \"\"\"\n",
    "    extract = re.findall(\n",
    "        r'Fs?\\s*\\(\\s*(\\d+)\\s*\\,\\s*(\\d+)\\s*\\)\\s*[\\<|\\>|\\=]\\s*(\\d*\\.?\\d*)\\s*\\,\\s*p\\s*([\\<|\\>|\\=])\\s*(\\d*\\.\\d+)',\n",
    "        s)[0]    \n",
    "    \n",
    "    df1 = float(extract[0])\n",
    "    df2 = float(extract[1])\n",
    "    \n",
    "    x = float(extract[2])\n",
    "    ineq = extract[3]\n",
    "    p = float(extract[4])\n",
    "    \n",
    "    return df1, df2, x, ineq, p"
   ]
  },
  {
   "cell_type": "code",
   "execution_count": 24,
   "metadata": {},
   "outputs": [],
   "source": [
    "def extract_t(s):\n",
    "    \"\"\"\n",
    "    Takes in a string of reported t score with p-value and extract the numeric parameters.\n",
    "    \n",
    "    Returns: df, x, p\n",
    "    \"\"\"\n",
    "    \n",
    "    s = re.sub(r'−\\s*', \"-\", s)\n",
    "    extract = re.findall(\n",
    "        r't\\s*\\((\\s*\\d*\\s*,)?\\s*(\\d+)\\s*\\)\\s*[\\<|\\>|\\=]\\s*([\\−|\\-]?\\s*\\d*\\.?\\d*)\\s*,\\s*p\\s*([\\<|\\>|\\=])\\s*(\\d?\\.\\d+)',\n",
    "        s)[0]\n",
    "    \n",
    "    df = float(extract[1])\n",
    "    x = float(extract[2].replace(\" \", \"\"))\n",
    "    ineq = extract[3]\n",
    "    p = float(extract[4])\n",
    "    \n",
    "    return df, x, ineq, p"
   ]
  },
  {
   "cell_type": "code",
   "execution_count": 25,
   "metadata": {},
   "outputs": [],
   "source": [
    "def extract_f_compute_add(test_type, index, s):\n",
    "    ex = extract_f(s)\n",
    "    return {'File': index, \n",
    "            'Original': s, \n",
    "            'Type': test_type,\n",
    "            'Sign': ex[3],\n",
    "            'Reported p-value': ex[4], \n",
    "            'Recalculated p-value': 1-stats.f.cdf(ex[2], ex[0], ex[1])}"
   ]
  },
  {
   "cell_type": "code",
   "execution_count": 26,
   "metadata": {},
   "outputs": [],
   "source": [
    "def extract_t_compute_add(test_type, index, s):\n",
    "    ex = extract_t(s)\n",
    "    return {'File': index, \n",
    "            'Original': s, \n",
    "            'Type': test_type, \n",
    "            'Sign': ex[2],\n",
    "            'Reported p-value': ex[3], \n",
    "            'Recalculated p-value': 1-stats.t.cdf(ex[1], ex[0])}"
   ]
  },
  {
   "cell_type": "markdown",
   "metadata": {},
   "source": [
    "#### Evaluate Lists"
   ]
  },
  {
   "cell_type": "code",
   "execution_count": 27,
   "metadata": {},
   "outputs": [],
   "source": [
    "for col in stats_all.columns:\n",
    "    stats_all[col] = stats_all[col].apply(ast.literal_eval)"
   ]
  },
  {
   "cell_type": "markdown",
   "metadata": {},
   "source": [
    "#### Script to iterate through all statistics"
   ]
  },
  {
   "cell_type": "code",
   "execution_count": 28,
   "metadata": {
    "scrolled": false
   },
   "outputs": [],
   "source": [
    "for index, row in stats_all.iterrows():\n",
    "    \n",
    "    if len(row['F_stats']) > 0:\n",
    "        for s in row['F_stats']:\n",
    "            try:\n",
    "                extract = extract_f_compute_add('f', index, s)\n",
    "            except:\n",
    "                pass\n",
    "            else:\n",
    "                df_stats = df_stats.append(extract, ignore_index=True)\n",
    "                        \n",
    "    if len(row['t_scores']) > 0:\n",
    "        for s in row['t_scores']:\n",
    "            try:\n",
    "                extract = extract_t_compute_add('t', index, s)\n",
    "            except:\n",
    "                pass\n",
    "            else:\n",
    "                df_stats = df_stats.append(extract, ignore_index=True)"
   ]
  },
  {
   "cell_type": "code",
   "execution_count": 29,
   "metadata": {
    "scrolled": true
   },
   "outputs": [
    {
     "data": {
      "text/html": [
       "<div>\n",
       "<style scoped>\n",
       "    .dataframe tbody tr th:only-of-type {\n",
       "        vertical-align: middle;\n",
       "    }\n",
       "\n",
       "    .dataframe tbody tr th {\n",
       "        vertical-align: top;\n",
       "    }\n",
       "\n",
       "    .dataframe thead th {\n",
       "        text-align: right;\n",
       "    }\n",
       "</style>\n",
       "<table border=\"1\" class=\"dataframe\">\n",
       "  <thead>\n",
       "    <tr style=\"text-align: right;\">\n",
       "      <th></th>\n",
       "      <th>File</th>\n",
       "      <th>Original</th>\n",
       "      <th>Type</th>\n",
       "      <th>Sign</th>\n",
       "      <th>Reported p-value</th>\n",
       "      <th>Recalculated p-value</th>\n",
       "    </tr>\n",
       "  </thead>\n",
       "  <tbody>\n",
       "    <tr>\n",
       "      <th>0</th>\n",
       "      <td>614337945.xml</td>\n",
       "      <td>t   (41)   = 4.10,    p   &lt; .01</td>\n",
       "      <td>t</td>\n",
       "      <td>&lt;</td>\n",
       "      <td>0.01</td>\n",
       "      <td>9.531027e-05</td>\n",
       "    </tr>\n",
       "    <tr>\n",
       "      <th>1</th>\n",
       "      <td>614337945.xml</td>\n",
       "      <td>t   (41)   = −3.56,    p   &lt; .01</td>\n",
       "      <td>t</td>\n",
       "      <td>&lt;</td>\n",
       "      <td>0.01</td>\n",
       "      <td>9.995224e-01</td>\n",
       "    </tr>\n",
       "    <tr>\n",
       "      <th>2</th>\n",
       "      <td>614337945.xml</td>\n",
       "      <td>t   (41)   = 8.21,    p   &lt; .01</td>\n",
       "      <td>t</td>\n",
       "      <td>&lt;</td>\n",
       "      <td>0.01</td>\n",
       "      <td>1.708961e-10</td>\n",
       "    </tr>\n",
       "    <tr>\n",
       "      <th>3</th>\n",
       "      <td>614337945.xml</td>\n",
       "      <td>t   (41)   = 4.82,    p   &lt; .01</td>\n",
       "      <td>t</td>\n",
       "      <td>&lt;</td>\n",
       "      <td>0.01</td>\n",
       "      <td>9.987600e-06</td>\n",
       "    </tr>\n",
       "    <tr>\n",
       "      <th>4</th>\n",
       "      <td>614337945.xml</td>\n",
       "      <td>t   (41)   = −2.57,    p   &lt; .01</td>\n",
       "      <td>t</td>\n",
       "      <td>&lt;</td>\n",
       "      <td>0.01</td>\n",
       "      <td>9.930493e-01</td>\n",
       "    </tr>\n",
       "  </tbody>\n",
       "</table>\n",
       "</div>"
      ],
      "text/plain": [
       "            File                          Original Type Sign  \\\n",
       "0  614337945.xml   t   (41)   = 4.10,    p   < .01    t    <   \n",
       "1  614337945.xml  t   (41)   = −3.56,    p   < .01    t    <   \n",
       "2  614337945.xml   t   (41)   = 8.21,    p   < .01    t    <   \n",
       "3  614337945.xml   t   (41)   = 4.82,    p   < .01    t    <   \n",
       "4  614337945.xml  t   (41)   = −2.57,    p   < .01    t    <   \n",
       "\n",
       "   Reported p-value  Recalculated p-value  \n",
       "0              0.01          9.531027e-05  \n",
       "1              0.01          9.995224e-01  \n",
       "2              0.01          1.708961e-10  \n",
       "3              0.01          9.987600e-06  \n",
       "4              0.01          9.930493e-01  "
      ]
     },
     "execution_count": 29,
     "metadata": {},
     "output_type": "execute_result"
    }
   ],
   "source": [
    "df_stats.head()"
   ]
  },
  {
   "cell_type": "code",
   "execution_count": 30,
   "metadata": {},
   "outputs": [
    {
     "data": {
      "text/plain": [
       "(212589, 6)"
      ]
     },
     "execution_count": 30,
     "metadata": {},
     "output_type": "execute_result"
    }
   ],
   "source": [
    "df_stats.shape"
   ]
  },
  {
   "cell_type": "markdown",
   "metadata": {},
   "source": [
    "#### Export all recalculated p-values"
   ]
  },
  {
   "cell_type": "code",
   "execution_count": 31,
   "metadata": {},
   "outputs": [],
   "source": [
    "df_stats.to_csv(out_path + 'stats_all.csv')"
   ]
  },
  {
   "cell_type": "code",
   "execution_count": null,
   "metadata": {},
   "outputs": [],
   "source": []
  }
 ],
 "metadata": {
  "kernelspec": {
   "display_name": "Python 3",
   "language": "python",
   "name": "python3"
  },
  "language_info": {
   "codemirror_mode": {
    "name": "ipython",
    "version": 3
   },
   "file_extension": ".py",
   "mimetype": "text/x-python",
   "name": "python",
   "nbconvert_exporter": "python",
   "pygments_lexer": "ipython3",
   "version": "3.9.0"
  }
 },
 "nbformat": 4,
 "nbformat_minor": 2
}
