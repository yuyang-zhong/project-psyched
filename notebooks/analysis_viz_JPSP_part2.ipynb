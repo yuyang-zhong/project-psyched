{
 "cells": [
  {
   "cell_type": "markdown",
   "metadata": {},
   "source": [
    "# Project Psyched: A Closer Look Into Reproducibility In Psychological Research\n",
    "\n",
    "## Data Analysis & Visualization Script: Part 2 - Test Statistics & Recalcuating P-Values\n",
    "This script for data analysis and visualization after data has been scraped from TDM Studio.\n",
    "\n",
    "Author: Yuyang Zhong (2020). This work is licensed under a [Creative Commons BY-NC-SA 4.0 International\n",
    "License][cc-by].\n",
    "\n",
    "![CC BY-NC-SA 4.0][cc-by-shield]\n",
    "\n",
    "[cc-by]: http://creativecommons.org/licenses/by/4.0/\n",
    "[cc-by-shield]: https://img.shields.io/badge/license-CC--BY--NC--SA%204.0-blue"
   ]
  },
  {
   "cell_type": "markdown",
   "metadata": {},
   "source": [
    "#### Setup & Imports"
   ]
  },
  {
   "cell_type": "code",
   "execution_count": 1,
   "metadata": {},
   "outputs": [],
   "source": [
    "import json\n",
    "import itertools\n",
    "import numpy as np\n",
    "import pandas as pd\n",
    "import matplotlib.pyplot as plt\n",
    "import seaborn as sns\n",
    "import re\n",
    "import ast\n",
    "\n",
    "from scipy import stats"
   ]
  },
  {
   "cell_type": "code",
   "execution_count": 2,
   "metadata": {},
   "outputs": [],
   "source": [
    "in_path = \"../data/\"\n",
    "in_name = 'JPSP_part2_092020.csv'"
   ]
  },
  {
   "cell_type": "code",
   "execution_count": 3,
   "metadata": {},
   "outputs": [],
   "source": [
    "df = pd.read_csv(in_path + in_name, index_col=0)"
   ]
  },
  {
   "cell_type": "markdown",
   "metadata": {},
   "source": [
    "#### Helper functions"
   ]
  },
  {
   "cell_type": "code",
   "execution_count": 20,
   "metadata": {},
   "outputs": [],
   "source": [
    "def extract_f(s):\n",
    "    \"\"\"\n",
    "    Takes in a string of reported F statistics with p-value and extract the numeric parameters.\n",
    "    \n",
    "    Returns: df1, df2, x, p\n",
    "    \"\"\"\n",
    "    extract = re.findall(\n",
    "        r'Fs?\\s*\\(\\s*(\\d+)\\s*\\,\\s*(\\d+)\\s*\\)\\s*[\\<|\\>|\\=]\\s*(\\d*\\.?\\d*)\\s*\\,\\s*p\\s*[\\<|\\>|\\=]\\s*(\\d*\\.\\d+)',\n",
    "        s)[0]    \n",
    "    \n",
    "    df1 = float(extract[0])\n",
    "    df2 = float(extract[1])\n",
    "    x = float(extract[2])\n",
    "    p = float(extract[3])\n",
    "    \n",
    "    return df1, df2, x, p"
   ]
  },
  {
   "cell_type": "code",
   "execution_count": 21,
   "metadata": {},
   "outputs": [],
   "source": [
    "def extract_f_ns(s):\n",
    "    \"\"\"\n",
    "    Takes in a string of reported F statistics, non-significant, and extract the numeric parameters.\n",
    "    \n",
    "    Returns: df1, df2, x\n",
    "    \"\"\"\n",
    "    extract = re.findall(\n",
    "        r'Fs?\\s*\\(\\s*(\\d+)\\s*\\,\\s*(\\d+)\\s*\\)\\s*[\\<|\\>|\\=]\\s*(\\d*\\.?\\d*)\\s*\\,\\s*n\\.?s\\.?',\n",
    "        s)[0] \n",
    "\n",
    "    df1 = float(extract[0])\n",
    "    df2 = float(extract[1])\n",
    "    x = float(extract[2])\n",
    "    \n",
    "    return df1, df2, x"
   ]
  },
  {
   "cell_type": "code",
   "execution_count": 30,
   "metadata": {},
   "outputs": [],
   "source": [
    "def extract_t(s):\n",
    "    \"\"\"\n",
    "    Takes in a string of reported t score with p-value and extract the numeric parameters.\n",
    "    \n",
    "    Returns: df, x, p\n",
    "    \"\"\"\n",
    "    \n",
    "    s = re.sub(r'−\\s*', \"-\", s)\n",
    "    extract = re.findall(\n",
    "        r't\\s*\\((\\s*\\d*\\s*,)?\\s*(\\d+)\\s*\\)\\s*[\\<|\\>|\\=]\\s*([\\−|\\-]?\\s*\\d*\\.?\\d*)\\s*,\\s*p\\s*[\\<|\\>|\\=]\\s*(\\d?\\.\\d+)',\n",
    "        s)[0]\n",
    "    \n",
    "    df = float(extract[1])\n",
    "    x = float(extract[2].replace(\" \", \"\"))\n",
    "    p = float(extract[3])\n",
    "    \n",
    "    return df, x, p"
   ]
  },
  {
   "cell_type": "code",
   "execution_count": 31,
   "metadata": {},
   "outputs": [],
   "source": [
    "def extract_t_ns(s):\n",
    "    \"\"\"\n",
    "    Takes in a string of reported t score, non-significant, and extract the numeric parameters.\n",
    "    \n",
    "    Returns: df, x\n",
    "    \"\"\"\n",
    "    \n",
    "    s = re.sub(r'−\\s*', \"-\", s)\n",
    "    extract = re.findall(\n",
    "        r't\\s*\\((\\s*\\d*\\s*,)?\\s*(\\d+)\\s*\\)\\s*[\\<|\\>|\\=]\\s*([\\−|\\-]?\\s*\\d*\\.?\\d*)\\s*,\\s*p\\s*[\\<|\\>|\\=]\\s*(\\d?\\.\\d+)',\n",
    "        s)[0]  \n",
    "    \n",
    "    df = float(extract[1])\n",
    "    x = float(extract[2].replace(\" \", \"\"))\n",
    "    \n",
    "    return df, x"
   ]
  },
  {
   "cell_type": "markdown",
   "metadata": {},
   "source": [
    "#### Set up output dataframe"
   ]
  },
  {
   "cell_type": "code",
   "execution_count": 32,
   "metadata": {},
   "outputs": [],
   "source": [
    "df_stats = pd.DataFrame(columns=['File', 'Original', 'Type', 'Reported p-value', 'Recalculated p-value'])\n",
    "# df_stats_ns = pd.DataFrame(columns=['File', 'Original', 'Type', 'Reported p-value', 'Recalculated p-value'])"
   ]
  },
  {
   "cell_type": "markdown",
   "metadata": {},
   "source": [
    "#### Script to iterate through all statistics"
   ]
  },
  {
   "cell_type": "code",
   "execution_count": 33,
   "metadata": {},
   "outputs": [],
   "source": [
    "def extract_f_compute_add(test_type, index, s, df_stats=df_stats):\n",
    "    ex = extract_f(s)\n",
    "    return {'File': index, \n",
    "            'Original': s, \n",
    "            'Type': test_type, \n",
    "            'Reported p-value': ex[3], \n",
    "            'Recalculated p-value': stats.f.pdf(ex[2], ex[0], ex[1])}"
   ]
  },
  {
   "cell_type": "code",
   "execution_count": 34,
   "metadata": {},
   "outputs": [],
   "source": [
    "def extract_t_compute_add(test_type, index, s, df_stats=df_stats):\n",
    "    ex = extract_t(s)\n",
    "    return {'File': index, \n",
    "            'Original': s, \n",
    "            'Type': test_type, \n",
    "            'Reported p-value': ex[2], \n",
    "            'Recalculated p-value': stats.t.pdf(ex[1], ex[0])}"
   ]
  },
  {
   "cell_type": "code",
   "execution_count": null,
   "metadata": {},
   "outputs": [],
   "source": [
    "# for s in df.loc['614337945.xml'].apply(ast.literal_eval)['t_scores']:\n",
    "#     df_stats = df_stats.append(extract_t_compute_add('t', '614337945.xml', s), ignore_index=True)\n",
    "\n",
    "# for s in df.iloc[2].apply(ast.literal_eval)['F_stats']:\n",
    "#     df_stats = df_stats.append(extract_f_compute_add('f', '0.xml', s), ignore_index=True)"
   ]
  },
  {
   "cell_type": "code",
   "execution_count": 35,
   "metadata": {},
   "outputs": [
    {
     "name": "stderr",
     "output_type": "stream",
     "text": [
      "/usr/local/lib/python3.7/site-packages/scipy/stats/_continuous_distns.py:5930: RuntimeWarning: overflow encountered in multiply\n",
      "  Px /= np.sqrt(r*np.pi)*(1+(x**2)/r)**((r+1)/2)\n"
     ]
    }
   ],
   "source": [
    "for index, row in df.iterrows():\n",
    "    r = row.apply(ast.literal_eval)\n",
    "    \n",
    "    if len(r['F_stats']) > 0:\n",
    "        for s in r['F_stats']:\n",
    "            df_stats = df_stats.append(extract_f_compute_add('f', index, s), ignore_index=True)\n",
    "            \n",
    "    if len(r['t_scores']) > 0:\n",
    "        for s in r['t_scores']:\n",
    "            df_stats = df_stats.append(extract_t_compute_add('t', index, s), ignore_index=True)"
   ]
  },
  {
   "cell_type": "code",
   "execution_count": 36,
   "metadata": {
    "scrolled": true
   },
   "outputs": [
    {
     "data": {
      "text/html": [
       "<div>\n",
       "<style scoped>\n",
       "    .dataframe tbody tr th:only-of-type {\n",
       "        vertical-align: middle;\n",
       "    }\n",
       "\n",
       "    .dataframe tbody tr th {\n",
       "        vertical-align: top;\n",
       "    }\n",
       "\n",
       "    .dataframe thead th {\n",
       "        text-align: right;\n",
       "    }\n",
       "</style>\n",
       "<table border=\"1\" class=\"dataframe\">\n",
       "  <thead>\n",
       "    <tr style=\"text-align: right;\">\n",
       "      <th></th>\n",
       "      <th>File</th>\n",
       "      <th>Original</th>\n",
       "      <th>Type</th>\n",
       "      <th>Reported p-value</th>\n",
       "      <th>Recalculated p-value</th>\n",
       "    </tr>\n",
       "  </thead>\n",
       "  <tbody>\n",
       "    <tr>\n",
       "      <th>0</th>\n",
       "      <td>614337945.xml</td>\n",
       "      <td>t   (41)   = 4.10,    p   &lt; .01</td>\n",
       "      <td>t</td>\n",
       "      <td>0.01</td>\n",
       "      <td>2.915149e-04</td>\n",
       "    </tr>\n",
       "    <tr>\n",
       "      <th>1</th>\n",
       "      <td>614337945.xml</td>\n",
       "      <td>t   (41)   = −3.56,    p   &lt; .01</td>\n",
       "      <td>t</td>\n",
       "      <td>0.01</td>\n",
       "      <td>1.385951e-03</td>\n",
       "    </tr>\n",
       "    <tr>\n",
       "      <th>2</th>\n",
       "      <td>614337945.xml</td>\n",
       "      <td>t   (41)   = 8.21,    p   &lt; .01</td>\n",
       "      <td>t</td>\n",
       "      <td>0.01</td>\n",
       "      <td>5.379765e-10</td>\n",
       "    </tr>\n",
       "    <tr>\n",
       "      <th>3</th>\n",
       "      <td>614337945.xml</td>\n",
       "      <td>t   (41)   = 4.82,    p   &lt; .01</td>\n",
       "      <td>t</td>\n",
       "      <td>0.01</td>\n",
       "      <td>3.190701e-05</td>\n",
       "    </tr>\n",
       "    <tr>\n",
       "      <th>4</th>\n",
       "      <td>614337945.xml</td>\n",
       "      <td>t   (41)   = −2.57,    p   &lt; .01</td>\n",
       "      <td>t</td>\n",
       "      <td>0.01</td>\n",
       "      <td>1.722021e-02</td>\n",
       "    </tr>\n",
       "    <tr>\n",
       "      <th>...</th>\n",
       "      <td>...</td>\n",
       "      <td>...</td>\n",
       "      <td>...</td>\n",
       "      <td>...</td>\n",
       "      <td>...</td>\n",
       "    </tr>\n",
       "    <tr>\n",
       "      <th>98883</th>\n",
       "      <td>614461090.xml</td>\n",
       "      <td>t(72) = 1.89, p &lt; .07</td>\n",
       "      <td>t</td>\n",
       "      <td>0.07</td>\n",
       "      <td>6.789595e-02</td>\n",
       "    </tr>\n",
       "    <tr>\n",
       "      <th>98884</th>\n",
       "      <td>614461090.xml</td>\n",
       "      <td>t(72) = 1.63, p &lt; .11</td>\n",
       "      <td>t</td>\n",
       "      <td>0.11</td>\n",
       "      <td>1.059217e-01</td>\n",
       "    </tr>\n",
       "    <tr>\n",
       "      <th>98885</th>\n",
       "      <td>614461090.xml</td>\n",
       "      <td>t(81) = 1.79, p &lt; .08</td>\n",
       "      <td>t</td>\n",
       "      <td>0.08</td>\n",
       "      <td>8.105740e-02</td>\n",
       "    </tr>\n",
       "    <tr>\n",
       "      <th>98886</th>\n",
       "      <td>614461090.xml</td>\n",
       "      <td>t(81) = 1.72, p &lt; .08</td>\n",
       "      <td>t</td>\n",
       "      <td>0.08</td>\n",
       "      <td>9.137453e-02</td>\n",
       "    </tr>\n",
       "    <tr>\n",
       "      <th>98887</th>\n",
       "      <td>614461090.xml</td>\n",
       "      <td>t(81) = 1.82, p &lt; .08</td>\n",
       "      <td>t</td>\n",
       "      <td>0.08</td>\n",
       "      <td>7.689639e-02</td>\n",
       "    </tr>\n",
       "  </tbody>\n",
       "</table>\n",
       "<p>98888 rows × 5 columns</p>\n",
       "</div>"
      ],
      "text/plain": [
       "                File                          Original Type  Reported p-value  \\\n",
       "0      614337945.xml   t   (41)   = 4.10,    p   < .01    t              0.01   \n",
       "1      614337945.xml  t   (41)   = −3.56,    p   < .01    t              0.01   \n",
       "2      614337945.xml   t   (41)   = 8.21,    p   < .01    t              0.01   \n",
       "3      614337945.xml   t   (41)   = 4.82,    p   < .01    t              0.01   \n",
       "4      614337945.xml  t   (41)   = −2.57,    p   < .01    t              0.01   \n",
       "...              ...                               ...  ...               ...   \n",
       "98883  614461090.xml             t(72) = 1.89, p < .07    t              0.07   \n",
       "98884  614461090.xml             t(72) = 1.63, p < .11    t              0.11   \n",
       "98885  614461090.xml             t(81) = 1.79, p < .08    t              0.08   \n",
       "98886  614461090.xml             t(81) = 1.72, p < .08    t              0.08   \n",
       "98887  614461090.xml             t(81) = 1.82, p < .08    t              0.08   \n",
       "\n",
       "       Recalculated p-value  \n",
       "0              2.915149e-04  \n",
       "1              1.385951e-03  \n",
       "2              5.379765e-10  \n",
       "3              3.190701e-05  \n",
       "4              1.722021e-02  \n",
       "...                     ...  \n",
       "98883          6.789595e-02  \n",
       "98884          1.059217e-01  \n",
       "98885          8.105740e-02  \n",
       "98886          9.137453e-02  \n",
       "98887          7.689639e-02  \n",
       "\n",
       "[98888 rows x 5 columns]"
      ]
     },
     "execution_count": 36,
     "metadata": {},
     "output_type": "execute_result"
    }
   ],
   "source": [
    "df_stats"
   ]
  },
  {
   "cell_type": "code",
   "execution_count": 37,
   "metadata": {},
   "outputs": [
    {
     "data": {
      "text/html": [
       "<div>\n",
       "<style scoped>\n",
       "    .dataframe tbody tr th:only-of-type {\n",
       "        vertical-align: middle;\n",
       "    }\n",
       "\n",
       "    .dataframe tbody tr th {\n",
       "        vertical-align: top;\n",
       "    }\n",
       "\n",
       "    .dataframe thead th {\n",
       "        text-align: right;\n",
       "    }\n",
       "</style>\n",
       "<table border=\"1\" class=\"dataframe\">\n",
       "  <thead>\n",
       "    <tr style=\"text-align: right;\">\n",
       "      <th></th>\n",
       "      <th>File</th>\n",
       "      <th>Original</th>\n",
       "      <th>Type</th>\n",
       "      <th>Reported p-value</th>\n",
       "      <th>Recalculated p-value</th>\n",
       "    </tr>\n",
       "  </thead>\n",
       "  <tbody>\n",
       "    <tr>\n",
       "      <th>64</th>\n",
       "      <td>953188771.xml</td>\n",
       "      <td>F(1, 78) = 0.06, p &gt; .80</td>\n",
       "      <td>f</td>\n",
       "      <td>0.80</td>\n",
       "      <td>1.574895</td>\n",
       "    </tr>\n",
       "    <tr>\n",
       "      <th>67</th>\n",
       "      <td>953188771.xml</td>\n",
       "      <td>F(1, 78) = 0.03, p &gt; .80</td>\n",
       "      <td>f</td>\n",
       "      <td>0.80</td>\n",
       "      <td>2.261314</td>\n",
       "    </tr>\n",
       "    <tr>\n",
       "      <th>547</th>\n",
       "      <td>614400318.xml</td>\n",
       "      <td>F(1, 66) = 0.02, p =.89</td>\n",
       "      <td>f</td>\n",
       "      <td>0.89</td>\n",
       "      <td>2.781903</td>\n",
       "    </tr>\n",
       "    <tr>\n",
       "      <th>548</th>\n",
       "      <td>614400318.xml</td>\n",
       "      <td>F(1, 28) = 0.09, p =.77</td>\n",
       "      <td>f</td>\n",
       "      <td>0.77</td>\n",
       "      <td>1.258065</td>\n",
       "    </tr>\n",
       "    <tr>\n",
       "      <th>549</th>\n",
       "      <td>614400318.xml</td>\n",
       "      <td>F(1, 27) = 0.03, p =.87</td>\n",
       "      <td>f</td>\n",
       "      <td>0.87</td>\n",
       "      <td>2.246866</td>\n",
       "    </tr>\n",
       "  </tbody>\n",
       "</table>\n",
       "</div>"
      ],
      "text/plain": [
       "              File                  Original Type  Reported p-value  \\\n",
       "64   953188771.xml  F(1, 78) = 0.06, p > .80    f              0.80   \n",
       "67   953188771.xml  F(1, 78) = 0.03, p > .80    f              0.80   \n",
       "547  614400318.xml   F(1, 66) = 0.02, p =.89    f              0.89   \n",
       "548  614400318.xml   F(1, 28) = 0.09, p =.77    f              0.77   \n",
       "549  614400318.xml   F(1, 27) = 0.03, p =.87    f              0.87   \n",
       "\n",
       "     Recalculated p-value  \n",
       "64               1.574895  \n",
       "67               2.261314  \n",
       "547              2.781903  \n",
       "548              1.258065  \n",
       "549              2.246866  "
      ]
     },
     "execution_count": 37,
     "metadata": {},
     "output_type": "execute_result"
    }
   ],
   "source": [
    "df_stats[df_stats['Recalculated p-value'] > 1].head()"
   ]
  },
  {
   "cell_type": "code",
   "execution_count": 38,
   "metadata": {
    "scrolled": true
   },
   "outputs": [
    {
     "data": {
      "text/html": [
       "<div>\n",
       "<style scoped>\n",
       "    .dataframe tbody tr th:only-of-type {\n",
       "        vertical-align: middle;\n",
       "    }\n",
       "\n",
       "    .dataframe tbody tr th {\n",
       "        vertical-align: top;\n",
       "    }\n",
       "\n",
       "    .dataframe thead th {\n",
       "        text-align: right;\n",
       "    }\n",
       "</style>\n",
       "<table border=\"1\" class=\"dataframe\">\n",
       "  <thead>\n",
       "    <tr style=\"text-align: right;\">\n",
       "      <th></th>\n",
       "      <th>File</th>\n",
       "      <th>Original</th>\n",
       "      <th>Type</th>\n",
       "      <th>Reported p-value</th>\n",
       "      <th>Recalculated p-value</th>\n",
       "    </tr>\n",
       "  </thead>\n",
       "  <tbody>\n",
       "    <tr>\n",
       "      <th>30638</th>\n",
       "      <td>745195391.xml</td>\n",
       "      <td>t(200) = 12.14, p &lt; 2.2</td>\n",
       "      <td>t</td>\n",
       "      <td>2.200</td>\n",
       "      <td>3.184553e-25</td>\n",
       "    </tr>\n",
       "    <tr>\n",
       "      <th>30639</th>\n",
       "      <td>745195391.xml</td>\n",
       "      <td>t(201) = 12.12, p &lt; 2.2</td>\n",
       "      <td>t</td>\n",
       "      <td>2.200</td>\n",
       "      <td>3.443344e-25</td>\n",
       "    </tr>\n",
       "    <tr>\n",
       "      <th>30640</th>\n",
       "      <td>745195391.xml</td>\n",
       "      <td>t(202) = 6.73, p = 1.695</td>\n",
       "      <td>t</td>\n",
       "      <td>1.695</td>\n",
       "      <td>4.814535e-10</td>\n",
       "    </tr>\n",
       "    <tr>\n",
       "      <th>30641</th>\n",
       "      <td>745195391.xml</td>\n",
       "      <td>t(199) = 12.56, p &lt; 2.2</td>\n",
       "      <td>t</td>\n",
       "      <td>2.200</td>\n",
       "      <td>1.773518e-26</td>\n",
       "    </tr>\n",
       "    <tr>\n",
       "      <th>30642</th>\n",
       "      <td>745195391.xml</td>\n",
       "      <td>t(200) = 4.92, p = 1.77</td>\n",
       "      <td>t</td>\n",
       "      <td>1.770</td>\n",
       "      <td>4.109199e-06</td>\n",
       "    </tr>\n",
       "  </tbody>\n",
       "</table>\n",
       "</div>"
      ],
      "text/plain": [
       "                File                  Original Type  Reported p-value  \\\n",
       "30638  745195391.xml   t(200) = 12.14, p < 2.2    t             2.200   \n",
       "30639  745195391.xml   t(201) = 12.12, p < 2.2    t             2.200   \n",
       "30640  745195391.xml  t(202) = 6.73, p = 1.695    t             1.695   \n",
       "30641  745195391.xml   t(199) = 12.56, p < 2.2    t             2.200   \n",
       "30642  745195391.xml   t(200) = 4.92, p = 1.77    t             1.770   \n",
       "\n",
       "       Recalculated p-value  \n",
       "30638          3.184553e-25  \n",
       "30639          3.443344e-25  \n",
       "30640          4.814535e-10  \n",
       "30641          1.773518e-26  \n",
       "30642          4.109199e-06  "
      ]
     },
     "execution_count": 38,
     "metadata": {},
     "output_type": "execute_result"
    }
   ],
   "source": [
    "df_stats[df_stats['Reported p-value'] > 1].head()"
   ]
  },
  {
   "cell_type": "code",
   "execution_count": 51,
   "metadata": {},
   "outputs": [
    {
     "name": "stderr",
     "output_type": "stream",
     "text": [
      "/usr/local/lib/python3.7/site-packages/seaborn/_decorators.py:43: FutureWarning: Pass the following variables as keyword args: x, y. From version 0.12, the only valid positional argument will be `data`, and passing other arguments without an explicit keyword will result in an error or misinterpretation.\n",
      "  FutureWarning\n"
     ]
    },
    {
     "data": {
      "image/png": "[encoded data removed]",
      "text/plain": [
       "<Figure size 432x288 with 1 Axes>"
      ]
     },
     "metadata": {
      "needs_background": "light"
     },
     "output_type": "display_data"
    }
   ],
   "source": [
    "sns.scatterplot(x='Reported p-value', y='Recalculated p-value', \n",
    "                data=df_stats[(df_stats['Reported p-value'] < 1) & (df_stats['Recalculated p-value'] < 1)], \n",
    "                alpha=0.1, hue='Type')\n",
    "sns.lineplot(np.linspace(0, 1, 100), np.linspace(0, 1, 100), color='green', linewidth=3, alpha=0.3);"
   ]
  },
  {
   "cell_type": "code",
   "execution_count": null,
   "metadata": {},
   "outputs": [],
   "source": []
  }
 ],
 "metadata": {
  "kernelspec": {
   "display_name": "Python 3",
   "language": "python",
   "name": "python3"
  },
  "language_info": {
   "codemirror_mode": {
    "name": "ipython",
    "version": 3
   },
   "file_extension": ".py",
   "mimetype": "text/x-python",
   "name": "python",
   "nbconvert_exporter": "python",
   "pygments_lexer": "ipython3",
   "version": "3.7.4"
  }
 },
 "nbformat": 4,
 "nbformat_minor": 2
}
