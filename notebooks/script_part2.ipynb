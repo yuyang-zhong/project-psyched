{
 "cells": [
  {
   "cell_type": "markdown",
   "metadata": {},
   "source": [
    "# Project Psyched: A Closer Look Into Reproducibility In Psychological Research\n",
    "\n",
    "## Full Text Mining Script: Part 2 - Test Statistics\n",
    "This script is set up for ProQuest TDM Studio's corpus of Psychology texts.\n",
    "\n",
    "Author: Yuyang Zhong (2020). This work is licensed under a [Creative Commons BY-NC-SA 4.0 International\n",
    "License][cc-by].\n",
    "\n",
    "![CC BY-NC-SA 4.0][cc-by-shield]\n",
    "\n",
    "[cc-by]: http://creativecommons.org/licenses/by/4.0/\n",
    "[cc-by-shield]: https://img.shields.io/badge/license-CC--BY--NC--SA%204.0-blue"
   ]
  },
  {
   "cell_type": "markdown",
   "metadata": {},
   "source": [
    "#### Setup & Imports"
   ]
  },
  {
   "cell_type": "code",
   "execution_count": 1,
   "metadata": {},
   "outputs": [],
   "source": [
    "import os\n",
    "import json\n",
    "import xml.etree.ElementTree as ET\n",
    "import re"
   ]
  },
  {
   "cell_type": "code",
   "execution_count": 2,
   "metadata": {},
   "outputs": [],
   "source": [
    "in_path = \"../articles/samples/\"\n",
    "out_path = \"../data/samples/\""
   ]
  },
  {
   "cell_type": "code",
   "execution_count": 3,
   "metadata": {},
   "outputs": [
    {
     "data": {
      "text/plain": [
       "['1554207703.txt', '1011297999.txt', '1509629602.txt']"
      ]
     },
     "execution_count": 3,
     "metadata": {},
     "output_type": "execute_result"
    }
   ],
   "source": [
    "os.listdir(in_path)"
   ]
  },
  {
   "cell_type": "code",
   "execution_count": 4,
   "metadata": {},
   "outputs": [],
   "source": [
    "def capture(in_path, out_path, out_name):\n",
    "    \"\"\"\n",
    "    An encapsulating function to scrape metadata, research statistics,\n",
    "    and reproducibility practices.\n",
    "    \n",
    "    @parameter in_path: the path of the input files\n",
    "    @parameter out_path: the path to output file\n",
    "    @parameter out_name: name for output file\n",
    "    \n",
    "    \"\"\"\n",
    "    \n",
    "    # Make sure our parameters are strings\n",
    "    assert(type(in_path) == str)\n",
    "    assert(type(out_path) == str)\n",
    "    assert(type(out_name) == str)\n",
    "    \n",
    "    # Loop through the in_path directory for files\n",
    "    data={}\n",
    "    for f in os.listdir(in_path):\n",
    "               \n",
    "        ##### Set up XML parser & JSON output file #####\n",
    "        data[f] = {}\n",
    "        root = ET.parse(in_path+f).getroot()\n",
    "        \n",
    "        ##### Capture Test Statistics #####\n",
    "        try:\n",
    "            raw_text = root.find('TextInfo').find('PreformattedData').find('PsycArticles').text\n",
    "        except AttributeError:\n",
    "            raw_text = ''\n",
    "        \n",
    "        ## strip HTML tags\n",
    "        raw_text = re.sub(r'<[^>]*>', '', raw_text)\n",
    "        \n",
    "        ## remove nextline character\n",
    "        raw_text = re.sub(r'\\n\\s*', '   ', raw_text)\n",
    "        \n",
    "        ## Replace HTML named symbols \n",
    "        html_symbols = {\n",
    "            \"&\": r'&amp;',\n",
    "            '\"': r'&quot;',\n",
    "            \"'\": r'&apos;',\n",
    "            \">\": r'&gt;',\n",
    "            \"<\": r'&lt;',\n",
    "        }\n",
    "        for i in iter(html_symbols):\n",
    "            raw_text = re.sub(html_symbols[i], i, raw_text)\n",
    "           \n",
    "        ## F Statistics ##\n",
    "        data[f]['F_stats'] = re.findall(r'Fs?\\s*\\(\\s*\\d+\\s*\\,\\s*\\d+\\s*\\)\\s*[\\<|\\>|\\=]\\s*\\d*\\.?\\d*\\s*\\,\\s*p\\s*[\\<|\\>|\\=]\\s*\\d*\\.\\d+', \n",
    "                                        raw_text)\n",
    "        data[f]['F_stats_ns'] = re.findall(r'Fs?\\s*\\(\\s*\\d+\\s*\\,\\s*\\d+\\s*\\)\\s*[\\<|\\>|\\=]\\s*\\d*\\.?\\d*\\s*\\,\\s*n\\.?s\\.?', \n",
    "                                           raw_text)\n",
    "        \n",
    "        data[f]['t_scores'] = re.findall(r't\\s*\\(\\s*\\d*\\s*,?\\s*\\d+\\s*\\)\\s*[\\<|\\>|\\=]\\s*[\\−|\\-]?\\s*\\d*\\.?\\d*\\s*,\\s*p\\s*[\\<|\\>|\\=]\\s*\\d?\\.\\d+',\n",
    "                                         raw_text)\n",
    "        data[f]['t_scores_ns'] = re.findall(r't\\s*\\(\\s*\\d*\\s*,?\\s*\\d+\\s*\\)\\s*[\\<|\\>|\\=]\\s*[\\−|\\-]?\\s*\\d*\\.?\\d*\\s*,\\s*n\\.?s\\.?',\n",
    "                                            raw_text)\n",
    "                \n",
    "        \n",
    "    ##### Write Output #####\n",
    "    with open(out_name + '.json', 'w') as outfile:\n",
    "        json.dump(data, outfile, indent=2)      "
   ]
  },
  {
   "cell_type": "code",
   "execution_count": 5,
   "metadata": {},
   "outputs": [],
   "source": [
    "capture(in_path, out_path, 'samples')"
   ]
  },
  {
   "cell_type": "code",
   "execution_count": null,
   "metadata": {},
   "outputs": [],
   "source": []
  }
 ],
 "metadata": {
  "kernelspec": {
   "display_name": "Python 3",
   "language": "python",
   "name": "python3"
  },
  "language_info": {
   "codemirror_mode": {
    "name": "ipython",
    "version": 3
   },
   "file_extension": ".py",
   "mimetype": "text/x-python",
   "name": "python",
   "nbconvert_exporter": "python",
   "pygments_lexer": "ipython3",
   "version": "3.7.4"
  }
 },
 "nbformat": 4,
 "nbformat_minor": 2
}
