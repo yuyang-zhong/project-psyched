{
 "cells": [
  {
   "cell_type": "markdown",
   "metadata": {},
   "source": [
    "# Preprocessing: PDF to Text Conversion"
   ]
  },
  {
   "cell_type": "markdown",
   "metadata": {},
   "source": [
    "This notebook is intended to efficiently way to convert articles in `*.pdf` format into plain text as part of a `*.json` file format that contains meta information of the article. \n",
    "\n",
    "Running this notebook in full will convert everything in the `../articles/` folder and place the output text files in `../data/` folder. "
   ]
  },
  {
   "cell_type": "code",
   "execution_count": 9,
   "metadata": {},
   "outputs": [],
   "source": [
    "import os\n",
    "import json\n",
    "import slate3k as sl\n",
    "import subprocess\n",
    "import json\n",
    "import re"
   ]
  },
  {
   "cell_type": "markdown",
   "metadata": {},
   "source": [
    "**Connection to paths**"
   ]
  },
  {
   "cell_type": "code",
   "execution_count": 2,
   "metadata": {},
   "outputs": [],
   "source": [
    "article_dir = '../articles/'\n",
    "data_dir_ = '../data/'"
   ]
  },
  {
   "cell_type": "code",
   "execution_count": 3,
   "metadata": {},
   "outputs": [],
   "source": [
    "os.listdir(article_dir)[1]"
   ]
  },
  {
   "cell_type": "markdown",
   "metadata": {},
   "source": [
    "**Function for processing individual file in directory**\n",
    "\n",
    "Script adopted from `slate` package documentation:"
   ]
  },
  {
   "cell_type": "code",
   "execution_count": 4,
   "metadata": {},
   "outputs": [],
   "source": [
    "def convert_pdf(path):\n",
    "    with open(path,'rb') as f:\n",
    "        extracted_text = sl.PDF(f)\n",
    "\n",
    "    # Remove all of the line breaks & tabs  \n",
    "    clean_text = \" \".join([pg.replace(\"\\n\", \"\").replace(\"\\t\", \"\").replace(u'\\xa0', u'').replace(u'\\x0c', u'') \n",
    "                  for pg in extracted_text])\n",
    "\n",
    "    return clean_text"
   ]
  },
  {
   "cell_type": "code",
   "execution_count": 20,
   "metadata": {},
   "outputs": [],
   "source": [
    "def capture_doi(text):\n",
    "    return re.findall('DOI:(\\d+\\.\\d+\\/\\w.\\d+)', text)[0]"
   ]
  },
  {
   "cell_type": "code",
   "execution_count": 21,
   "metadata": {},
   "outputs": [],
   "source": [
    "temp_path = article_dir+os.listdir(article_dir)[0]"
   ]
  },
  {
   "cell_type": "code",
   "execution_count": 22,
   "metadata": {
    "scrolled": false
   },
   "outputs": [
    {
     "name": "stderr",
     "output_type": "stream",
     "text": [
      "WARNING:pdfminer.layout:Too many boxes (125) to group, skipping.\n",
      "WARNING:pdfminer.layout:Too many boxes (285) to group, skipping.\n",
      "WARNING:pdfminer.layout:Too many boxes (339) to group, skipping.\n",
      "WARNING:pdfminer.layout:Too many boxes (289) to group, skipping.\n",
      "WARNING:pdfminer.layout:Too many boxes (281) to group, skipping.\n",
      "WARNING:pdfminer.layout:Too many boxes (195) to group, skipping.\n",
      "WARNING:pdfminer.layout:Too many boxes (214) to group, skipping.\n",
      "WARNING:pdfminer.layout:Too many boxes (218) to group, skipping.\n",
      "WARNING:pdfminer.layout:Too many boxes (174) to group, skipping.\n",
      "WARNING:pdfminer.layout:Too many boxes (179) to group, skipping.\n",
      "WARNING:pdfminer.layout:Too many boxes (142) to group, skipping.\n",
      "WARNING:pdfminer.layout:Too many boxes (228) to group, skipping.\n",
      "WARNING:pdfminer.layout:Too many boxes (216) to group, skipping.\n",
      "WARNING:pdfminer.layout:Too many boxes (346) to group, skipping.\n",
      "WARNING:pdfminer.layout:Too many boxes (359) to group, skipping.\n",
      "WARNING:pdfminer.layout:Too many boxes (274) to group, skipping.\n",
      "WARNING:pdfminer.layout:Too many boxes (380) to group, skipping.\n",
      "WARNING:pdfminer.layout:Too many boxes (216) to group, skipping.\n"
     ]
    }
   ],
   "source": [
    "text = convert_pdf(temp_path)"
   ]
  },
  {
   "cell_type": "markdown",
   "metadata": {},
   "source": [
    "**Pulling metadata from DOI**"
   ]
  },
  {
   "cell_type": "code",
   "execution_count": 16,
   "metadata": {},
   "outputs": [],
   "source": [
    "def doi_pull(doi):\n",
    "    \"\"\"Returns the metadata form a cURL of the input doi. \n",
    "    \"\"\"\n",
    "    \n",
    "    if type(doi) != str:\n",
    "        raise ValueError('doi needs to be a string.')\n",
    "    \n",
    "    # cURL the doi metadata in json format\n",
    "    proc = subprocess.Popen([\"curl\", \"-LH\", \"Accept: application/json\", \n",
    "                         \"http://dx.doi.org/\"+doi], stdout=subprocess.PIPE)\n",
    "    (out, err) = proc.communicate()\n",
    "    \n",
    "    # clean up for json processing\n",
    "    out.decode(\"utf-8\")\n",
    "    cleaned_meta = json.loads(out.decode(\"utf-8\"))\n",
    "    \n",
    "    return cleaned_meta "
   ]
  },
  {
   "cell_type": "code",
   "execution_count": 23,
   "metadata": {},
   "outputs": [
    {
     "data": {
      "text/plain": [
       "{'indexed': {'date-parts': [[2019, 12, 2]],\n",
       "  'date-time': '2019-12-02T19:23:54Z',\n",
       "  'timestamp': 1575314634111},\n",
       " 'reference-count': 0,\n",
       " 'publisher': 'American Psychological Association (APA)',\n",
       " 'issue': '5',\n",
       " 'content-domain': {'domain': [], 'crossmark-restriction': False},\n",
       " 'DOI': '10.1037/a0034040',\n",
       " 'type': 'article-journal',\n",
       " 'created': {'date-parts': [[2013, 8, 19]],\n",
       "  'date-time': '2013-08-19T15:52:32Z',\n",
       "  'timestamp': 1376927552000},\n",
       " 'page': '799-809',\n",
       " 'source': 'Crossref',\n",
       " 'is-referenced-by-count': 33,\n",
       " 'title': 'A field experiment: Reducing interpersonal discrimination toward pregnant job applicants.',\n",
       " 'prefix': '10.1037',\n",
       " 'volume': '98',\n",
       " 'author': [{'given': 'Whitney Botsford',\n",
       "   'family': 'Morgan',\n",
       "   'sequence': 'first',\n",
       "   'affiliation': []},\n",
       "  {'given': 'Sarah Singletary',\n",
       "   'family': 'Walker',\n",
       "   'sequence': 'additional',\n",
       "   'affiliation': []},\n",
       "  {'given': 'Michelle (Mikki) R.',\n",
       "   'family': 'Hebl',\n",
       "   'sequence': 'additional',\n",
       "   'affiliation': []},\n",
       "  {'given': 'Eden B.',\n",
       "   'family': 'King',\n",
       "   'sequence': 'additional',\n",
       "   'affiliation': []}],\n",
       " 'member': '15',\n",
       " 'published-online': {'date-parts': [[2013]]},\n",
       " 'container-title': 'Journal of Applied Psychology',\n",
       " 'original-title': [],\n",
       " 'language': 'en',\n",
       " 'link': [{'URL': 'http://psycnet.apa.org/journals/apl/98/5/799.pdf',\n",
       "   'content-type': 'unspecified',\n",
       "   'content-version': 'vor',\n",
       "   'intended-application': 'similarity-checking'}],\n",
       " 'deposited': {'date-parts': [[2017, 5, 18]],\n",
       "  'date-time': '2017-05-18T05:07:44Z',\n",
       "  'timestamp': 1495084064000},\n",
       " 'score': 1.0,\n",
       " 'subtitle': [],\n",
       " 'short-title': [],\n",
       " 'issued': {'date-parts': [[2013]]},\n",
       " 'references-count': 0,\n",
       " 'journal-issue': {'published-online': {'date-parts': [[2013]]}, 'issue': '5'},\n",
       " 'alternative-id': ['2013-29216-001', '23957687'],\n",
       " 'URL': 'http://dx.doi.org/10.1037/a0034040',\n",
       " 'relation': {},\n",
       " 'ISSN': ['1939-1854', '0021-9010'],\n",
       " 'subject': ['Applied Psychology'],\n",
       " 'container-title-short': 'Journal of Applied Psychology'}"
      ]
     },
     "execution_count": 23,
     "metadata": {},
     "output_type": "execute_result"
    }
   ],
   "source": [
    "doi_pull(capture_doi(text))"
   ]
  },
  {
   "cell_type": "code",
   "execution_count": null,
   "metadata": {},
   "outputs": [],
   "source": []
  }
 ],
 "metadata": {
  "kernelspec": {
   "display_name": "Python 3",
   "language": "python",
   "name": "python3"
  },
  "language_info": {
   "codemirror_mode": {
    "name": "ipython",
    "version": 3
   },
   "file_extension": ".py",
   "mimetype": "text/x-python",
   "name": "python",
   "nbconvert_exporter": "python",
   "pygments_lexer": "ipython3",
   "version": "3.7.4"
  }
 },
 "nbformat": 4,
 "nbformat_minor": 2
}
