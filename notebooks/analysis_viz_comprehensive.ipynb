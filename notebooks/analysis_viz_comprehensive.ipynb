{
 "cells": [
  {
   "cell_type": "markdown",
   "id": "349e8270",
   "metadata": {},
   "source": [
    "# Project Psyched: A Closer Look Into Reproducibility In Psychological Research\n",
    "\n",
    "## Data Analysis & Visualization Script: Comperhensive Analysis\n",
    "This script for data analysis and visualization after data has been scraped from TDM Studio. \n",
    "\n",
    "This notebook combines analyses done across part 1 & 2 of this project, and utilizes the full corupus of the 6 APA journals avaiable in this project.\n",
    "\n",
    "Author: Yuyang Zhong (2021). This work is licensed under a [Creative Commons BY-NC-SA 4.0 International\n",
    "License][cc-by].\n",
    "\n",
    "![CC BY-NC-SA 4.0][cc-by-shield]\n",
    "\n",
    "[cc-by]: http://creativecommons.org/licenses/by/4.0/\n",
    "[cc-by-shield]: https://img.shields.io/badge/license-CC--BY--NC--SA%204.0-blue"
   ]
  },
  {
   "cell_type": "markdown",
   "id": "b60210a5",
   "metadata": {},
   "source": [
    "#### Setup & Imports"
   ]
  },
  {
   "cell_type": "code",
   "execution_count": 3,
   "id": "3216a7d5",
   "metadata": {},
   "outputs": [],
   "source": [
    "import numpy as np\n",
    "import pandas as pd\n",
    "import matplotlib.pyplot as plt\n",
    "import seaborn as sns\n",
    "import re\n",
    "from scipy import stats"
   ]
  },
  {
   "cell_type": "markdown",
   "id": "da6fd4f3",
   "metadata": {},
   "source": [
    "#### Load p-values & statistics"
   ]
  },
  {
   "cell_type": "code",
   "execution_count": 13,
   "id": "49754c85",
   "metadata": {},
   "outputs": [],
   "source": [
    "in_path = \"../data/\"\n",
    "in_name = 'stats_all.csv'"
   ]
  },
  {
   "cell_type": "code",
   "execution_count": 14,
   "id": "c5a81cb5",
   "metadata": {},
   "outputs": [
    {
     "data": {
      "text/html": [
       "<div>\n",
       "<style scoped>\n",
       "    .dataframe tbody tr th:only-of-type {\n",
       "        vertical-align: middle;\n",
       "    }\n",
       "\n",
       "    .dataframe tbody tr th {\n",
       "        vertical-align: top;\n",
       "    }\n",
       "\n",
       "    .dataframe thead th {\n",
       "        text-align: right;\n",
       "    }\n",
       "</style>\n",
       "<table border=\"1\" class=\"dataframe\">\n",
       "  <thead>\n",
       "    <tr style=\"text-align: right;\">\n",
       "      <th></th>\n",
       "      <th>Original</th>\n",
       "      <th>Type</th>\n",
       "      <th>Sign</th>\n",
       "      <th>Reported p-value</th>\n",
       "      <th>Recalculated p-value</th>\n",
       "    </tr>\n",
       "    <tr>\n",
       "      <th>File</th>\n",
       "      <th></th>\n",
       "      <th></th>\n",
       "      <th></th>\n",
       "      <th></th>\n",
       "      <th></th>\n",
       "    </tr>\n",
       "  </thead>\n",
       "  <tbody>\n",
       "    <tr>\n",
       "      <th>614337945.xml</th>\n",
       "      <td>t   (41)   = 4.10,    p   &lt; .01</td>\n",
       "      <td>t</td>\n",
       "      <td>&lt;</td>\n",
       "      <td>0.01</td>\n",
       "      <td>9.531027e-05</td>\n",
       "    </tr>\n",
       "    <tr>\n",
       "      <th>614337945.xml</th>\n",
       "      <td>t   (41)   = −3.56,    p   &lt; .01</td>\n",
       "      <td>t</td>\n",
       "      <td>&lt;</td>\n",
       "      <td>0.01</td>\n",
       "      <td>9.995224e-01</td>\n",
       "    </tr>\n",
       "    <tr>\n",
       "      <th>614337945.xml</th>\n",
       "      <td>t   (41)   = 8.21,    p   &lt; .01</td>\n",
       "      <td>t</td>\n",
       "      <td>&lt;</td>\n",
       "      <td>0.01</td>\n",
       "      <td>1.708961e-10</td>\n",
       "    </tr>\n",
       "    <tr>\n",
       "      <th>614337945.xml</th>\n",
       "      <td>t   (41)   = 4.82,    p   &lt; .01</td>\n",
       "      <td>t</td>\n",
       "      <td>&lt;</td>\n",
       "      <td>0.01</td>\n",
       "      <td>9.987600e-06</td>\n",
       "    </tr>\n",
       "    <tr>\n",
       "      <th>614337945.xml</th>\n",
       "      <td>t   (41)   = −2.57,    p   &lt; .01</td>\n",
       "      <td>t</td>\n",
       "      <td>&lt;</td>\n",
       "      <td>0.01</td>\n",
       "      <td>9.930493e-01</td>\n",
       "    </tr>\n",
       "  </tbody>\n",
       "</table>\n",
       "</div>"
      ],
      "text/plain": [
       "                                       Original Type Sign  Reported p-value  \\\n",
       "File                                                                          \n",
       "614337945.xml   t   (41)   = 4.10,    p   < .01    t    <              0.01   \n",
       "614337945.xml  t   (41)   = −3.56,    p   < .01    t    <              0.01   \n",
       "614337945.xml   t   (41)   = 8.21,    p   < .01    t    <              0.01   \n",
       "614337945.xml   t   (41)   = 4.82,    p   < .01    t    <              0.01   \n",
       "614337945.xml  t   (41)   = −2.57,    p   < .01    t    <              0.01   \n",
       "\n",
       "               Recalculated p-value  \n",
       "File                                 \n",
       "614337945.xml          9.531027e-05  \n",
       "614337945.xml          9.995224e-01  \n",
       "614337945.xml          1.708961e-10  \n",
       "614337945.xml          9.987600e-06  \n",
       "614337945.xml          9.930493e-01  "
      ]
     },
     "execution_count": 14,
     "metadata": {},
     "output_type": "execute_result"
    }
   ],
   "source": [
    "df_stats = pd.read_csv(in_path + in_name, index_col='File').drop('Unnamed: 0', axis=1)\n",
    "df_stats.head()"
   ]
  },
  {
   "cell_type": "code",
   "execution_count": 15,
   "id": "aff1bff3",
   "metadata": {},
   "outputs": [
    {
     "data": {
      "text/plain": [
       "(212589, 5)"
      ]
     },
     "execution_count": 15,
     "metadata": {},
     "output_type": "execute_result"
    }
   ],
   "source": [
    "df_stats.shape"
   ]
  },
  {
   "cell_type": "code",
   "execution_count": 16,
   "id": "1e29d9bc",
   "metadata": {},
   "outputs": [
    {
     "data": {
      "text/plain": [
       "1640024140.xml    404\n",
       "614509854.xml     375\n",
       "1753445757.xml    357\n",
       "2316529621.xml    320\n",
       "1415593625.xml    255\n",
       "                 ... \n",
       "614372519.xml       1\n",
       "614320515.xml       1\n",
       "614475727.xml       1\n",
       "929476762.xml       1\n",
       "614324534.xml       1\n",
       "Name: File, Length: 11701, dtype: int64"
      ]
     },
     "execution_count": 16,
     "metadata": {},
     "output_type": "execute_result"
    }
   ],
   "source": [
    "df.index.value_counts()"
   ]
  },
  {
   "cell_type": "markdown",
   "id": "76d4d76d",
   "metadata": {},
   "source": [
    "#### Load Journal Metadata"
   ]
  },
  {
   "cell_type": "code",
   "execution_count": 17,
   "id": "06df8f64",
   "metadata": {
    "scrolled": true
   },
   "outputs": [
    {
     "data": {
      "text/html": [
       "<div>\n",
       "<style scoped>\n",
       "    .dataframe tbody tr th:only-of-type {\n",
       "        vertical-align: middle;\n",
       "    }\n",
       "\n",
       "    .dataframe tbody tr th {\n",
       "        vertical-align: top;\n",
       "    }\n",
       "\n",
       "    .dataframe thead th {\n",
       "        text-align: right;\n",
       "    }\n",
       "</style>\n",
       "<table border=\"1\" class=\"dataframe\">\n",
       "  <thead>\n",
       "    <tr style=\"text-align: right;\">\n",
       "      <th></th>\n",
       "      <th>Journal</th>\n",
       "      <th>Date Published</th>\n",
       "    </tr>\n",
       "  </thead>\n",
       "  <tbody>\n",
       "    <tr>\n",
       "      <th>614337945.xml</th>\n",
       "      <td>Journal of Personality and Social Psychology</td>\n",
       "      <td>1987-03-01</td>\n",
       "    </tr>\n",
       "    <tr>\n",
       "      <th>1647028895.xml</th>\n",
       "      <td>Journal of Personality and Social Psychology</td>\n",
       "      <td>2015-01-01</td>\n",
       "    </tr>\n",
       "    <tr>\n",
       "      <th>614404963.xml</th>\n",
       "      <td>Journal of Personality and Social Psychology</td>\n",
       "      <td>2002-07-01</td>\n",
       "    </tr>\n",
       "    <tr>\n",
       "      <th>614332724.xml</th>\n",
       "      <td>Journal of Personality and Social Psychology</td>\n",
       "      <td>1997-11-01</td>\n",
       "    </tr>\n",
       "    <tr>\n",
       "      <th>614304222.xml</th>\n",
       "      <td>Journal of Personality and Social Psychology</td>\n",
       "      <td>1990-11-01</td>\n",
       "    </tr>\n",
       "  </tbody>\n",
       "</table>\n",
       "</div>"
      ],
      "text/plain": [
       "                                                     Journal Date Published\n",
       "614337945.xml   Journal of Personality and Social Psychology     1987-03-01\n",
       "1647028895.xml  Journal of Personality and Social Psychology     2015-01-01\n",
       "614404963.xml   Journal of Personality and Social Psychology     2002-07-01\n",
       "614332724.xml   Journal of Personality and Social Psychology     1997-11-01\n",
       "614304222.xml   Journal of Personality and Social Psychology     1990-11-01"
      ]
     },
     "execution_count": 17,
     "metadata": {},
     "output_type": "execute_result"
    }
   ],
   "source": [
    "meta = pd.read_csv(in_path + \"metadata_all.csv\", index_col=0)\n",
    "meta = meta[['Journal', 'Date Published']]\n",
    "meta.head()"
   ]
  },
  {
   "cell_type": "code",
   "execution_count": 18,
   "id": "5d2d0383",
   "metadata": {},
   "outputs": [
    {
     "data": {
      "text/plain": [
       "American Psychologist                                                  13854\n",
       "Journal of Applied Psychology                                           9960\n",
       "Developmental Psychology                                                6757\n",
       "Journal of Personality and Social Psychology                            6048\n",
       "Journal of Abnormal Psychology                                          5266\n",
       "Journal of Experimental Psychology: Learning, Memory, and Cognition     4171\n",
       "Journal of Experimental Social Psychology                                  1\n",
       "Name: Journal, dtype: int64"
      ]
     },
     "execution_count": 18,
     "metadata": {},
     "output_type": "execute_result"
    }
   ],
   "source": [
    "meta['Journal'] = meta['Journal'].replace('The Journal of Abnormal Psychology', 'Journal of Abnormal Psychology')\n",
    "meta['Journal'].value_counts()"
   ]
  },
  {
   "cell_type": "code",
   "execution_count": null,
   "id": "7852fec8",
   "metadata": {},
   "outputs": [],
   "source": []
  }
 ],
 "metadata": {
  "kernelspec": {
   "display_name": "Python 3 (ipykernel)",
   "language": "python",
   "name": "python3"
  },
  "language_info": {
   "codemirror_mode": {
    "name": "ipython",
    "version": 3
   },
   "file_extension": ".py",
   "mimetype": "text/x-python",
   "name": "python",
   "nbconvert_exporter": "python",
   "pygments_lexer": "ipython3",
   "version": "3.9.7"
  }
 },
 "nbformat": 4,
 "nbformat_minor": 5
}
