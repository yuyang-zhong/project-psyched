{
 "cells": [
  {
   "cell_type": "markdown",
   "id": "08015911",
   "metadata": {},
   "source": [
    "# Project Psyched: A Closer Look Into Reproducibility In Psychological Research\n",
    "\n",
    "## Data Analysis & Visualization Script: Comperhensive Analysis\n",
    "This script for data analysis and visualization after data has been scraped from TDM Studio. \n",
    "\n",
    "This notebook combines analyses done across part 1 & 2 of this project, and utilizes the full corupus of the 6 APA journals avaiable in this project.\n",
    "\n",
    "Author: Yuyang Zhong (2021). This work is licensed under a [Creative Commons BY-NC-SA 4.0 International\n",
    "License][cc-by].\n",
    "\n",
    "![CC BY-NC-SA 4.0][cc-by-shield]\n",
    "\n",
    "[cc-by]: http://creativecommons.org/licenses/by/4.0/\n",
    "[cc-by-shield]: https://img.shields.io/badge/license-CC--BY--NC--SA%204.0-blue"
   ]
  },
  {
   "cell_type": "markdown",
   "id": "866072c1",
   "metadata": {},
   "source": [
    "#### Setup & Imports"
   ]
  },
  {
   "cell_type": "code",
   "execution_count": 37,
   "id": "23701fb7",
   "metadata": {},
   "outputs": [],
   "source": [
    "import numpy as np\n",
    "import pandas as pd\n",
    "import matplotlib.pyplot as plt\n",
    "import seaborn as sns\n",
    "import re\n",
    "from scipy import stats"
   ]
  },
  {
   "cell_type": "markdown",
   "id": "07bdef17",
   "metadata": {},
   "source": [
    "#### Load Journal Metadata"
   ]
  },
  {
   "cell_type": "code",
   "execution_count": 47,
   "id": "a1fc7996",
   "metadata": {
    "scrolled": true
   },
   "outputs": [
    {
     "data": {
      "text/html": [
       "<div>\n",
       "<style scoped>\n",
       "    .dataframe tbody tr th:only-of-type {\n",
       "        vertical-align: middle;\n",
       "    }\n",
       "\n",
       "    .dataframe tbody tr th {\n",
       "        vertical-align: top;\n",
       "    }\n",
       "\n",
       "    .dataframe thead th {\n",
       "        text-align: right;\n",
       "    }\n",
       "</style>\n",
       "<table border=\"1\" class=\"dataframe\">\n",
       "  <thead>\n",
       "    <tr style=\"text-align: right;\">\n",
       "      <th></th>\n",
       "      <th>Journal</th>\n",
       "      <th>Date Published</th>\n",
       "    </tr>\n",
       "  </thead>\n",
       "  <tbody>\n",
       "    <tr>\n",
       "      <th>614337945.xml</th>\n",
       "      <td>Journal of Personality and Social Psychology</td>\n",
       "      <td>1987-03-01</td>\n",
       "    </tr>\n",
       "    <tr>\n",
       "      <th>1647028895.xml</th>\n",
       "      <td>Journal of Personality and Social Psychology</td>\n",
       "      <td>2015-01-01</td>\n",
       "    </tr>\n",
       "    <tr>\n",
       "      <th>614404963.xml</th>\n",
       "      <td>Journal of Personality and Social Psychology</td>\n",
       "      <td>2002-07-01</td>\n",
       "    </tr>\n",
       "    <tr>\n",
       "      <th>614332724.xml</th>\n",
       "      <td>Journal of Personality and Social Psychology</td>\n",
       "      <td>1997-11-01</td>\n",
       "    </tr>\n",
       "    <tr>\n",
       "      <th>614304222.xml</th>\n",
       "      <td>Journal of Personality and Social Psychology</td>\n",
       "      <td>1990-11-01</td>\n",
       "    </tr>\n",
       "  </tbody>\n",
       "</table>\n",
       "</div>"
      ],
      "text/plain": [
       "                                                     Journal Date Published\n",
       "614337945.xml   Journal of Personality and Social Psychology     1987-03-01\n",
       "1647028895.xml  Journal of Personality and Social Psychology     2015-01-01\n",
       "614404963.xml   Journal of Personality and Social Psychology     2002-07-01\n",
       "614332724.xml   Journal of Personality and Social Psychology     1997-11-01\n",
       "614304222.xml   Journal of Personality and Social Psychology     1990-11-01"
      ]
     },
     "execution_count": 47,
     "metadata": {},
     "output_type": "execute_result"
    }
   ],
   "source": [
    "meta = pd.read_csv(in_path + \"metadata_all.csv\", index_col=0)\n",
    "meta = meta[['Journal', 'Date Published']]\n",
    "meta.head()"
   ]
  },
  {
   "cell_type": "code",
   "execution_count": 48,
   "id": "2c62aecd",
   "metadata": {},
   "outputs": [
    {
     "data": {
      "text/plain": [
       "(46057, 2)"
      ]
     },
     "execution_count": 48,
     "metadata": {},
     "output_type": "execute_result"
    }
   ],
   "source": [
    "meta.shape"
   ]
  },
  {
   "cell_type": "code",
   "execution_count": 49,
   "id": "9f5b25dd",
   "metadata": {},
   "outputs": [
    {
     "data": {
      "text/plain": [
       "American Psychologist                                                  13854\n",
       "Journal of Applied Psychology                                           9960\n",
       "Developmental Psychology                                                6757\n",
       "Journal of Personality and Social Psychology                            6048\n",
       "Journal of Abnormal Psychology                                          5266\n",
       "Journal of Experimental Psychology: Learning, Memory, and Cognition     4171\n",
       "Journal of Experimental Social Psychology                                  1\n",
       "Name: Journal, dtype: int64"
      ]
     },
     "execution_count": 49,
     "metadata": {},
     "output_type": "execute_result"
    }
   ],
   "source": [
    "meta['Journal'] = meta['Journal'].replace('The Journal of Abnormal Psychology', 'Journal of Abnormal Psychology')\n",
    "meta['Journal'].value_counts()"
   ]
  },
  {
   "cell_type": "markdown",
   "id": "d220ffda",
   "metadata": {},
   "source": [
    "Remove the 1 single JESP entry"
   ]
  },
  {
   "cell_type": "code",
   "execution_count": 52,
   "id": "809a871a",
   "metadata": {},
   "outputs": [
    {
     "data": {
      "text/plain": [
       "(46056, 2)"
      ]
     },
     "execution_count": 52,
     "metadata": {},
     "output_type": "execute_result"
    }
   ],
   "source": [
    "meta = meta[meta['Journal'] != 'Journal of Experimental Social Psychology']\n",
    "meta.shape"
   ]
  },
  {
   "cell_type": "markdown",
   "id": "1b3a7285",
   "metadata": {},
   "source": [
    "#### Descriptive Statistics"
   ]
  },
  {
   "cell_type": "code",
   "execution_count": 53,
   "id": "1580249b",
   "metadata": {},
   "outputs": [],
   "source": [
    "meta['Date Published'] = pd.to_datetime(meta['Date Published'])\n",
    "meta['Year'] = meta['Date Published'].dt.year"
   ]
  },
  {
   "cell_type": "code",
   "execution_count": 54,
   "id": "6db2fc33",
   "metadata": {},
   "outputs": [
    {
     "data": {
      "text/html": [
       "<div>\n",
       "<style scoped>\n",
       "    .dataframe tbody tr th:only-of-type {\n",
       "        vertical-align: middle;\n",
       "    }\n",
       "\n",
       "    .dataframe tbody tr th {\n",
       "        vertical-align: top;\n",
       "    }\n",
       "\n",
       "    .dataframe thead tr th {\n",
       "        text-align: left;\n",
       "    }\n",
       "\n",
       "    .dataframe thead tr:last-of-type th {\n",
       "        text-align: right;\n",
       "    }\n",
       "</style>\n",
       "<table border=\"1\" class=\"dataframe\">\n",
       "  <thead>\n",
       "    <tr>\n",
       "      <th></th>\n",
       "      <th>Journal</th>\n",
       "      <th colspan=\"2\" halign=\"left\">Year</th>\n",
       "    </tr>\n",
       "    <tr>\n",
       "      <th></th>\n",
       "      <th>count</th>\n",
       "      <th>max</th>\n",
       "      <th>min</th>\n",
       "    </tr>\n",
       "    <tr>\n",
       "      <th>Journal</th>\n",
       "      <th></th>\n",
       "      <th></th>\n",
       "      <th></th>\n",
       "    </tr>\n",
       "  </thead>\n",
       "  <tbody>\n",
       "    <tr>\n",
       "      <th>American Psychologist</th>\n",
       "      <td>13854</td>\n",
       "      <td>2020</td>\n",
       "      <td>1946</td>\n",
       "    </tr>\n",
       "    <tr>\n",
       "      <th>Developmental Psychology</th>\n",
       "      <td>6757</td>\n",
       "      <td>2020</td>\n",
       "      <td>1969</td>\n",
       "    </tr>\n",
       "    <tr>\n",
       "      <th>Journal of Abnormal Psychology</th>\n",
       "      <td>5266</td>\n",
       "      <td>2020</td>\n",
       "      <td>1906</td>\n",
       "    </tr>\n",
       "    <tr>\n",
       "      <th>Journal of Applied Psychology</th>\n",
       "      <td>9960</td>\n",
       "      <td>2020</td>\n",
       "      <td>1917</td>\n",
       "    </tr>\n",
       "    <tr>\n",
       "      <th>Journal of Experimental Psychology: Learning, Memory, and Cognition</th>\n",
       "      <td>4171</td>\n",
       "      <td>2020</td>\n",
       "      <td>1982</td>\n",
       "    </tr>\n",
       "    <tr>\n",
       "      <th>Journal of Personality and Social Psychology</th>\n",
       "      <td>6048</td>\n",
       "      <td>2020</td>\n",
       "      <td>1985</td>\n",
       "    </tr>\n",
       "  </tbody>\n",
       "</table>\n",
       "</div>"
      ],
      "text/plain": [
       "                                                   Journal  Year      \n",
       "                                                     count   max   min\n",
       "Journal                                                               \n",
       "American Psychologist                                13854  2020  1946\n",
       "Developmental Psychology                              6757  2020  1969\n",
       "Journal of Abnormal Psychology                        5266  2020  1906\n",
       "Journal of Applied Psychology                         9960  2020  1917\n",
       "Journal of Experimental Psychology: Learning, M...    4171  2020  1982\n",
       "Journal of Personality and Social Psychology          6048  2020  1985"
      ]
     },
     "execution_count": 54,
     "metadata": {},
     "output_type": "execute_result"
    }
   ],
   "source": [
    "meta.groupby('Journal').agg({'Journal': 'count', 'Year': ['max', 'min']})"
   ]
  },
  {
   "cell_type": "markdown",
   "id": "e9b37620",
   "metadata": {},
   "source": [
    "Remove articles from before 1985"
   ]
  },
  {
   "cell_type": "code",
   "execution_count": 55,
   "id": "0b2f71f0",
   "metadata": {},
   "outputs": [],
   "source": [
    "list1985 = meta[meta['Year'] >= 1985].index"
   ]
  },
  {
   "cell_type": "code",
   "execution_count": 56,
   "id": "ce765210",
   "metadata": {},
   "outputs": [
    {
     "data": {
      "text/html": [
       "<div>\n",
       "<style scoped>\n",
       "    .dataframe tbody tr th:only-of-type {\n",
       "        vertical-align: middle;\n",
       "    }\n",
       "\n",
       "    .dataframe tbody tr th {\n",
       "        vertical-align: top;\n",
       "    }\n",
       "\n",
       "    .dataframe thead th {\n",
       "        text-align: right;\n",
       "    }\n",
       "</style>\n",
       "<table border=\"1\" class=\"dataframe\">\n",
       "  <thead>\n",
       "    <tr style=\"text-align: right;\">\n",
       "      <th></th>\n",
       "      <th>Journal</th>\n",
       "      <th>Date Published</th>\n",
       "      <th>Year</th>\n",
       "    </tr>\n",
       "  </thead>\n",
       "  <tbody>\n",
       "    <tr>\n",
       "      <th>614337945.xml</th>\n",
       "      <td>Journal of Personality and Social Psychology</td>\n",
       "      <td>1987-03-01</td>\n",
       "      <td>1987</td>\n",
       "    </tr>\n",
       "    <tr>\n",
       "      <th>1647028895.xml</th>\n",
       "      <td>Journal of Personality and Social Psychology</td>\n",
       "      <td>2015-01-01</td>\n",
       "      <td>2015</td>\n",
       "    </tr>\n",
       "    <tr>\n",
       "      <th>614404963.xml</th>\n",
       "      <td>Journal of Personality and Social Psychology</td>\n",
       "      <td>2002-07-01</td>\n",
       "      <td>2002</td>\n",
       "    </tr>\n",
       "    <tr>\n",
       "      <th>614332724.xml</th>\n",
       "      <td>Journal of Personality and Social Psychology</td>\n",
       "      <td>1997-11-01</td>\n",
       "      <td>1997</td>\n",
       "    </tr>\n",
       "    <tr>\n",
       "      <th>614304222.xml</th>\n",
       "      <td>Journal of Personality and Social Psychology</td>\n",
       "      <td>1990-11-01</td>\n",
       "      <td>1990</td>\n",
       "    </tr>\n",
       "  </tbody>\n",
       "</table>\n",
       "</div>"
      ],
      "text/plain": [
       "                                                     Journal Date Published  \\\n",
       "614337945.xml   Journal of Personality and Social Psychology     1987-03-01   \n",
       "1647028895.xml  Journal of Personality and Social Psychology     2015-01-01   \n",
       "614404963.xml   Journal of Personality and Social Psychology     2002-07-01   \n",
       "614332724.xml   Journal of Personality and Social Psychology     1997-11-01   \n",
       "614304222.xml   Journal of Personality and Social Psychology     1990-11-01   \n",
       "\n",
       "                Year  \n",
       "614337945.xml   1987  \n",
       "1647028895.xml  2015  \n",
       "614404963.xml   2002  \n",
       "614332724.xml   1997  \n",
       "614304222.xml   1990  "
      ]
     },
     "execution_count": 56,
     "metadata": {},
     "output_type": "execute_result"
    }
   ],
   "source": [
    "meta1985 = meta.loc[list1985,:]\n",
    "meta1985.head()"
   ]
  },
  {
   "cell_type": "code",
   "execution_count": 57,
   "id": "ec92348f",
   "metadata": {
    "scrolled": true
   },
   "outputs": [
    {
     "data": {
      "text/plain": [
       "(28440, 3)"
      ]
     },
     "execution_count": 57,
     "metadata": {},
     "output_type": "execute_result"
    }
   ],
   "source": [
    "meta1985.shape"
   ]
  },
  {
   "cell_type": "code",
   "execution_count": 58,
   "id": "4e625ba9",
   "metadata": {},
   "outputs": [
    {
     "data": {
      "text/html": [
       "<div>\n",
       "<style scoped>\n",
       "    .dataframe tbody tr th:only-of-type {\n",
       "        vertical-align: middle;\n",
       "    }\n",
       "\n",
       "    .dataframe tbody tr th {\n",
       "        vertical-align: top;\n",
       "    }\n",
       "\n",
       "    .dataframe thead tr th {\n",
       "        text-align: left;\n",
       "    }\n",
       "\n",
       "    .dataframe thead tr:last-of-type th {\n",
       "        text-align: right;\n",
       "    }\n",
       "</style>\n",
       "<table border=\"1\" class=\"dataframe\">\n",
       "  <thead>\n",
       "    <tr>\n",
       "      <th></th>\n",
       "      <th>Journal</th>\n",
       "      <th colspan=\"2\" halign=\"left\">Year</th>\n",
       "    </tr>\n",
       "    <tr>\n",
       "      <th></th>\n",
       "      <th>count</th>\n",
       "      <th>max</th>\n",
       "      <th>min</th>\n",
       "    </tr>\n",
       "    <tr>\n",
       "      <th>Journal</th>\n",
       "      <th></th>\n",
       "      <th></th>\n",
       "      <th></th>\n",
       "    </tr>\n",
       "  </thead>\n",
       "  <tbody>\n",
       "    <tr>\n",
       "      <th>American Psychologist</th>\n",
       "      <td>7260</td>\n",
       "      <td>2020</td>\n",
       "      <td>1985</td>\n",
       "    </tr>\n",
       "    <tr>\n",
       "      <th>Developmental Psychology</th>\n",
       "      <td>4691</td>\n",
       "      <td>2020</td>\n",
       "      <td>1985</td>\n",
       "    </tr>\n",
       "    <tr>\n",
       "      <th>Journal of Abnormal Psychology</th>\n",
       "      <td>2898</td>\n",
       "      <td>2020</td>\n",
       "      <td>1985</td>\n",
       "    </tr>\n",
       "    <tr>\n",
       "      <th>Journal of Applied Psychology</th>\n",
       "      <td>3539</td>\n",
       "      <td>2020</td>\n",
       "      <td>1985</td>\n",
       "    </tr>\n",
       "    <tr>\n",
       "      <th>Journal of Experimental Psychology: Learning, Memory, and Cognition</th>\n",
       "      <td>4004</td>\n",
       "      <td>2020</td>\n",
       "      <td>1985</td>\n",
       "    </tr>\n",
       "    <tr>\n",
       "      <th>Journal of Personality and Social Psychology</th>\n",
       "      <td>6048</td>\n",
       "      <td>2020</td>\n",
       "      <td>1985</td>\n",
       "    </tr>\n",
       "  </tbody>\n",
       "</table>\n",
       "</div>"
      ],
      "text/plain": [
       "                                                   Journal  Year      \n",
       "                                                     count   max   min\n",
       "Journal                                                               \n",
       "American Psychologist                                 7260  2020  1985\n",
       "Developmental Psychology                              4691  2020  1985\n",
       "Journal of Abnormal Psychology                        2898  2020  1985\n",
       "Journal of Applied Psychology                         3539  2020  1985\n",
       "Journal of Experimental Psychology: Learning, M...    4004  2020  1985\n",
       "Journal of Personality and Social Psychology          6048  2020  1985"
      ]
     },
     "execution_count": 58,
     "metadata": {},
     "output_type": "execute_result"
    }
   ],
   "source": [
    "meta1985.groupby('Journal').agg({'Journal': 'count', 'Year': ['max', 'min']})"
   ]
  },
  {
   "cell_type": "markdown",
   "id": "b0d0e2d2",
   "metadata": {},
   "source": [
    "#### Load p-values & statistics"
   ]
  },
  {
   "cell_type": "code",
   "execution_count": 59,
   "id": "f80e1eef",
   "metadata": {},
   "outputs": [],
   "source": [
    "in_path = \"../data/\"\n",
    "in_name = 'stats_all.csv'"
   ]
  },
  {
   "cell_type": "code",
   "execution_count": 60,
   "id": "3921dd28",
   "metadata": {
    "scrolled": true
   },
   "outputs": [
    {
     "data": {
      "text/html": [
       "<div>\n",
       "<style scoped>\n",
       "    .dataframe tbody tr th:only-of-type {\n",
       "        vertical-align: middle;\n",
       "    }\n",
       "\n",
       "    .dataframe tbody tr th {\n",
       "        vertical-align: top;\n",
       "    }\n",
       "\n",
       "    .dataframe thead th {\n",
       "        text-align: right;\n",
       "    }\n",
       "</style>\n",
       "<table border=\"1\" class=\"dataframe\">\n",
       "  <thead>\n",
       "    <tr style=\"text-align: right;\">\n",
       "      <th></th>\n",
       "      <th>Original</th>\n",
       "      <th>Type</th>\n",
       "      <th>stat-Sign</th>\n",
       "      <th>p-Sign</th>\n",
       "      <th>Reported p-value</th>\n",
       "      <th>Recalculated p-value</th>\n",
       "    </tr>\n",
       "    <tr>\n",
       "      <th>File</th>\n",
       "      <th></th>\n",
       "      <th></th>\n",
       "      <th></th>\n",
       "      <th></th>\n",
       "      <th></th>\n",
       "      <th></th>\n",
       "    </tr>\n",
       "  </thead>\n",
       "  <tbody>\n",
       "    <tr>\n",
       "      <th>614337945.xml</th>\n",
       "      <td>t   (41)   = 4.10,    p   &lt; .01</td>\n",
       "      <td>t</td>\n",
       "      <td>=</td>\n",
       "      <td>&lt;</td>\n",
       "      <td>0.01</td>\n",
       "      <td>9.531027e-05</td>\n",
       "    </tr>\n",
       "    <tr>\n",
       "      <th>614337945.xml</th>\n",
       "      <td>t   (41)   = −3.56,    p   &lt; .01</td>\n",
       "      <td>t</td>\n",
       "      <td>=</td>\n",
       "      <td>&lt;</td>\n",
       "      <td>0.01</td>\n",
       "      <td>9.995224e-01</td>\n",
       "    </tr>\n",
       "    <tr>\n",
       "      <th>614337945.xml</th>\n",
       "      <td>t   (41)   = 8.21,    p   &lt; .01</td>\n",
       "      <td>t</td>\n",
       "      <td>=</td>\n",
       "      <td>&lt;</td>\n",
       "      <td>0.01</td>\n",
       "      <td>1.708961e-10</td>\n",
       "    </tr>\n",
       "    <tr>\n",
       "      <th>614337945.xml</th>\n",
       "      <td>t   (41)   = 4.82,    p   &lt; .01</td>\n",
       "      <td>t</td>\n",
       "      <td>=</td>\n",
       "      <td>&lt;</td>\n",
       "      <td>0.01</td>\n",
       "      <td>9.987600e-06</td>\n",
       "    </tr>\n",
       "    <tr>\n",
       "      <th>614337945.xml</th>\n",
       "      <td>t   (41)   = −2.57,    p   &lt; .01</td>\n",
       "      <td>t</td>\n",
       "      <td>=</td>\n",
       "      <td>&lt;</td>\n",
       "      <td>0.01</td>\n",
       "      <td>9.930493e-01</td>\n",
       "    </tr>\n",
       "  </tbody>\n",
       "</table>\n",
       "</div>"
      ],
      "text/plain": [
       "                                       Original Type stat-Sign p-Sign  \\\n",
       "File                                                                    \n",
       "614337945.xml   t   (41)   = 4.10,    p   < .01    t         =      <   \n",
       "614337945.xml  t   (41)   = −3.56,    p   < .01    t         =      <   \n",
       "614337945.xml   t   (41)   = 8.21,    p   < .01    t         =      <   \n",
       "614337945.xml   t   (41)   = 4.82,    p   < .01    t         =      <   \n",
       "614337945.xml  t   (41)   = −2.57,    p   < .01    t         =      <   \n",
       "\n",
       "               Reported p-value  Recalculated p-value  \n",
       "File                                                   \n",
       "614337945.xml              0.01          9.531027e-05  \n",
       "614337945.xml              0.01          9.995224e-01  \n",
       "614337945.xml              0.01          1.708961e-10  \n",
       "614337945.xml              0.01          9.987600e-06  \n",
       "614337945.xml              0.01          9.930493e-01  "
      ]
     },
     "execution_count": 60,
     "metadata": {},
     "output_type": "execute_result"
    }
   ],
   "source": [
    "df_stats = pd.read_csv(in_path + in_name, index_col='File').drop('Unnamed: 0', axis=1)\n",
    "df_stats.head()"
   ]
  },
  {
   "cell_type": "code",
   "execution_count": 61,
   "id": "ab4f4d0a",
   "metadata": {},
   "outputs": [
    {
     "data": {
      "text/plain": [
       "(212589, 6)"
      ]
     },
     "execution_count": 61,
     "metadata": {},
     "output_type": "execute_result"
    }
   ],
   "source": [
    "df_stats.shape"
   ]
  },
  {
   "cell_type": "markdown",
   "id": "4d700a99",
   "metadata": {},
   "source": [
    "Remove entries prior to 1985 (none removed!)"
   ]
  },
  {
   "cell_type": "code",
   "execution_count": 68,
   "id": "1e34de9e",
   "metadata": {},
   "outputs": [
    {
     "data": {
      "text/plain": [
       "array([ True,  True,  True, ...,  True,  True,  True])"
      ]
     },
     "execution_count": 68,
     "metadata": {},
     "output_type": "execute_result"
    }
   ],
   "source": [
    "df_stats.index.isin(list1985)"
   ]
  },
  {
   "cell_type": "code",
   "execution_count": 69,
   "id": "1db834f0",
   "metadata": {},
   "outputs": [
    {
     "data": {
      "text/html": [
       "<div>\n",
       "<style scoped>\n",
       "    .dataframe tbody tr th:only-of-type {\n",
       "        vertical-align: middle;\n",
       "    }\n",
       "\n",
       "    .dataframe tbody tr th {\n",
       "        vertical-align: top;\n",
       "    }\n",
       "\n",
       "    .dataframe thead th {\n",
       "        text-align: right;\n",
       "    }\n",
       "</style>\n",
       "<table border=\"1\" class=\"dataframe\">\n",
       "  <thead>\n",
       "    <tr style=\"text-align: right;\">\n",
       "      <th></th>\n",
       "      <th>Original</th>\n",
       "      <th>Type</th>\n",
       "      <th>stat-Sign</th>\n",
       "      <th>p-Sign</th>\n",
       "      <th>Reported p-value</th>\n",
       "      <th>Recalculated p-value</th>\n",
       "    </tr>\n",
       "    <tr>\n",
       "      <th>File</th>\n",
       "      <th></th>\n",
       "      <th></th>\n",
       "      <th></th>\n",
       "      <th></th>\n",
       "      <th></th>\n",
       "      <th></th>\n",
       "    </tr>\n",
       "  </thead>\n",
       "  <tbody>\n",
       "    <tr>\n",
       "      <th>614337945.xml</th>\n",
       "      <td>t   (41)   = 4.10,    p   &lt; .01</td>\n",
       "      <td>t</td>\n",
       "      <td>=</td>\n",
       "      <td>&lt;</td>\n",
       "      <td>0.010</td>\n",
       "      <td>9.531027e-05</td>\n",
       "    </tr>\n",
       "    <tr>\n",
       "      <th>614337945.xml</th>\n",
       "      <td>t   (41)   = −3.56,    p   &lt; .01</td>\n",
       "      <td>t</td>\n",
       "      <td>=</td>\n",
       "      <td>&lt;</td>\n",
       "      <td>0.010</td>\n",
       "      <td>9.995224e-01</td>\n",
       "    </tr>\n",
       "    <tr>\n",
       "      <th>614337945.xml</th>\n",
       "      <td>t   (41)   = 8.21,    p   &lt; .01</td>\n",
       "      <td>t</td>\n",
       "      <td>=</td>\n",
       "      <td>&lt;</td>\n",
       "      <td>0.010</td>\n",
       "      <td>1.708961e-10</td>\n",
       "    </tr>\n",
       "    <tr>\n",
       "      <th>614337945.xml</th>\n",
       "      <td>t   (41)   = 4.82,    p   &lt; .01</td>\n",
       "      <td>t</td>\n",
       "      <td>=</td>\n",
       "      <td>&lt;</td>\n",
       "      <td>0.010</td>\n",
       "      <td>9.987600e-06</td>\n",
       "    </tr>\n",
       "    <tr>\n",
       "      <th>614337945.xml</th>\n",
       "      <td>t   (41)   = −2.57,    p   &lt; .01</td>\n",
       "      <td>t</td>\n",
       "      <td>=</td>\n",
       "      <td>&lt;</td>\n",
       "      <td>0.010</td>\n",
       "      <td>9.930493e-01</td>\n",
       "    </tr>\n",
       "    <tr>\n",
       "      <th>...</th>\n",
       "      <td>...</td>\n",
       "      <td>...</td>\n",
       "      <td>...</td>\n",
       "      <td>...</td>\n",
       "      <td>...</td>\n",
       "      <td>...</td>\n",
       "    </tr>\n",
       "    <tr>\n",
       "      <th>614300872.xml</th>\n",
       "      <td>F(2, 54)   = 3.98,  p   = .024</td>\n",
       "      <td>f</td>\n",
       "      <td>=</td>\n",
       "      <td>=</td>\n",
       "      <td>0.024</td>\n",
       "      <td>2.441313e-02</td>\n",
       "    </tr>\n",
       "    <tr>\n",
       "      <th>614300872.xml</th>\n",
       "      <td>F(1, 53)   = 4.55,  p   = .015</td>\n",
       "      <td>f</td>\n",
       "      <td>=</td>\n",
       "      <td>=</td>\n",
       "      <td>0.015</td>\n",
       "      <td>3.756755e-02</td>\n",
       "    </tr>\n",
       "    <tr>\n",
       "      <th>614300872.xml</th>\n",
       "      <td>t(38)   = 3.61,  p   &lt; .01</td>\n",
       "      <td>t</td>\n",
       "      <td>=</td>\n",
       "      <td>&lt;</td>\n",
       "      <td>0.010</td>\n",
       "      <td>4.405335e-04</td>\n",
       "    </tr>\n",
       "    <tr>\n",
       "      <th>614300872.xml</th>\n",
       "      <td>t(38)   = 1.80,  p   &lt; .05</td>\n",
       "      <td>t</td>\n",
       "      <td>=</td>\n",
       "      <td>&lt;</td>\n",
       "      <td>0.050</td>\n",
       "      <td>3.990185e-02</td>\n",
       "    </tr>\n",
       "    <tr>\n",
       "      <th>614300872.xml</th>\n",
       "      <td>t(38)   = 1.81,  p   &lt; .05</td>\n",
       "      <td>t</td>\n",
       "      <td>=</td>\n",
       "      <td>&lt;</td>\n",
       "      <td>0.050</td>\n",
       "      <td>3.910491e-02</td>\n",
       "    </tr>\n",
       "  </tbody>\n",
       "</table>\n",
       "<p>212589 rows × 6 columns</p>\n",
       "</div>"
      ],
      "text/plain": [
       "                                       Original Type stat-Sign p-Sign  \\\n",
       "File                                                                    \n",
       "614337945.xml   t   (41)   = 4.10,    p   < .01    t         =      <   \n",
       "614337945.xml  t   (41)   = −3.56,    p   < .01    t         =      <   \n",
       "614337945.xml   t   (41)   = 8.21,    p   < .01    t         =      <   \n",
       "614337945.xml   t   (41)   = 4.82,    p   < .01    t         =      <   \n",
       "614337945.xml  t   (41)   = −2.57,    p   < .01    t         =      <   \n",
       "...                                         ...  ...       ...    ...   \n",
       "614300872.xml    F(2, 54)   = 3.98,  p   = .024    f         =      =   \n",
       "614300872.xml    F(1, 53)   = 4.55,  p   = .015    f         =      =   \n",
       "614300872.xml        t(38)   = 3.61,  p   < .01    t         =      <   \n",
       "614300872.xml        t(38)   = 1.80,  p   < .05    t         =      <   \n",
       "614300872.xml        t(38)   = 1.81,  p   < .05    t         =      <   \n",
       "\n",
       "               Reported p-value  Recalculated p-value  \n",
       "File                                                   \n",
       "614337945.xml             0.010          9.531027e-05  \n",
       "614337945.xml             0.010          9.995224e-01  \n",
       "614337945.xml             0.010          1.708961e-10  \n",
       "614337945.xml             0.010          9.987600e-06  \n",
       "614337945.xml             0.010          9.930493e-01  \n",
       "...                         ...                   ...  \n",
       "614300872.xml             0.024          2.441313e-02  \n",
       "614300872.xml             0.015          3.756755e-02  \n",
       "614300872.xml             0.010          4.405335e-04  \n",
       "614300872.xml             0.050          3.990185e-02  \n",
       "614300872.xml             0.050          3.910491e-02  \n",
       "\n",
       "[212589 rows x 6 columns]"
      ]
     },
     "execution_count": 69,
     "metadata": {},
     "output_type": "execute_result"
    }
   ],
   "source": [
    "df_stats[df_stats.index.isin(list1985)]"
   ]
  },
  {
   "cell_type": "code",
   "execution_count": 82,
   "id": "3b04c1cd",
   "metadata": {},
   "outputs": [
    {
     "data": {
      "text/plain": [
       "1640024140.xml    404\n",
       "2316529621.xml    320\n",
       "2259585220.xml    224\n",
       "1824548299.xml    170\n",
       "614498611.xml     168\n",
       "904195315.xml     161\n",
       "2239317783.xml    148\n",
       "614316377.xml     145\n",
       "2392062798.xml    141\n",
       "2273406296.xml    141\n",
       "1707066777.xml    132\n",
       "614401313.xml     128\n",
       "614314052.xml     126\n",
       "614509854.xml     125\n",
       "1013917884.xml    121\n",
       "614494302.xml     121\n",
       "1753445757.xml    119\n",
       "614489049.xml     118\n",
       "1905844604.xml    117\n",
       "614324338.xml     117\n",
       "1960441284.xml    112\n",
       "1717485855.xml    111\n",
       "614483228.xml     111\n",
       "614375114.xml     110\n",
       "1882273130.xml    109\n",
       "614404391.xml     108\n",
       "614313050.xml     108\n",
       "614322439.xml     107\n",
       "614370933.xml     107\n",
       "2027384737.xml    107\n",
       "2316522056.xml    106\n",
       "1501833957.xml    106\n",
       "2071944745.xml    106\n",
       "614320059.xml     106\n",
       "1888774581.xml    105\n",
       "2192053844.xml    105\n",
       "614476045.xml     104\n",
       "614331212.xml     104\n",
       "2164361865.xml    104\n",
       "614371006.xml     104\n",
       "2387814363.xml    103\n",
       "1666305131.xml    101\n",
       "Name: File, dtype: int64"
      ]
     },
     "execution_count": 82,
     "metadata": {},
     "output_type": "execute_result"
    }
   ],
   "source": [
    "df_stats.index.value_counts()[df_stats.index.value_counts() > 100]"
   ]
  },
  {
   "cell_type": "code",
   "execution_count": 73,
   "id": "8a0d9b7c",
   "metadata": {},
   "outputs": [
    {
     "data": {
      "text/plain": [
       "Journal           Journal of Experimental Psychology: Learning, ...\n",
       "Date Published                                  2015-07-01 00:00:00\n",
       "Year                                                           2015\n",
       "Name: 1640024140.xml, dtype: object"
      ]
     },
     "execution_count": 73,
     "metadata": {},
     "output_type": "execute_result"
    }
   ],
   "source": [
    "meta = pd.read_csv(in_path + \"metadata_all.csv\", index_col=0)\n",
    "meta.loc['1640024140.xml',:]"
   ]
  },
  {
   "cell_type": "code",
   "execution_count": 79,
   "id": "7a96c3c7",
   "metadata": {},
   "outputs": [
    {
     "data": {
      "text/html": [
       "<div>\n",
       "<style scoped>\n",
       "    .dataframe tbody tr th:only-of-type {\n",
       "        vertical-align: middle;\n",
       "    }\n",
       "\n",
       "    .dataframe tbody tr th {\n",
       "        vertical-align: top;\n",
       "    }\n",
       "\n",
       "    .dataframe thead th {\n",
       "        text-align: right;\n",
       "    }\n",
       "</style>\n",
       "<table border=\"1\" class=\"dataframe\">\n",
       "  <thead>\n",
       "    <tr style=\"text-align: right;\">\n",
       "      <th></th>\n",
       "      <th>Original</th>\n",
       "      <th>Type</th>\n",
       "      <th>stat-Sign</th>\n",
       "      <th>p-Sign</th>\n",
       "      <th>Reported p-value</th>\n",
       "      <th>Recalculated p-value</th>\n",
       "    </tr>\n",
       "    <tr>\n",
       "      <th>File</th>\n",
       "      <th></th>\n",
       "      <th></th>\n",
       "      <th></th>\n",
       "      <th></th>\n",
       "      <th></th>\n",
       "      <th></th>\n",
       "    </tr>\n",
       "  </thead>\n",
       "  <tbody>\n",
       "    <tr>\n",
       "      <th>1640024140.xml</th>\n",
       "      <td>F(1, 19) = .241, p = .629</td>\n",
       "      <td>f</td>\n",
       "      <td>=</td>\n",
       "      <td>=</td>\n",
       "      <td>0.629</td>\n",
       "      <td>6.291069e-01</td>\n",
       "    </tr>\n",
       "    <tr>\n",
       "      <th>1640024140.xml</th>\n",
       "      <td>F(2, 38) = 2.82, p = .072</td>\n",
       "      <td>f</td>\n",
       "      <td>=</td>\n",
       "      <td>=</td>\n",
       "      <td>0.072</td>\n",
       "      <td>7.212374e-02</td>\n",
       "    </tr>\n",
       "    <tr>\n",
       "      <th>1640024140.xml</th>\n",
       "      <td>F(3, 57) = 1.23, p = .307</td>\n",
       "      <td>f</td>\n",
       "      <td>=</td>\n",
       "      <td>=</td>\n",
       "      <td>0.307</td>\n",
       "      <td>3.072161e-01</td>\n",
       "    </tr>\n",
       "    <tr>\n",
       "      <th>1640024140.xml</th>\n",
       "      <td>F(4, 76) = .997, p = .415</td>\n",
       "      <td>f</td>\n",
       "      <td>=</td>\n",
       "      <td>=</td>\n",
       "      <td>0.415</td>\n",
       "      <td>4.145328e-01</td>\n",
       "    </tr>\n",
       "    <tr>\n",
       "      <th>1640024140.xml</th>\n",
       "      <td>F(5, 95) = .497, p = .778</td>\n",
       "      <td>f</td>\n",
       "      <td>=</td>\n",
       "      <td>=</td>\n",
       "      <td>0.778</td>\n",
       "      <td>7.777792e-01</td>\n",
       "    </tr>\n",
       "    <tr>\n",
       "      <th>...</th>\n",
       "      <td>...</td>\n",
       "      <td>...</td>\n",
       "      <td>...</td>\n",
       "      <td>...</td>\n",
       "      <td>...</td>\n",
       "      <td>...</td>\n",
       "    </tr>\n",
       "    <tr>\n",
       "      <th>1640024140.xml</th>\n",
       "      <td>F(10, 40) = 4.98, p &lt; .001</td>\n",
       "      <td>f</td>\n",
       "      <td>=</td>\n",
       "      <td>&lt;</td>\n",
       "      <td>0.001</td>\n",
       "      <td>1.112748e-04</td>\n",
       "    </tr>\n",
       "    <tr>\n",
       "      <th>1640024140.xml</th>\n",
       "      <td>F(10, 40) = 2.53, p = .018</td>\n",
       "      <td>f</td>\n",
       "      <td>=</td>\n",
       "      <td>=</td>\n",
       "      <td>0.018</td>\n",
       "      <td>1.822316e-02</td>\n",
       "    </tr>\n",
       "    <tr>\n",
       "      <th>1640024140.xml</th>\n",
       "      <td>F(1, 2) = 112, p = .009</td>\n",
       "      <td>f</td>\n",
       "      <td>=</td>\n",
       "      <td>=</td>\n",
       "      <td>0.009</td>\n",
       "      <td>8.810744e-03</td>\n",
       "    </tr>\n",
       "    <tr>\n",
       "      <th>1640024140.xml</th>\n",
       "      <td>F(13, 26) = 8.81, p &lt; .001</td>\n",
       "      <td>f</td>\n",
       "      <td>=</td>\n",
       "      <td>&lt;</td>\n",
       "      <td>0.001</td>\n",
       "      <td>1.636754e-06</td>\n",
       "    </tr>\n",
       "    <tr>\n",
       "      <th>1640024140.xml</th>\n",
       "      <td>F(13, 26) = 12.2, p &lt; .001</td>\n",
       "      <td>f</td>\n",
       "      <td>=</td>\n",
       "      <td>&lt;</td>\n",
       "      <td>0.001</td>\n",
       "      <td>6.149497e-08</td>\n",
       "    </tr>\n",
       "  </tbody>\n",
       "</table>\n",
       "<p>404 rows × 6 columns</p>\n",
       "</div>"
      ],
      "text/plain": [
       "                                  Original Type stat-Sign p-Sign  \\\n",
       "File                                                               \n",
       "1640024140.xml   F(1, 19) = .241, p = .629    f         =      =   \n",
       "1640024140.xml   F(2, 38) = 2.82, p = .072    f         =      =   \n",
       "1640024140.xml   F(3, 57) = 1.23, p = .307    f         =      =   \n",
       "1640024140.xml   F(4, 76) = .997, p = .415    f         =      =   \n",
       "1640024140.xml   F(5, 95) = .497, p = .778    f         =      =   \n",
       "...                                    ...  ...       ...    ...   \n",
       "1640024140.xml  F(10, 40) = 4.98, p < .001    f         =      <   \n",
       "1640024140.xml  F(10, 40) = 2.53, p = .018    f         =      =   \n",
       "1640024140.xml     F(1, 2) = 112, p = .009    f         =      =   \n",
       "1640024140.xml  F(13, 26) = 8.81, p < .001    f         =      <   \n",
       "1640024140.xml  F(13, 26) = 12.2, p < .001    f         =      <   \n",
       "\n",
       "                Reported p-value  Recalculated p-value  \n",
       "File                                                    \n",
       "1640024140.xml             0.629          6.291069e-01  \n",
       "1640024140.xml             0.072          7.212374e-02  \n",
       "1640024140.xml             0.307          3.072161e-01  \n",
       "1640024140.xml             0.415          4.145328e-01  \n",
       "1640024140.xml             0.778          7.777792e-01  \n",
       "...                          ...                   ...  \n",
       "1640024140.xml             0.001          1.112748e-04  \n",
       "1640024140.xml             0.018          1.822316e-02  \n",
       "1640024140.xml             0.009          8.810744e-03  \n",
       "1640024140.xml             0.001          1.636754e-06  \n",
       "1640024140.xml             0.001          6.149497e-08  \n",
       "\n",
       "[404 rows x 6 columns]"
      ]
     },
     "execution_count": 79,
     "metadata": {},
     "output_type": "execute_result"
    }
   ],
   "source": [
    "df_stats.loc['1640024140.xml',:]"
   ]
  },
  {
   "cell_type": "code",
   "execution_count": null,
   "id": "64d03603",
   "metadata": {},
   "outputs": [],
   "source": []
  },
  {
   "cell_type": "code",
   "execution_count": 77,
   "id": "cf9836f8",
   "metadata": {
    "scrolled": true
   },
   "outputs": [
    {
     "data": {
      "text/plain": [
       "Title             First things first: Similar list length and ou...\n",
       "Date Published                                           2015-07-01\n",
       "Peer Review                                                    True\n",
       "DOI                                              10.1037/xlm0000086\n",
       "Author            ['Cortis, Cathleen', 'Dent, Kevin', 'Kennett, ...\n",
       "Keywords          ['free recall', 'visuospatial memory', 'tactil...\n",
       "Methodology               ['Empirical Study', 'Quantitative Study']\n",
       "References                                                    114.0\n",
       "Journal           Journal of Experimental Psychology: Learning, ...\n",
       "Volume                                                         41.0\n",
       "Issue                                                             4\n",
       "Pages                                                     1179-1214\n",
       "Name: 1640024140.xml, dtype: object"
      ]
     },
     "execution_count": 77,
     "metadata": {},
     "output_type": "execute_result"
    }
   ],
   "source": []
  },
  {
   "cell_type": "markdown",
   "id": "393f60b9",
   "metadata": {},
   "source": [
    "## Analysis 1: p-value distribution over time"
   ]
  },
  {
   "cell_type": "code",
   "execution_count": 10,
   "id": "f9272539",
   "metadata": {},
   "outputs": [
    {
     "data": {
      "text/plain": [
       "186406"
      ]
     },
     "execution_count": 10,
     "metadata": {},
     "output_type": "execute_result"
    }
   ],
   "source": [
    "p_vals_clean_10 = [float(i) for i in list(df_stats['Reported p-value']) if float(i) <= 0.10]\n",
    "len(p_vals_clean_10)"
   ]
  },
  {
   "cell_type": "code",
   "execution_count": 11,
   "id": "75516c56",
   "metadata": {},
   "outputs": [
    {
     "data": {
      "text/plain": [
       "182198"
      ]
     },
     "execution_count": 11,
     "metadata": {},
     "output_type": "execute_result"
    }
   ],
   "source": [
    "p_vals_clean_10_leq = [float(i) for i in list(df_stats[(df_stats['p-Sign'] == '<') | (df_stats['p-Sign'] == '=')]['Reported p-value']) if float(i) <= 0.10]\n",
    "len(p_vals_clean_10_leq)"
   ]
  },
  {
   "cell_type": "markdown",
   "id": "aa10861d",
   "metadata": {},
   "source": [
    "`TODO`: rewrite plot with `sns.displot` and FacetGrid"
   ]
  },
  {
   "cell_type": "code",
   "execution_count": null,
   "id": "bd7af1f7",
   "metadata": {},
   "outputs": [],
   "source": [
    "plt.figure(figsize=(8,5))\n",
    "plt.xlim(0, 0.10)\n",
    "\n",
    "ax = sns.distplot(p_vals_clean_10_leq, hist = True, bins = 60, norm_hist=False,\n",
    "            kde_kws={\"lw\": 3, \"label\": \"KDE\"})\n",
    "\n",
    "# Annotations\n",
    "ax.annotate(f'p=0.001,\\n$n$={p_vals_clean_10_leq.count(0.001)}' +\n",
    "            f'({100*p_vals_clean_10_leq.count(0.001)/len(p_vals_clean_10_leq):.2f}%)',\n",
    "            xy=(0.001, 60), xytext=(0.005, 175),\n",
    "            arrowprops=dict(arrowstyle=\"->\"),\n",
    "            fontsize='large')\n",
    "\n",
    "ax.annotate(f'p=0.01,\\n$n$={p_vals_clean_10_leq.count(0.01)}' +\n",
    "            f'({100*p_vals_clean_10_leq.count(0.01)/len(p_vals_clean_10_leq):.2f}%)',\n",
    "            xy=(0.01, 35), xytext=(0.015, 140),\n",
    "            arrowprops=dict(arrowstyle=\"->\"),\n",
    "            fontsize='large')\n",
    "\n",
    "ax.annotate(f'p=0.05,\\n$n$={p_vals_clean_10_leq.count(0.05)}' +\n",
    "            f'({100*p_vals_clean_10_leq.count(0.05)/len(p_vals_clean_10_leq):.2f}%)',\n",
    "            xy=(0.05, 36), xytext=(0.055, 141),\n",
    "            arrowprops=dict(arrowstyle=\"->\"),\n",
    "            fontsize='large')\n",
    "\n",
    "plt.title(\"Distribution & Kernal Density Estimation for P-Values (All Years, All Journals)\")\n",
    "ax.set_xlabel(\"p-Values\", fontsize = 'x-large')\n",
    "ax.set_ylabel(\"Density\", fontsize = 'x-large')\n",
    "plt.legend();"
   ]
  },
  {
   "cell_type": "code",
   "execution_count": null,
   "id": "50890300",
   "metadata": {},
   "outputs": [],
   "source": []
  }
 ],
 "metadata": {
  "kernelspec": {
   "display_name": "Python 3 (ipykernel)",
   "language": "python",
   "name": "python3"
  },
  "language_info": {
   "codemirror_mode": {
    "name": "ipython",
    "version": 3
   },
   "file_extension": ".py",
   "mimetype": "text/x-python",
   "name": "python",
   "nbconvert_exporter": "python",
   "pygments_lexer": "ipython3",
   "version": "3.9.7"
  }
 },
 "nbformat": 4,
 "nbformat_minor": 5
}
