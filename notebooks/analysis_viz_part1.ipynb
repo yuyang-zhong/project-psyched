{
 "cells": [
  {
   "cell_type": "markdown",
   "metadata": {},
   "source": [
    "# Project Psyched: A Closer Look Into Reproducibility In Psychological Research\n",
    "\n",
    "## Data Analysis & Visualization Script: Part 1 - P-value Trends\n",
    "This script for data analysis and visualization after data has been scraped from TDM Studio. This script only utilizes Corpus 1.\n",
    "\n",
    "Author: Yuyang Zhong (2020). This work is licensed under a [Creative Commons BY-NC-SA 4.0 International\n",
    "License][cc-by].\n",
    "\n",
    "![CC BY-NC-SA 4.0][cc-by-shield]\n",
    "\n",
    "[cc-by]: http://creativecommons.org/licenses/by/4.0/\n",
    "[cc-by-shield]: https://img.shields.io/badge/license-CC--BY--NC--SA%204.0-blue"
   ]
  },
  {
   "cell_type": "markdown",
   "metadata": {},
   "source": [
    "#### Setup & Imports"
   ]
  },
  {
   "cell_type": "code",
   "execution_count": 1,
   "metadata": {},
   "outputs": [],
   "source": [
    "import numpy as np\n",
    "import pandas as pd\n",
    "import matplotlib.pyplot as plt\n",
    "import seaborn as sns\n",
    "import re\n",
    "from scipy import stats"
   ]
  },
  {
   "cell_type": "code",
   "execution_count": 2,
   "metadata": {},
   "outputs": [],
   "source": [
    "in_path = \"../data/\"\n",
    "in_name = 'pvals_corpus1.csv'"
   ]
  },
  {
   "cell_type": "code",
   "execution_count": 3,
   "metadata": {},
   "outputs": [
    {
     "data": {
      "text/html": [
       "<div>\n",
       "<style scoped>\n",
       "    .dataframe tbody tr th:only-of-type {\n",
       "        vertical-align: middle;\n",
       "    }\n",
       "\n",
       "    .dataframe tbody tr th {\n",
       "        vertical-align: top;\n",
       "    }\n",
       "\n",
       "    .dataframe thead th {\n",
       "        text-align: right;\n",
       "    }\n",
       "</style>\n",
       "<table border=\"1\" class=\"dataframe\">\n",
       "  <thead>\n",
       "    <tr style=\"text-align: right;\">\n",
       "      <th></th>\n",
       "      <th>Unnamed: 0</th>\n",
       "      <th>P-Values</th>\n",
       "      <th>Year</th>\n",
       "    </tr>\n",
       "  </thead>\n",
       "  <tbody>\n",
       "    <tr>\n",
       "      <th>0</th>\n",
       "      <td>614337945.xml</td>\n",
       "      <td>&lt; .01</td>\n",
       "      <td>1987</td>\n",
       "    </tr>\n",
       "    <tr>\n",
       "      <th>1</th>\n",
       "      <td>614337945.xml</td>\n",
       "      <td>&lt; .01</td>\n",
       "      <td>1987</td>\n",
       "    </tr>\n",
       "    <tr>\n",
       "      <th>2</th>\n",
       "      <td>614337945.xml</td>\n",
       "      <td>&lt; .01</td>\n",
       "      <td>1987</td>\n",
       "    </tr>\n",
       "    <tr>\n",
       "      <th>3</th>\n",
       "      <td>614337945.xml</td>\n",
       "      <td>&lt; .01</td>\n",
       "      <td>1987</td>\n",
       "    </tr>\n",
       "    <tr>\n",
       "      <th>4</th>\n",
       "      <td>614337945.xml</td>\n",
       "      <td>&lt; .01</td>\n",
       "      <td>1987</td>\n",
       "    </tr>\n",
       "  </tbody>\n",
       "</table>\n",
       "</div>"
      ],
      "text/plain": [
       "      Unnamed: 0 P-Values  Year\n",
       "0  614337945.xml    < .01  1987\n",
       "1  614337945.xml    < .01  1987\n",
       "2  614337945.xml    < .01  1987\n",
       "3  614337945.xml    < .01  1987\n",
       "4  614337945.xml    < .01  1987"
      ]
     },
     "execution_count": 3,
     "metadata": {},
     "output_type": "execute_result"
    }
   ],
   "source": [
    "df = pd.read_csv(in_path + in_name)\n",
    "df.head()"
   ]
  },
  {
   "cell_type": "markdown",
   "metadata": {},
   "source": [
    "#### Total number of p-values"
   ]
  },
  {
   "cell_type": "code",
   "execution_count": 4,
   "metadata": {},
   "outputs": [
    {
     "data": {
      "text/plain": [
       "192896"
      ]
     },
     "execution_count": 4,
     "metadata": {},
     "output_type": "execute_result"
    }
   ],
   "source": [
    "df.dropna(inplace = True)\n",
    "df.shape[0]"
   ]
  },
  {
   "cell_type": "markdown",
   "metadata": {},
   "source": [
    "#### Separate signs and values"
   ]
  },
  {
   "cell_type": "code",
   "execution_count": 5,
   "metadata": {},
   "outputs": [],
   "source": [
    "df['P-Values'].apply(str)\n",
    "\n",
    "df['Sign'] = df['P-Values'].apply(lambda x: re.search(r'([<|=|>])', x)[0])\n",
    "\n",
    "df['p'] = df['P-Values'].apply(lambda x: re.search(r'(\\.\\d+)', x)[0])\n",
    "df['p'] = df['p'].apply(float)"
   ]
  },
  {
   "cell_type": "code",
   "execution_count": 6,
   "metadata": {},
   "outputs": [
    {
     "data": {
      "text/html": [
       "<div>\n",
       "<style scoped>\n",
       "    .dataframe tbody tr th:only-of-type {\n",
       "        vertical-align: middle;\n",
       "    }\n",
       "\n",
       "    .dataframe tbody tr th {\n",
       "        vertical-align: top;\n",
       "    }\n",
       "\n",
       "    .dataframe thead th {\n",
       "        text-align: right;\n",
       "    }\n",
       "</style>\n",
       "<table border=\"1\" class=\"dataframe\">\n",
       "  <thead>\n",
       "    <tr style=\"text-align: right;\">\n",
       "      <th></th>\n",
       "      <th>Unnamed: 0</th>\n",
       "      <th>P-Values</th>\n",
       "      <th>Year</th>\n",
       "      <th>Sign</th>\n",
       "      <th>p</th>\n",
       "    </tr>\n",
       "  </thead>\n",
       "  <tbody>\n",
       "    <tr>\n",
       "      <th>0</th>\n",
       "      <td>614337945.xml</td>\n",
       "      <td>&lt; .01</td>\n",
       "      <td>1987</td>\n",
       "      <td>&lt;</td>\n",
       "      <td>0.01</td>\n",
       "    </tr>\n",
       "    <tr>\n",
       "      <th>1</th>\n",
       "      <td>614337945.xml</td>\n",
       "      <td>&lt; .01</td>\n",
       "      <td>1987</td>\n",
       "      <td>&lt;</td>\n",
       "      <td>0.01</td>\n",
       "    </tr>\n",
       "    <tr>\n",
       "      <th>2</th>\n",
       "      <td>614337945.xml</td>\n",
       "      <td>&lt; .01</td>\n",
       "      <td>1987</td>\n",
       "      <td>&lt;</td>\n",
       "      <td>0.01</td>\n",
       "    </tr>\n",
       "    <tr>\n",
       "      <th>3</th>\n",
       "      <td>614337945.xml</td>\n",
       "      <td>&lt; .01</td>\n",
       "      <td>1987</td>\n",
       "      <td>&lt;</td>\n",
       "      <td>0.01</td>\n",
       "    </tr>\n",
       "    <tr>\n",
       "      <th>4</th>\n",
       "      <td>614337945.xml</td>\n",
       "      <td>&lt; .01</td>\n",
       "      <td>1987</td>\n",
       "      <td>&lt;</td>\n",
       "      <td>0.01</td>\n",
       "    </tr>\n",
       "  </tbody>\n",
       "</table>\n",
       "</div>"
      ],
      "text/plain": [
       "      Unnamed: 0 P-Values  Year Sign     p\n",
       "0  614337945.xml    < .01  1987    <  0.01\n",
       "1  614337945.xml    < .01  1987    <  0.01\n",
       "2  614337945.xml    < .01  1987    <  0.01\n",
       "3  614337945.xml    < .01  1987    <  0.01\n",
       "4  614337945.xml    < .01  1987    <  0.01"
      ]
     },
     "execution_count": 6,
     "metadata": {},
     "output_type": "execute_result"
    }
   ],
   "source": [
    "df.head()"
   ]
  },
  {
   "cell_type": "markdown",
   "metadata": {},
   "source": [
    "#### Total P-Values included for visualization & analysis"
   ]
  },
  {
   "cell_type": "code",
   "execution_count": 7,
   "metadata": {},
   "outputs": [
    {
     "data": {
      "text/plain": [
       "168259"
      ]
     },
     "execution_count": 7,
     "metadata": {},
     "output_type": "execute_result"
    }
   ],
   "source": [
    "p_vals_clean_10 = [float(i) for i in list(df['p']) if float(i) <= 0.10]\n",
    "len(p_vals_clean_10)"
   ]
  },
  {
   "cell_type": "code",
   "execution_count": 8,
   "metadata": {},
   "outputs": [
    {
     "data": {
      "text/plain": [
       "166041"
      ]
     },
     "execution_count": 8,
     "metadata": {},
     "output_type": "execute_result"
    }
   ],
   "source": [
    "p_vals_clean_10_leq = [float(i) for i in list(df[(df['Sign'] == '<') | (df['Sign'] == '=')]['p']) if float(i) <= 0.10]\n",
    "len(p_vals_clean_10_leq)"
   ]
  },
  {
   "cell_type": "markdown",
   "metadata": {},
   "source": [
    "#### Looking at only equal or less than"
   ]
  },
  {
   "cell_type": "code",
   "execution_count": 9,
   "metadata": {},
   "outputs": [
    {
     "name": "stderr",
     "output_type": "stream",
     "text": [
      "/Library/Frameworks/Python.framework/Versions/3.9/lib/python3.9/site-packages/seaborn/distributions.py:2551: FutureWarning: `distplot` is a deprecated function and will be removed in a future version. Please adapt your code to use either `displot` (a figure-level function with similar flexibility) or `histplot` (an axes-level function for histograms).\n",
      "  warnings.warn(msg, FutureWarning)\n"
     ]
    },
    {
     "data": {
      "image/png": "[encoded data removed]",
      "text/plain": [
       "<Figure size 576x360 with 1 Axes>"
      ]
     },
     "metadata": {
      "needs_background": "light"
     },
     "output_type": "display_data"
    }
   ],
   "source": [
    "plt.figure(figsize=(8,5))\n",
    "plt.xlim(0, 0.10)\n",
    "\n",
    "ax = sns.distplot(p_vals_clean_10_leq, hist = True, bins = 60, norm_hist=False,\n",
    "            kde_kws={\"lw\": 3, \"label\": \"KDE\"})\n",
    "\n",
    "# Annotations\n",
    "ax.annotate(f'p=0.001,\\n$n$={p_vals_clean_10_leq.count(0.001)}',\n",
    "            xy=(0.001, 60), xytext=(0.005, 175),\n",
    "            arrowprops=dict(arrowstyle=\"->\"),\n",
    "            fontsize='large')\n",
    "\n",
    "ax.annotate(f'p=0.01,\\n$n$={p_vals_clean_10_leq.count(0.01)}', \n",
    "            xy=(0.01, 35), xytext=(0.015, 140),\n",
    "            arrowprops=dict(arrowstyle=\"->\"),\n",
    "            fontsize='large')\n",
    "\n",
    "ax.annotate(f'p=0.05,\\n$n$={p_vals_clean_10_leq.count(0.05)}', \n",
    "            xy=(0.05, 36), xytext=(0.055, 141),\n",
    "            arrowprops=dict(arrowstyle=\"->\"),\n",
    "            fontsize='large')\n",
    "\n",
    "# plt.title(\"Distribution & Kernal Density Estimation for P-Values (All Years)\")\n",
    "ax.set_xlabel(\"P-Values\", fontsize = 'x-large')\n",
    "ax.set_ylabel(\"Density\", fontsize = 'x-large')\n",
    "plt.legend();"
   ]
  },
  {
   "cell_type": "markdown",
   "metadata": {},
   "source": [
    "#### Year Published"
   ]
  },
  {
   "cell_type": "code",
   "execution_count": 10,
   "metadata": {},
   "outputs": [
    {
     "name": "stderr",
     "output_type": "stream",
     "text": [
      "/Library/Frameworks/Python.framework/Versions/3.9/lib/python3.9/site-packages/seaborn/_decorators.py:36: FutureWarning: Pass the following variable as a keyword arg: x. From version 0.12, the only valid positional argument will be `data`, and passing other arguments without an explicit keyword will result in an error or misinterpretation.\n",
      "  warnings.warn(\n"
     ]
    },
    {
     "data": {
      "image/png": "[encoded data removed]",
      "text/plain": [
       "<Figure size 576x360 with 1 Axes>"
      ]
     },
     "metadata": {
      "needs_background": "light"
     },
     "output_type": "display_data"
    }
   ],
   "source": [
    "plt.figure(figsize=(8,5))\n",
    "ax = sns.countplot(df['Year'])\n",
    "ax.set_xticklabels(ax.get_xticklabels(), rotation=90);"
   ]
  },
  {
   "cell_type": "markdown",
   "metadata": {},
   "source": [
    "## Proportion of p-values of interest\n",
    "#### Grouping by 5-year periods"
   ]
  },
  {
   "cell_type": "code",
   "execution_count": 11,
   "metadata": {},
   "outputs": [],
   "source": [
    "def year_group(y):\n",
    "    y = int(y)\n",
    "    if y <= 1990:\n",
    "        return '1985-1990'\n",
    "    if y <= 1995:\n",
    "        return '1991-1995'\n",
    "    if y <= 2000:\n",
    "        return '1996-2000'\n",
    "    if y <= 2005:\n",
    "        return '2001-2005'\n",
    "    if y <= 2010:\n",
    "        return '2006-2010'\n",
    "    if y <= 2015:\n",
    "        return '2011-2015'\n",
    "    else:\n",
    "        return '2016-2020'\n",
    "    \n",
    "df['Year Group'] = df['Year'].apply(year_group)\n",
    "df_year_group = df.groupby('Year Group')['p'].apply(list).to_frame()"
   ]
  },
  {
   "cell_type": "code",
   "execution_count": 12,
   "metadata": {
    "scrolled": true
   },
   "outputs": [],
   "source": [
    "def prop_001(lst):\n",
    "    return (lst.count(0.001)) / len(lst)\n",
    "\n",
    "def prop_01(lst):\n",
    "    return (lst.count(0.01)) / len(lst)\n",
    "\n",
    "def prop_05(lst):\n",
    "    return (lst.count(0.05)) / len(lst)\n",
    "\n",
    "df_year_group['0.001'] = df_year_group['p'].apply(prop_001)\n",
    "df_year_group['0.01'] = df_year_group['p'].apply(prop_01)\n",
    "df_year_group['0.05'] = df_year_group['p'].apply(prop_05)"
   ]
  },
  {
   "cell_type": "code",
   "execution_count": 13,
   "metadata": {},
   "outputs": [
    {
     "data": {
      "text/html": [
       "<div>\n",
       "<style scoped>\n",
       "    .dataframe tbody tr th:only-of-type {\n",
       "        vertical-align: middle;\n",
       "    }\n",
       "\n",
       "    .dataframe tbody tr th {\n",
       "        vertical-align: top;\n",
       "    }\n",
       "\n",
       "    .dataframe thead th {\n",
       "        text-align: right;\n",
       "    }\n",
       "</style>\n",
       "<table border=\"1\" class=\"dataframe\">\n",
       "  <thead>\n",
       "    <tr style=\"text-align: right;\">\n",
       "      <th></th>\n",
       "      <th>p</th>\n",
       "      <th>0.001</th>\n",
       "      <th>0.01</th>\n",
       "      <th>0.05</th>\n",
       "    </tr>\n",
       "    <tr>\n",
       "      <th>Year Group</th>\n",
       "      <th></th>\n",
       "      <th></th>\n",
       "      <th></th>\n",
       "      <th></th>\n",
       "    </tr>\n",
       "  </thead>\n",
       "  <tbody>\n",
       "    <tr>\n",
       "      <th>1985-1990</th>\n",
       "      <td>[0.01, 0.01, 0.01, 0.01, 0.01, 0.05, 0.05, 0.0...</td>\n",
       "      <td>0.223122</td>\n",
       "      <td>0.192721</td>\n",
       "      <td>0.216732</td>\n",
       "    </tr>\n",
       "    <tr>\n",
       "      <th>1991-1995</th>\n",
       "      <td>[0.001, 0.001, 0.001, 0.001, 0.001, 0.001, 0.0...</td>\n",
       "      <td>0.237924</td>\n",
       "      <td>0.182708</td>\n",
       "      <td>0.194591</td>\n",
       "    </tr>\n",
       "    <tr>\n",
       "      <th>1996-2000</th>\n",
       "      <td>[0.05, 0.001, 0.001, 0.02, 0.001, 0.02, 0.04, ...</td>\n",
       "      <td>0.233889</td>\n",
       "      <td>0.199688</td>\n",
       "      <td>0.220902</td>\n",
       "    </tr>\n",
       "    <tr>\n",
       "      <th>2001-2005</th>\n",
       "      <td>[0.0048, 0.382, 0.001, 0.001, 0.025, 0.382, 0....</td>\n",
       "      <td>0.208519</td>\n",
       "      <td>0.228262</td>\n",
       "      <td>0.218896</td>\n",
       "    </tr>\n",
       "    <tr>\n",
       "      <th>2006-2010</th>\n",
       "      <td>[0.05, 0.01, 0.01, 0.11, 0.08, 0.89, 0.05, 0.0...</td>\n",
       "      <td>0.238822</td>\n",
       "      <td>0.168297</td>\n",
       "      <td>0.188916</td>\n",
       "    </tr>\n",
       "    <tr>\n",
       "      <th>2011-2015</th>\n",
       "      <td>[1e-05, 0.27, 0.63, 0.13, 0.0003, 0.86, 0.48, ...</td>\n",
       "      <td>0.257860</td>\n",
       "      <td>0.133252</td>\n",
       "      <td>0.118251</td>\n",
       "    </tr>\n",
       "    <tr>\n",
       "      <th>2016-2020</th>\n",
       "      <td>[0.0002, 0.001, 0.0002, 0.001, 0.001, 0.022, 0...</td>\n",
       "      <td>0.352895</td>\n",
       "      <td>0.067051</td>\n",
       "      <td>0.064920</td>\n",
       "    </tr>\n",
       "  </tbody>\n",
       "</table>\n",
       "</div>"
      ],
      "text/plain": [
       "                                                            p     0.001  \\\n",
       "Year Group                                                                \n",
       "1985-1990   [0.01, 0.01, 0.01, 0.01, 0.01, 0.05, 0.05, 0.0...  0.223122   \n",
       "1991-1995   [0.001, 0.001, 0.001, 0.001, 0.001, 0.001, 0.0...  0.237924   \n",
       "1996-2000   [0.05, 0.001, 0.001, 0.02, 0.001, 0.02, 0.04, ...  0.233889   \n",
       "2001-2005   [0.0048, 0.382, 0.001, 0.001, 0.025, 0.382, 0....  0.208519   \n",
       "2006-2010   [0.05, 0.01, 0.01, 0.11, 0.08, 0.89, 0.05, 0.0...  0.238822   \n",
       "2011-2015   [1e-05, 0.27, 0.63, 0.13, 0.0003, 0.86, 0.48, ...  0.257860   \n",
       "2016-2020   [0.0002, 0.001, 0.0002, 0.001, 0.001, 0.022, 0...  0.352895   \n",
       "\n",
       "                0.01      0.05  \n",
       "Year Group                      \n",
       "1985-1990   0.192721  0.216732  \n",
       "1991-1995   0.182708  0.194591  \n",
       "1996-2000   0.199688  0.220902  \n",
       "2001-2005   0.228262  0.218896  \n",
       "2006-2010   0.168297  0.188916  \n",
       "2011-2015   0.133252  0.118251  \n",
       "2016-2020   0.067051  0.064920  "
      ]
     },
     "execution_count": 13,
     "metadata": {},
     "output_type": "execute_result"
    }
   ],
   "source": [
    "df_year_group"
   ]
  },
  {
   "cell_type": "code",
   "execution_count": 29,
   "metadata": {},
   "outputs": [
    {
     "data": {
      "image/png": "[encoded data removed]",
      "text/plain": [
       "<Figure size 576x360 with 1 Axes>"
      ]
     },
     "metadata": {
      "needs_background": "light"
     },
     "output_type": "display_data"
    }
   ],
   "source": [
    "plt.figure(figsize=(8,5))\n",
    "\n",
    "for p in ['0.001', '0.01', '0.05']:\n",
    "    ax=sns.lineplot(x=df_year_group.index, y=p, data=df_year_group, label=f'p={p}')\n",
    "    \n",
    "# Annotations\n",
    "ax.annotate('Point of Inflection',\n",
    "            xy=(3, 0.23), xytext=(2.3, 0.3),\n",
    "            arrowprops=dict(arrowstyle=\"->\"),\n",
    "            fontsize='large')\n",
    "\n",
    "ax.set_xlabel(\"Year\", fontsize = 'x-large')\n",
    "ax.set_ylabel(\"Proportion\", fontsize = 'x-large');\n",
    "plt.legend();"
   ]
  },
  {
   "cell_type": "markdown",
   "metadata": {},
   "source": [
    "#### Grouping before and after 2015"
   ]
  },
  {
   "cell_type": "code",
   "execution_count": 15,
   "metadata": {},
   "outputs": [],
   "source": [
    "def year_group_before_after(y):\n",
    "    y = int(y)\n",
    "    if y <= 2015:\n",
    "        return '1985-2015'\n",
    "    else:\n",
    "        return '2016-2020'\n",
    "    \n",
    "df['Year Group 2'] = df['Year'].apply(year_group_before_after)\n",
    "df_year_group_ba = df.groupby('Year Group 2')['p'].apply(list).to_frame()"
   ]
  },
  {
   "cell_type": "code",
   "execution_count": 16,
   "metadata": {},
   "outputs": [
    {
     "name": "stderr",
     "output_type": "stream",
     "text": [
      "/Library/Frameworks/Python.framework/Versions/3.9/lib/python3.9/site-packages/seaborn/distributions.py:2551: FutureWarning: `distplot` is a deprecated function and will be removed in a future version. Please adapt your code to use either `displot` (a figure-level function with similar flexibility) or `kdeplot` (an axes-level function for kernel density plots).\n",
      "  warnings.warn(msg, FutureWarning)\n",
      "/Library/Frameworks/Python.framework/Versions/3.9/lib/python3.9/site-packages/seaborn/distributions.py:2551: FutureWarning: `distplot` is a deprecated function and will be removed in a future version. Please adapt your code to use either `displot` (a figure-level function with similar flexibility) or `kdeplot` (an axes-level function for kernel density plots).\n",
      "  warnings.warn(msg, FutureWarning)\n"
     ]
    },
    {
     "data": {
      "image/png": "[encoded data removed]",
      "text/plain": [
       "<Figure size 576x360 with 1 Axes>"
      ]
     },
     "metadata": {
      "needs_background": "light"
     },
     "output_type": "display_data"
    }
   ],
   "source": [
    "plt.figure(figsize=(8,5))\n",
    "plt.xlim(0, 0.10)\n",
    "for i in df_year_group_ba.index:\n",
    "    vals = df_year_group_ba.loc[i][0]\n",
    "    vals = [float(y) for y in vals if float(y) < 0.10]\n",
    "    ax = sns.distplot(vals, hist = False, bins = 60, label = f'{i} (n={len(vals)})')\n",
    "\n",
    "# plt.title(\"Distribution & Kernal Density Estimation for P-Values (All Years)\")\n",
    "ax.set_xlabel(\"P-Values\", fontsize = 'x-large')\n",
    "ax.set_ylabel(\"Density\", fontsize = 'x-large')\n",
    "plt.legend();"
   ]
  },
  {
   "cell_type": "markdown",
   "metadata": {},
   "source": [
    "## Proportion of Significant p-values in an article, over time"
   ]
  },
  {
   "cell_type": "code",
   "execution_count": 19,
   "metadata": {},
   "outputs": [],
   "source": [
    "df_year = df.groupby('Year')['p'].apply(list).to_frame()"
   ]
  },
  {
   "cell_type": "code",
   "execution_count": 26,
   "metadata": {},
   "outputs": [
    {
     "data": {
      "text/html": [
       "<div>\n",
       "<style scoped>\n",
       "    .dataframe tbody tr th:only-of-type {\n",
       "        vertical-align: middle;\n",
       "    }\n",
       "\n",
       "    .dataframe tbody tr th {\n",
       "        vertical-align: top;\n",
       "    }\n",
       "\n",
       "    .dataframe thead th {\n",
       "        text-align: right;\n",
       "    }\n",
       "</style>\n",
       "<table border=\"1\" class=\"dataframe\">\n",
       "  <thead>\n",
       "    <tr style=\"text-align: right;\">\n",
       "      <th></th>\n",
       "      <th>p</th>\n",
       "      <th>Prop Sig</th>\n",
       "    </tr>\n",
       "    <tr>\n",
       "      <th>Year</th>\n",
       "      <th></th>\n",
       "      <th></th>\n",
       "    </tr>\n",
       "  </thead>\n",
       "  <tbody>\n",
       "    <tr>\n",
       "      <th>1985</th>\n",
       "      <td>[0.001, 0.05, 0.05, 0.05, 0.05, 0.05, 0.05, 0....</td>\n",
       "      <td>0.867523</td>\n",
       "    </tr>\n",
       "    <tr>\n",
       "      <th>1986</th>\n",
       "      <td>[0.05, 0.001, 0.05, 0.05, 0.01, 0.01, 0.001, 0...</td>\n",
       "      <td>0.861587</td>\n",
       "    </tr>\n",
       "    <tr>\n",
       "      <th>1987</th>\n",
       "      <td>[0.01, 0.01, 0.01, 0.01, 0.01, 0.05, 0.05, 0.0...</td>\n",
       "      <td>0.871233</td>\n",
       "    </tr>\n",
       "    <tr>\n",
       "      <th>1988</th>\n",
       "      <td>[0.001, 0.001, 0.001, 0.001, 0.001, 0.002, 0.0...</td>\n",
       "      <td>0.858369</td>\n",
       "    </tr>\n",
       "    <tr>\n",
       "      <th>1989</th>\n",
       "      <td>[0.0001, 0.001, 0.01, 0.001, 0.001, 0.002, 0.0...</td>\n",
       "      <td>0.854691</td>\n",
       "    </tr>\n",
       "  </tbody>\n",
       "</table>\n",
       "</div>"
      ],
      "text/plain": [
       "                                                      p  Prop Sig\n",
       "Year                                                             \n",
       "1985  [0.001, 0.05, 0.05, 0.05, 0.05, 0.05, 0.05, 0....  0.867523\n",
       "1986  [0.05, 0.001, 0.05, 0.05, 0.01, 0.01, 0.001, 0...  0.861587\n",
       "1987  [0.01, 0.01, 0.01, 0.01, 0.01, 0.05, 0.05, 0.0...  0.871233\n",
       "1988  [0.001, 0.001, 0.001, 0.001, 0.001, 0.002, 0.0...  0.858369\n",
       "1989  [0.0001, 0.001, 0.01, 0.001, 0.001, 0.002, 0.0...  0.854691"
      ]
     },
     "execution_count": 26,
     "metadata": {},
     "output_type": "execute_result"
    }
   ],
   "source": [
    "def prop_sig(lst):\n",
    "    if len(lst) == 0:\n",
    "        return 0\n",
    "    return sum(np.array(lst) <= 0.05) / len(lst)\n",
    "\n",
    "df_year['Prop Sig'] = df_year['p'].apply(prop_sig)\n",
    "df_year.head()"
   ]
  },
  {
   "cell_type": "code",
   "execution_count": 25,
   "metadata": {},
   "outputs": [
    {
     "data": {
      "image/png": "[encoded data removed]",
      "text/plain": [
       "<Figure size 576x360 with 1 Axes>"
      ]
     },
     "metadata": {
      "needs_background": "light"
     },
     "output_type": "display_data"
    }
   ],
   "source": [
    "plt.figure(figsize=(8,5))\n",
    "ax=sns.regplot(x=df_year.index, y='Prop Sig', data=df_year, order=2, \n",
    "               x_jitter=1.5,\n",
    "               y_jitter=0.1,\n",
    "               scatter_kws={'alpha': 0.02},\n",
    "               line_kws={\"lw\": 3, 'label':'Quadratic Fit'})\n",
    "\n",
    "ax.set_xlabel(\"Year\", fontsize = 'x-large')\n",
    "ax.set_ylabel(\"Proportion\", fontsize = 'x-large')\n",
    "plt.legend();"
   ]
  },
  {
   "cell_type": "markdown",
   "metadata": {},
   "source": [
    "### Proportion of articles with majority non-significant p-values (>50% non-significant)"
   ]
  },
  {
   "cell_type": "code",
   "execution_count": null,
   "metadata": {},
   "outputs": [],
   "source": [
    "df['Major Non-Sig'] = df['Prop Sig'] <= 0.5\n",
    "df_nonsig = df.groupby('Year').sum().drop('Prop Sig', axis=1)\n",
    "df_nonsig['Prop Non-Sig'] = df_nonsig['Major Non-Sig'] / df_nonsig['Count']"
   ]
  },
  {
   "cell_type": "code",
   "execution_count": null,
   "metadata": {},
   "outputs": [],
   "source": [
    "plt.figure(figsize=(8,5))\n",
    "ax=sns.regplot(x=df_nonsig.index, y='Major Non-Sig', data=df_nonsig, order=2,\n",
    "               scatter_kws={'alpha': 0.3},\n",
    "               line_kws={\"lw\": 3, 'label':'Quadratic Fit'})\n",
    "\n",
    "ax.set_xlabel(\"Year\", fontsize = 'x-large')\n",
    "ax.set_ylabel(\"Number of Articles\", fontsize = 'x-large')\n",
    "plt.legend();"
   ]
  }
 ],
 "metadata": {
  "kernelspec": {
   "display_name": "Python 3",
   "language": "python",
   "name": "python3"
  },
  "language_info": {
   "codemirror_mode": {
    "name": "ipython",
    "version": 3
   },
   "file_extension": ".py",
   "mimetype": "text/x-python",
   "name": "python",
   "nbconvert_exporter": "python",
   "pygments_lexer": "ipython3",
   "version": "3.9.0"
  }
 },
 "nbformat": 4,
 "nbformat_minor": 2
}
